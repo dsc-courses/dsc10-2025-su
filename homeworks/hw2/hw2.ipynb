{
 "cells": [
  {
   "cell_type": "markdown",
   "metadata": {},
   "source": [
    "# Homework 2: DataFrames, Data Visualization, and Functions\n",
    "\n",
    "## Due Friday, July 11th at 11:59PM\n",
    "\n",
    "Welcome to Homework 2! This week, we will cover DataFrame manipulations, making visualizations, and defining functions. You can find additional help on these topics in  [BPD 6, 9-12](https://notes.dsc10.com/01-getting_started/functions-defining.html) in the `babypandas` notes and [CIT 7-7.3](https://inferentialthinking.com/chapters/07/Visualization.html) in the textbook."
   ]
  },
  {
   "cell_type": "markdown",
   "metadata": {},
   "source": [
    "### Instructions\n",
    "\n",
    "Remember to start early and submit often.\n",
    "\n",
    "**Important**: For homeworks, the `otter` tests don't usually tell you that your answer is correct. More often, they help catch careless mistakes. It's up to you to ensure that your answer is correct. If you're not sure, ask someone (not for the answer, but for some guidance about your approach). These are great questions for office hours (see the schedule on the [Calendar](https://dsc10.com/calendar)) or Campuswire. Directly sharing answers is not okay, but discussing problems with the course staff or with other students is encouraged. \n",
    "\n",
    "**Please do not use for-loops for any questions in this homework.** If you don't know what a for-loop is, don't worry – we haven't covered them yet. But if you do know what they are and are wondering why it's not OK to use them, it is because loops in Python are slow, and looping over arrays and DataFrames should usually be avoided.\n",
    "\n",
    "<font color=red>**🚨 If you create a data visualization that is too cluttered to read or takes more than a few seconds to generate, this is a sign you are doing something wrong. Do not submit code like this, or the Gradescope autograder may fail to grade your entire assignment. It's better to leave a question blank than to submit code that will cause the autograder to fail on your full assignment.**</font>"
   ]
  },
  {
   "cell_type": "code",
   "execution_count": null,
   "metadata": {},
   "outputs": [],
   "source": [
    "# Please don't change this cell, but do make sure to run it\n",
    "import babypandas as bpd\n",
    "import numpy as np\n",
    "\n",
    "import matplotlib.pyplot as plt\n",
    "plt.style.use('ggplot')\n",
    "plt.rcParams['figure.figsize'] = (10, 5)\n",
    "\n",
    "import otter\n",
    "grader = otter.Notebook()"
   ]
  },
  {
   "cell_type": "markdown",
   "metadata": {},
   "source": [
    "## 1. Gotta Catch 'Em All! ✅"
   ]
  },
  {
   "cell_type": "markdown",
   "metadata": {},
   "source": [
    "<center><img src=\"./images/pokemon.png\" width=400/></center>\n",
    "\n",
    "Pokémon is an immensely popular video game and animation franchise that originated in Japan in 1996. Pokémon, short for Pocket Monsters, come in a variety of types.  In this problem, we will investigate how attack and defense statistics vary among these types.\n",
    "\n",
    "The file named `pokedex.csv` in the `data/` directory ([source](https://www.kaggle.com/datasets/cristobalmitchell/pokedex)) has a row for each Pokémon, and the following columns.\n",
    "\n",
    "|Column|Description|\n",
    "|------|-----------|\n",
    "|`'pokedex_number'`|The Pokémon's identification number in an encyclopedia of all Pokémon.|\n",
    "|`'name'`|The name of the Pokémon.|\n",
    "|`'type'`|The categorical type of the Pokémon, for example, \"normal\", \"fire\", \"water\". Each Pokémon is limited to one primary type for simplicity.|\n",
    "|`'hp'`| Hit points. Indicates how much damage a Pokémon can tolerate.|\n",
    "|`'attack'`|The Pokémon's power for physical moves.|\n",
    "|`'defense'`|The Pokémon's ability to prevent damage from attacks.|\n",
    "|`'sp_attack'`|Special attack. The Pokémon's power for special offensive moves.|\n",
    "|`'sp_defense'`|Special defense. The Pokémon's ability to prevent damage from special attacks.|\n",
    "|`'is_legendary'`|Indicates whether the Pokémon is legendary. Legendary Pokémon are rare and powerful. 1 means legendary, 0 means not.|\n",
    "|`'generation'`|A group of Pokémon that are compatible for Pokémon games. Ranges from 1 to 8.|"
   ]
  },
  {
   "cell_type": "markdown",
   "metadata": {},
   "source": [
    "First, we read the data in as a DataFrame."
   ]
  },
  {
   "cell_type": "code",
   "execution_count": null,
   "metadata": {},
   "outputs": [],
   "source": [
    "pokedex = bpd.read_csv('data/pokedex.csv')\n",
    "pokedex"
   ]
  },
  {
   "cell_type": "markdown",
   "metadata": {},
   "source": [
    "Let's explore particular columns to get to know the data a little better. The `.describe()` method gives us some useful information about a column. Try it out on the `'name'` column."
   ]
  },
  {
   "cell_type": "code",
   "execution_count": null,
   "metadata": {},
   "outputs": [],
   "source": [
    "pokedex.get('name').describe()"
   ]
  },
  {
   "cell_type": "markdown",
   "metadata": {},
   "source": [
    "We learn that this column has 898 values, all of which are unique, and as a result the most frequent name appears only once.\n",
    "\n",
    "If we use this same method on the `'type'` column, we'll see that although there are 898 entries, only 18 of them are unique. There are many Pokémon with the same `'type'`. The most common `'type'` is `'water'`; there are 123 such Pokémon. "
   ]
  },
  {
   "cell_type": "code",
   "execution_count": null,
   "metadata": {},
   "outputs": [],
   "source": [
    "pokedex.get('type').describe()"
   ]
  },
  {
   "cell_type": "markdown",
   "metadata": {},
   "source": [
    "**Question 1.1.** Which would be a better choice of index for this dataset, `'name'` or `'type'`? Set the index of `pokedex` to whichever of these two attributes makes more sense."
   ]
  },
  {
   "cell_type": "code",
   "execution_count": null,
   "metadata": {},
   "outputs": [],
   "source": [
    "pokedex = ...\n",
    "pokedex"
   ]
  },
  {
   "cell_type": "code",
   "execution_count": null,
   "metadata": {
    "deletable": false,
    "editable": false
   },
   "outputs": [],
   "source": [
    "grader.check(\"q1_1\")"
   ]
  },
  {
   "cell_type": "markdown",
   "metadata": {},
   "source": [
    "**Question 1.2.** Assign `weakest_attack` and `weakest_defense` to the names of the weakest Pokémon in terms of attack and defense respectively.\n",
    "\n",
    "Similarly, assign `strongest_attack` and `strongest_defense` to the names of the strongest Pokémon in terms of attack and defense respectively.\n",
    "\n",
    "In the case of a tie, choose any one of the equally weakest or equally strongest Pokémon."
   ]
  },
  {
   "cell_type": "code",
   "execution_count": null,
   "metadata": {},
   "outputs": [],
   "source": [
    "weakest_attack = ...\n",
    "print('Weakest attack:', weakest_attack)\n",
    "\n",
    "strongest_attack = ...\n",
    "print('Strongest attack:', strongest_attack)\n",
    "\n",
    "weakest_defense = ...\n",
    "print('Weakest defense:', weakest_defense)\n",
    "\n",
    "strongest_defense = ...\n",
    "print('Strongest defense:', strongest_defense)"
   ]
  },
  {
   "cell_type": "code",
   "execution_count": null,
   "metadata": {
    "deletable": false,
    "editable": false
   },
   "outputs": [],
   "source": [
    "grader.check(\"q1_2\")"
   ]
  },
  {
   "cell_type": "markdown",
   "metadata": {},
   "source": [
    "**Question 1.3.** Typically at the beginning of a game, the Pokémon trainer (the player) has to make a choice between `'water'`, `'grass'`, and `'fire'` Pokémon. Make a DataFrame named `water_grass_fire` containing only Pokémon of these `'type'`s. All columns of `pokedex` should be included."
   ]
  },
  {
   "cell_type": "code",
   "execution_count": null,
   "metadata": {
    "scrolled": true
   },
   "outputs": [],
   "source": [
    "water_grass_fire = ...\n",
    "water_grass_fire"
   ]
  },
  {
   "cell_type": "code",
   "execution_count": null,
   "metadata": {
    "deletable": false,
    "editable": false
   },
   "outputs": [],
   "source": [
    "grader.check(\"q1_3\")"
   ]
  },
  {
   "cell_type": "markdown",
   "metadata": {},
   "source": [
    "**Question 1.4.** Create a DataFrame named `legendary_pokemon`, indexed by `'type'` and having one column, called `'num_legendary'`, that contains the number of legendary Pokémon of each `'type'`. Only include `'type'`s with at least one legendary Pokémon of that `'type'`.\n",
    "\n",
    "***Hint:*** You will need to [drop and rename columns](https://dsc10.com/resources/lectures/lec06/lec06.html#Adjusting-columns-with-.assign,-.drop,-and-.get). Instead of using `.drop`, you may want to use `.get` [with a list](https://dsc10.com/resources/lectures/lec06/lec06.html#Two-ways-to-.get) containing the name of a single column."
   ]
  },
  {
   "cell_type": "code",
   "execution_count": null,
   "metadata": {},
   "outputs": [],
   "source": [
    "legendary_pokemon = ...\n",
    "legendary_pokemon"
   ]
  },
  {
   "cell_type": "code",
   "execution_count": null,
   "metadata": {
    "deletable": false,
    "editable": false
   },
   "outputs": [],
   "source": [
    "grader.check(\"q1_4\")"
   ]
  },
  {
   "cell_type": "markdown",
   "metadata": {},
   "source": [
    "**Question 1.5.** Notice that the `legendary_pokemon` DataFrame has fewer than 18 rows, though the original data had 18 unique `'type'`s; this means that there are certain `'type'`s that don't have any legendary Pokémon. Determine which `'type'`s don't have any legendary Pokémon, and assign `non_legendary` to an array of these `'type'`s. \n",
    "\n",
    "***Hint:*** You will want to group the Pokémon by `'type'`. What aggregation method could you use to identify when there are no legendary Pokémon of a given type?"
   ]
  },
  {
   "cell_type": "code",
   "execution_count": null,
   "metadata": {},
   "outputs": [],
   "source": [
    "non_legendary = ...\n",
    "non_legendary"
   ]
  },
  {
   "cell_type": "code",
   "execution_count": null,
   "metadata": {
    "deletable": false,
    "editable": false
   },
   "outputs": [],
   "source": [
    "grader.check(\"q1_5\")"
   ]
  },
  {
   "cell_type": "markdown",
   "metadata": {},
   "source": [
    "**Question 1.6.** Suppose that as a Pokémon trainer, you want to assemble a strong team of Pokémon of various `'type'`s. Create a DataFrame called `mean_stats`, indexed by `'type'`, that contains the average statistics for Pokémon of each type. `mean_stats` should have five columns: `'hp'`, `'attack'`, `'defense'`, `'sp_attack'`, and `'sp_defense'`."
   ]
  },
  {
   "cell_type": "code",
   "execution_count": null,
   "metadata": {},
   "outputs": [],
   "source": [
    "mean_stats = ...\n",
    "mean_stats"
   ]
  },
  {
   "cell_type": "code",
   "execution_count": null,
   "metadata": {
    "deletable": false,
    "editable": false
   },
   "outputs": [],
   "source": [
    "grader.check(\"q1_6\")"
   ]
  },
  {
   "cell_type": "markdown",
   "metadata": {},
   "source": [
    "**Question 1.7.** A strong Pokémon is one that has high values for `'hp'`, `'attack'`, `'defense'`, `'sp_attack'`, and `'sp_defense'`. Suppose that you develop a formula to summarize all of these stats into a single number called strength. The strength of a Pokémon is a weighted average of these five stats, where each stat is weighted as follows:\n",
    "\n",
    "- `hp`: 30%\n",
    "- `attack`: 20%\n",
    "- `defense`: 20%\n",
    "- `sp_attack`: 15%\n",
    "- `sp_defense`: 15%\n",
    "\n",
    "Define a function called `calculate_strength` that takes as input the `'pokedex_number'` of a Pokémon and returns its strength, as defined above."
   ]
  },
  {
   "cell_type": "code",
   "execution_count": null,
   "metadata": {},
   "outputs": [],
   "source": [
    "def calculate_strength(number):\n",
    "    ..."
   ]
  },
  {
   "cell_type": "code",
   "execution_count": null,
   "metadata": {
    "deletable": false,
    "editable": false
   },
   "outputs": [],
   "source": [
    "grader.check(\"q1_7\")"
   ]
  },
  {
   "cell_type": "markdown",
   "metadata": {},
   "source": [
    "**Question 1.8.** Create a DataFrame called `with_strength` that contains all the columns of `pokedex` plus one more called `'strength'`, containing the strength of each Pokémon as defined in the previous question. Order the rows in descending order of `'strength'`."
   ]
  },
  {
   "cell_type": "code",
   "execution_count": null,
   "metadata": {},
   "outputs": [],
   "source": [
    "with_strength = ...\n",
    "with_strength"
   ]
  },
  {
   "cell_type": "code",
   "execution_count": null,
   "metadata": {
    "deletable": false,
    "editable": false
   },
   "outputs": [],
   "source": [
    "grader.check(\"q1_8\")"
   ]
  },
  {
   "cell_type": "markdown",
   "metadata": {},
   "source": [
    "**Question 1.9.** Considering that Pokémon `generation`s were developed in order, we might wonder how Pokémon have evolved over time. Draw a line plot that shows the trend, across generations, of the median strength of Pokémon from each generation. This kind of plot might help you answer the question \"*Are later-generation Pokémon stronger than earlier-generation Pokémon?*\"\n",
    "\n",
    "***Hint:*** You'll have to do some DataFrame manipulation before you can create the line plot."
   ]
  },
  {
   "cell_type": "markdown",
   "metadata": {
    "deletable": false,
    "editable": false
   },
   "source": [
    "<!-- BEGIN QUESTION -->\n",
    "\n",
    "<!--\n",
    "BEGIN QUESTION\n",
    "name: q1_9\n",
    "manual: true\n",
    "-->"
   ]
  },
  {
   "cell_type": "code",
   "execution_count": null,
   "metadata": {},
   "outputs": [],
   "source": [
    "# Create your line plot here.\n",
    "..."
   ]
  },
  {
   "cell_type": "markdown",
   "metadata": {},
   "source": [
    "<!-- END QUESTION -->\n",
    "\n",
    "\n",
    "\n",
    "## 2. Iconic Video Games 🎮🕹️\n",
    "\n",
    "🌳 What do Minecraft trees and math tests have in common? 🌳\n",
    "\n",
    "<img src='./images/minecraft_tree.png' width=250/>\n",
    "\n",
    "*They have square roots!*\n",
    "\n",
    "In this section, we'll work with a datset of iconic video games from 1980 to 2023, such as *Minecraft*, *The Legend of Zelda*, *Among Us*, *Fire Emblem*, and *Undertale*. The dataset was sourced from [Kaggle](https://www.kaggle.com/datasets/arnabchaki/popular-video-games-1980-2023/data) and is loaded in below in the DataFrame `games_raw`."
   ]
  },
  {
   "cell_type": "code",
   "execution_count": null,
   "metadata": {},
   "outputs": [],
   "source": [
    "games_raw = bpd.read_csv('data/games.csv')\n",
    "games_raw"
   ]
  },
  {
   "cell_type": "markdown",
   "metadata": {},
   "source": [
    "**Question 2.1.** Let's start by cleaning up the `'Release Date'` column in the `games_raw` DataFrame. Most `'Release Date'`s are actually dates (e.g. `'Feb 04, 2014'`), but a few values are `'releases on TBD'`. Filter out the rows with `'releases on TBD'`, and assign `games` to the resulting DataFrame."
   ]
  },
  {
   "cell_type": "code",
   "execution_count": null,
   "metadata": {},
   "outputs": [],
   "source": [
    "games = ...\n",
    "games"
   ]
  },
  {
   "cell_type": "code",
   "execution_count": null,
   "metadata": {
    "deletable": false,
    "editable": false
   },
   "outputs": [],
   "source": [
    "grader.check(\"q2_1\")"
   ]
  },
  {
   "cell_type": "markdown",
   "metadata": {},
   "source": [
    "**Question 2.2.** Next, define a function called `extract_year_as_int`, which takes as input a string formatted like `'Dec 10, 2019'`, and outputs the year as an `int`. For example, the function evaluated on the string `'Dec 10, 2019'` should return the int `2019`.\n",
    "\n",
    "***Hint:*** The [string method](https://dsc-courses.github.io/bpd-reference/docs/documentation/string-methods/str.split()) `.split()` will be helpful here."
   ]
  },
  {
   "cell_type": "code",
   "execution_count": null,
   "metadata": {},
   "outputs": [],
   "source": [
    "# Define your function here.\n",
    "...\n",
    "\n",
    "# Test case for your reference. Feel free to test out more!\n",
    "example = extract_year_as_int('April 21, 2025')\n",
    "example "
   ]
  },
  {
   "cell_type": "code",
   "execution_count": null,
   "metadata": {
    "deletable": false,
    "editable": false
   },
   "outputs": [],
   "source": [
    "grader.check(\"q2_2\")"
   ]
  },
  {
   "cell_type": "markdown",
   "metadata": {},
   "source": [
    "**Question 2.3.** Use `extract_year_as_int` to add a column called `'Year'` to the `games` DataFrame. The `'Year'` column should contain the release year of each game as an integer. Then, drop the `'Release Date'` column. Make sure to \"save\" your changes in the `games` DataFrame! "
   ]
  },
  {
   "cell_type": "code",
   "execution_count": null,
   "metadata": {},
   "outputs": [],
   "source": [
    "games = ...\n",
    "games"
   ]
  },
  {
   "cell_type": "code",
   "execution_count": null,
   "metadata": {
    "deletable": false,
    "editable": false
   },
   "outputs": [],
   "source": [
    "grader.check(\"q2_3\")"
   ]
  },
  {
   "cell_type": "markdown",
   "metadata": {},
   "source": [
    "### Aside: conditional statements\n",
    "\n",
    "**Before proceeding to Question 2.4, make sure to read this aside.**\n",
    "\n",
    "In Lecture 10, we'll learn about conditional statements. Conditional statements, or `if`-statements, allow your code to behave differently on different inputs, based on whether a condition is met. Conditional statements look like this:\n",
    "\n",
    "```python\n",
    "if <condition>:\n",
    "    <expression>\n",
    "else:\n",
    "    <expression>\n",
    "```\n",
    "For example, the function below prints a statement that describes the relationship of the input to the number 5. "
   ]
  },
  {
   "cell_type": "code",
   "execution_count": null,
   "metadata": {},
   "outputs": [],
   "source": [
    "def greater_than_5(var):\n",
    "    if var > 5:\n",
    "        print(var, 'is greater than 5.')\n",
    "    else:\n",
    "        print(var, 'is less than or equal to 5.')\n",
    "\n",
    "greater_than_5(16)\n",
    "greater_than_5(2)"
   ]
  },
  {
   "cell_type": "markdown",
   "metadata": {},
   "source": [
    "**Question 2.4.** The `'Plays'` and `'Wishlist'` columns contain strings instead of numbers. Any value greater than 1000 is written in the thousands with a letter `'K'`. For example, `'3.6K'` is used to represent the number `3600`. \n",
    "\n",
    "Complete the implementation of the function `get_number`, which takes as input a string, `number_str`, which may or may not be written with a `'K'` for thousands, and outputs the corresponding number as an `int`. For example, on the input `'1.8K'`, the function should return the int `1800`.\n",
    "\n",
    "***Hint:*** The [string method](https://dsc-courses.github.io/bpd-reference/docs/documentation/string-methods/str.strip()) `.strip()` will be helpful here."
   ]
  },
  {
   "cell_type": "code",
   "execution_count": null,
   "metadata": {},
   "outputs": [],
   "source": [
    "def get_number(number_str):\n",
    "    # if number_str contains 'K'\n",
    "    if 'K' in number_str:\n",
    "        ...\n",
    "    # if number_str does not contain 'K'\n",
    "    else:\n",
    "        ...\n",
    "\n",
    "# Test cases for your reference. Feel free to test out more!\n",
    "print(get_number('3.6K')) # Should print 3600\n",
    "print(get_number('602')) # Should print 602"
   ]
  },
  {
   "cell_type": "code",
   "execution_count": null,
   "metadata": {
    "deletable": false,
    "editable": false
   },
   "outputs": [],
   "source": [
    "grader.check(\"q2_4\")"
   ]
  },
  {
   "cell_type": "markdown",
   "metadata": {},
   "source": [
    "**Question 2.5.** Use your `get_number` function to update the `'Plays'` and `'Wishlist'` columns in `games` so that they contain only `int`s. "
   ]
  },
  {
   "cell_type": "code",
   "execution_count": null,
   "metadata": {},
   "outputs": [],
   "source": [
    "games = ...\n",
    "games"
   ]
  },
  {
   "cell_type": "code",
   "execution_count": null,
   "metadata": {
    "deletable": false,
    "editable": false
   },
   "outputs": [],
   "source": [
    "grader.check(\"q2_5\")"
   ]
  },
  {
   "cell_type": "markdown",
   "metadata": {},
   "source": [
    "Let's turn our attention to the `'Genres'` column of `games`. Each value in the `'Genres'` column appears to be formatted as a list of genres. For example:"
   ]
  },
  {
   "cell_type": "code",
   "execution_count": null,
   "metadata": {},
   "outputs": [],
   "source": [
    "games.get('Genres').iloc[0]"
   ]
  },
  {
   "cell_type": "markdown",
   "metadata": {},
   "source": [
    "But if we look closely, we see that each value in the `'Genres'` column is in fact a string!"
   ]
  },
  {
   "cell_type": "code",
   "execution_count": null,
   "metadata": {},
   "outputs": [],
   "source": [
    "type(games.get('Genres').iloc[0])"
   ]
  },
  {
   "cell_type": "markdown",
   "metadata": {},
   "source": [
    "How can we identify which games belong to a certain genre, say `'RPG'` (role-playing game)? \n",
    "\n",
    "This is much harder than identifying the games that are produced by the `'Developer'` of `'Nintendo'`, because we can identify Nintendo games by checking whether each element of the `'Developer'` column is exactly equal to the string `'Nintendo'`."
   ]
  },
  {
   "cell_type": "code",
   "execution_count": null,
   "metadata": {},
   "outputs": [],
   "source": [
    "games.get('Developer') == 'Nintendo'"
   ]
  },
  {
   "cell_type": "markdown",
   "metadata": {},
   "source": [
    "However, we cannot simply check whether each element of the `'Genre'` column is exactly equal to `'RPG'`, since games belonging to the genre `'RPG'` do not have the exact string `'RPG'` as their value in the `'Genre'` column. Instead, their value in the `'Genre'` column **contains** the string `'RPG'` as part of a longer string, such as `\"['Adventure', 'RPG']\"` or `\"['Adventure', 'RPG', 'Strategy', 'Tactical', 'Turn Based Strategy']\"`.\n",
    "\n",
    "Instead of checking for equality, we need a way to identify whether each string in the `'Genre'` column contains the string `'RPG'` as part of it. To do this, we'll use a Series method called `.str.contains()`. This method takes as input a string and returns a sequence of True and False values corresponding to whether that string is a substring of each element in the Series. So we can check whether each video game in `games` belongs to the genre `'RPG'` as follows."
   ]
  },
  {
   "cell_type": "code",
   "execution_count": null,
   "metadata": {},
   "outputs": [],
   "source": [
    "games.get('Genres').str.contains('RPG')"
   ]
  },
  {
   "cell_type": "markdown",
   "metadata": {},
   "source": [
    "Note that `.str.contains()` is a Series method because it is called on a Series, or a single column of a DataFrame. It is particularly designed for Series of strings, hence the inclusion of `.str` in the name of the method. There are many other Series methods designed to work with Series of string, such as `str.lower()` which lowercases each string in a Series. Here's an example."
   ]
  },
  {
   "cell_type": "code",
   "execution_count": null,
   "metadata": {},
   "outputs": [],
   "source": [
    "games.get('Developer').str.lower()"
   ]
  },
  {
   "cell_type": "markdown",
   "metadata": {},
   "source": [
    "Check out the [reference sheet](https://dsc-courses.github.io/bpd-reference/docs/documentation/series-methods/#string) to learn more about these string Series methods."
   ]
  },
  {
   "cell_type": "markdown",
   "metadata": {},
   "source": [
    "**Question 2.6.** Set `top_rpg` to a DataFrame of the five most-played games in the `'RPG'` genre."
   ]
  },
  {
   "cell_type": "code",
   "execution_count": null,
   "metadata": {
    "scrolled": true
   },
   "outputs": [],
   "source": [
    "top_rpg = ...\n",
    "top_rpg"
   ]
  },
  {
   "cell_type": "code",
   "execution_count": null,
   "metadata": {
    "deletable": false,
    "editable": false
   },
   "outputs": [],
   "source": [
    "grader.check(\"q2_6\")"
   ]
  },
  {
   "cell_type": "markdown",
   "metadata": {},
   "source": [
    "`'RPG'` is just one of many different video game genres. The array `all_genres` includes all the genres that appear in `games`."
   ]
  },
  {
   "cell_type": "code",
   "execution_count": null,
   "metadata": {},
   "outputs": [],
   "source": [
    "all_genres = np.array(['Adventure', 'Arcade', 'Brawler', 'Card & Board Game', 'Fighting', 'Indie', 'MOBA', \n",
    "              'Music', 'Pinball', 'Platform', 'Point-and-Click', 'Puzzle', 'Quiz/Trivia', 'RPG', \n",
    "              'Racing', 'Real Time Strategy', 'Shooter', 'Simulator', 'Sport', 'Strategy', 'Tactical', \n",
    "              'Turn Based Strategy', 'Visual Novel'])"
   ]
  },
  {
   "cell_type": "markdown",
   "metadata": {},
   "source": [
    "What are the most-played games for other genres?\n",
    "\n",
    "**Question 2.7.**  Complete the implementation of the function `most_played`, which takes as input an integer `n` and a `genre`, which can be any genre from the array `all_genres`. The function should return a DataFrame containing the `n` rows of `games` from the given `genre` that have the highest number of `Plays`. If there are fewer than `n` games in the given `genre`, then the function should return a DataFrame with all such games, which will have fewer than `n` rows.\n",
    "\n",
    "***Hint:*** Set `n_capped` to be the number of rows your output DataFrame should have. This number will be equal to `n` when there are at least `n` games of the given `genre`, but it will be less than `n` otherwise. You can define `n_capped` in **one line** with the help of a built-in Python function. You do not need to use an `if`-statement!"
   ]
  },
  {
   "cell_type": "code",
   "execution_count": null,
   "metadata": {},
   "outputs": [],
   "source": [
    "def most_played(genre, n):   \n",
    "    n_capped = ...\n",
    "    top_n = ...\n",
    "    return top_n\n",
    "\n",
    "# Test case for your reference. Feel free to test out more!\n",
    "most_played('Pinball', 5) # Should return a DataFrame with one row for \"Pokémon Pinball: Ruby & Sapphire.\""
   ]
  },
  {
   "cell_type": "code",
   "execution_count": null,
   "metadata": {
    "deletable": false,
    "editable": false
   },
   "outputs": [],
   "source": [
    "grader.check(\"q2_7\")"
   ]
  },
  {
   "cell_type": "markdown",
   "metadata": {},
   "source": [
    "**Question 2.8.** Let's look at the distribution of `'Rating'` for Nintendo games with more than 5,000 `Plays`. Plot a density histogram that shows the distribution of `'Rating'` for the Nintendo games with more than 5,000 `Plays`. Use bins with a width of `0.5` in your histogram.\n",
    "\n",
    "**Note:** Assume that Nintendo games are created by `'Nintendo'`, not any of its subsidiaries."
   ]
  },
  {
   "cell_type": "markdown",
   "metadata": {
    "deletable": false,
    "editable": false
   },
   "source": [
    "<!-- BEGIN QUESTION -->\n",
    "\n",
    "<!--\n",
    "BEGIN QUESTION\n",
    "name: q2_8\n",
    "manual: True\n",
    "-->"
   ]
  },
  {
   "cell_type": "code",
   "execution_count": null,
   "metadata": {},
   "outputs": [],
   "source": [
    "# Create your histogram here.\n",
    "..."
   ]
  },
  {
   "cell_type": "markdown",
   "metadata": {},
   "source": [
    "<!-- END QUESTION -->\n",
    "\n",
    "\n",
    "\n",
    "**Question 2.9.** Without writing any code, can you estimate the proportion of such games that have a rating between 3.5 (inclusive) and 4 (exclusive)? Assign your answer to `prop_between` as a `float` between 0 and 1. "
   ]
  },
  {
   "cell_type": "code",
   "execution_count": null,
   "metadata": {},
   "outputs": [],
   "source": [
    "prop_between = ...\n",
    "prop_between"
   ]
  },
  {
   "cell_type": "code",
   "execution_count": null,
   "metadata": {
    "deletable": false,
    "editable": false
   },
   "outputs": [],
   "source": [
    "grader.check(\"q2_9\")"
   ]
  },
  {
   "cell_type": "markdown",
   "metadata": {},
   "source": [
    "**Question 2.10.** Create an appropriate plot that shows the relationship between `'Rating'` and `'Plays'` for all games in `games`."
   ]
  },
  {
   "cell_type": "markdown",
   "metadata": {
    "deletable": false,
    "editable": false
   },
   "source": [
    "<!-- BEGIN QUESTION -->\n",
    "\n",
    "<!--\n",
    "BEGIN QUESTION\n",
    "name: q2_10\n",
    "manual: True\n",
    "-->"
   ]
  },
  {
   "cell_type": "code",
   "execution_count": null,
   "metadata": {},
   "outputs": [],
   "source": [
    "# Create your plot here.\n",
    "..."
   ]
  },
  {
   "cell_type": "markdown",
   "metadata": {},
   "source": [
    "<!-- END QUESTION -->\n",
    "\n",
    "\n",
    "\n",
    "**Question 2.11.** Without writing any code, use the plot you created to determine the number of games with more than 10,000 `'Plays'` and a `'Rating'` less than 3. Assign your answer to the variable `popular_bad`."
   ]
  },
  {
   "cell_type": "code",
   "execution_count": null,
   "metadata": {},
   "outputs": [],
   "source": [
    "popular_bad = ..."
   ]
  },
  {
   "cell_type": "code",
   "execution_count": null,
   "metadata": {
    "deletable": false,
    "editable": false
   },
   "outputs": [],
   "source": [
    "grader.check(\"q2_11\")"
   ]
  },
  {
   "cell_type": "markdown",
   "metadata": {},
   "source": [
    "**Question 2.12.** Let's take a look at *The Legend of Zelda* games. Assign `zelda_by_year` to a DataFrame indexed by `'Year'` with one column only, called `'Number'`, that contains the number of games released that year with `'The Legend of Zelda'` in the title. "
   ]
  },
  {
   "cell_type": "code",
   "execution_count": null,
   "metadata": {},
   "outputs": [],
   "source": [
    "zelda_by_year = ...\n",
    "zelda_by_year"
   ]
  },
  {
   "cell_type": "code",
   "execution_count": null,
   "metadata": {
    "deletable": false,
    "editable": false
   },
   "outputs": [],
   "source": [
    "grader.check(\"q2_12\")"
   ]
  },
  {
   "cell_type": "markdown",
   "metadata": {},
   "source": [
    "**Question 2.13.** What is the best way to visualize the data in `zelda_by_year`? Let's find out. Run the following cells to see two few different ways of visualizing the data."
   ]
  },
  {
   "cell_type": "code",
   "execution_count": null,
   "metadata": {},
   "outputs": [],
   "source": [
    "zelda_by_year.plot(kind='line', y='Number'); "
   ]
  },
  {
   "cell_type": "code",
   "execution_count": null,
   "metadata": {},
   "outputs": [],
   "source": [
    "zelda_by_year.plot(kind='barh', y='Number'); "
   ]
  },
  {
   "cell_type": "markdown",
   "metadata": {},
   "source": [
    "Which of these statements are true based on your observation of `zelda_by_year`, the line plot, and the bar chart? Assign your answer as a list to `true_statements`. \n",
    "1. The index of `zelda_by_year` contains games from every year between 1986 and 2023, inclusive.\n",
    "1. The index of `zelda_by_year` only contains the years in which *The Legend of Zelda* released a new game.\n",
    "1. *The Legend of Zelda* released a new game in 1989.\n",
    "1. A line plot is better than a bar chart for visualizing the data in `zelda_by_year`.\n",
    "1. A bar chart is better than a line plot for visualizing the data in `zelda_by_year`.\n",
    "1. A histogram would be the best way to visualize the distribution of years in which *The Legend of Zelda* released a new game."
   ]
  },
  {
   "cell_type": "code",
   "execution_count": null,
   "metadata": {},
   "outputs": [],
   "source": [
    "true_statements = ..."
   ]
  },
  {
   "cell_type": "code",
   "execution_count": null,
   "metadata": {
    "deletable": false,
    "editable": false
   },
   "outputs": [],
   "source": [
    "grader.check(\"q2_13\")"
   ]
  },
  {
   "cell_type": "markdown",
   "metadata": {},
   "source": [
    "Great work! To wrap up this section, here are some [fun facts](https://www.thegamer.com/the-legend-of-zelda-fun-facts-trivia/#zelda-isn-rsquo-t-in-every-game) about *The Legend of Zelda*:\n",
    "<img src='./images/zelda.jpg' width=650/>\n",
    "\n",
    "- The *Legend of Zelda* is one of many iconic series created by Nintendo legend Shigeru Miyamoto, who also created *Super Mario*, *Donkey Kong*, *Star Fox*, and *Pikmin*.\n",
    "- Zelda is named after Zelda Fitzgerald, the wife of F. Scott Fitzgerald, author of *The Great Gatsby*.\n",
    "- Link's design was inspired by *Peter Pan*, with green color schemes and pointed elf-like ears.\n",
    "- Despite the name *The Legend of Zelda*, not every game involves Princess Zelda."
   ]
  },
  {
   "cell_type": "markdown",
   "metadata": {},
   "source": [
    "## 3. Final Stretch 🧘‍♀️"
   ]
  },
  {
   "cell_type": "markdown",
   "metadata": {},
   "source": [
    "Suppose we have a DataFrame named `data` with two numerical columns, `'x'` and `'y'`. Consider the following scatter plot, which was generated by calling `data.plot(kind='scatter', x='x', y='y')`:\n",
    "\n",
    "<img src='images/q3_scatter.png' width=400/>\n",
    "\n",
    "Now consider these two histograms:\n",
    "\n",
    "<center>\n",
    "    <table><tr>\n",
    "        <td><center><b>Histogram A</b><br> <img src='images/q3_hist_one.png' width=400></center> </td>\n",
    "        <td><center><b>Histogram B</b><br> <img src='images/q3_hist_two.png' width=400></center> </td>\n",
    "    </tr></table>\n",
    "</center>"
   ]
  },
  {
   "cell_type": "markdown",
   "metadata": {},
   "source": [
    "**Question 3.1.** Which of the following lines of code generated Histogram A? Assign either `1`, `2`, `3`, or `4` to `which_code`.\n",
    "\n",
    " 1. `data.plot(kind='hist', density=False, y='x')`\n",
    " 2. `data.plot(kind='hist', density=False, y='y')` \n",
    " 3. `data.plot(kind='hist', density=True, y='x')`\n",
    " 4. `data.plot(kind='hist', density=True, y='y')`"
   ]
  },
  {
   "cell_type": "code",
   "execution_count": null,
   "metadata": {},
   "outputs": [],
   "source": [
    "which_code = ..."
   ]
  },
  {
   "cell_type": "code",
   "execution_count": null,
   "metadata": {
    "deletable": false,
    "editable": false
   },
   "outputs": [],
   "source": [
    "grader.check(\"q3_1\")"
   ]
  },
  {
   "cell_type": "markdown",
   "metadata": {},
   "source": [
    "**Question 3.2.** Suppose we run this block of code:\n",
    "\n",
    "```py\n",
    "new_data = bpd.DataFrame().assign(\n",
    "    x = data.get('x') / 5,\n",
    "    y = data.get('y')\n",
    ")\n",
    "```\n",
    "    \n",
    "We then run \n",
    "\n",
    "`new_data.plot(kind='hist', density=True, y='x')`.\n",
    "\n",
    "How will this histogram look compared to the histogram created by \n",
    "\n",
    "`data.plot(kind='hist', density=True, y='x')`, \n",
    "\n",
    "assuming both histograms are drawn on the same axes? Assign `histogram_difference` to either 1, 2, 3, or 4, corresponding to your choice.\n",
    "\n",
    "1. The `new_data` histogram will be wider and taller than the `data` histogram.\n",
    "2. The `new_data` histogram will be wider and shorter than the `data` histogram.\n",
    "3. The `new_data` histogram will be narrower and taller than the `data` histogram.\n",
    "4. The `new_data` histogram will be narrower and shorter than the `data` histogram.\n",
    "\n",
    "_*Hint*_: Look at the end of [Lecture 7](https://dsc10.com/resources/lectures/lec07/lec07.html#Plotting-overlaid-histograms) for an example of two histograms drawn on the same axes."
   ]
  },
  {
   "cell_type": "code",
   "execution_count": null,
   "metadata": {},
   "outputs": [],
   "source": [
    "histogram_difference = ..."
   ]
  },
  {
   "cell_type": "code",
   "execution_count": null,
   "metadata": {
    "deletable": false,
    "editable": false
   },
   "outputs": [],
   "source": [
    "grader.check(\"q3_2\")"
   ]
  },
  {
   "cell_type": "markdown",
   "metadata": {},
   "source": [
    "**Question 3.3.** Below, we show Histogram B again.\n",
    "\n",
    "<img src=\"./images/q3_hist_two.png\" width=400/>\n",
    "\n",
    "What **percent** of values in Histogram B are between -4 (inclusive) and -2 (exclusive)? While we cannot answer this question exactly since we do not know where the bins start and end, we can still approximate the answer. Assign the variable `percent_between` to a number 1 through 5, corresponding to the closest answer.\n",
    "\n",
    "1. 10% \n",
    "2. 13% \n",
    "3. 27%\n",
    "4. 35%\n",
    "5. 48%"
   ]
  },
  {
   "cell_type": "code",
   "execution_count": null,
   "metadata": {},
   "outputs": [],
   "source": [
    "percent_between = ..."
   ]
  },
  {
   "cell_type": "code",
   "execution_count": null,
   "metadata": {
    "deletable": false,
    "editable": false
   },
   "outputs": [],
   "source": [
    "grader.check(\"q3_3\")"
   ]
  },
  {
   "cell_type": "markdown",
   "metadata": {},
   "source": [
    "## Finish Line: Almost there, but make sure to follow the steps below to submit! 🏁\n",
    "\n",
    "**_Citations:_** Did you use any generative artificial intelligence tools to assist you on this assignment? If so, please state, for each tool you used, the name of the tool (ex. ChatGPT) and the problem(s) in this assignment where you used the tool for help."
   ]
  },
  {
   "cell_type": "markdown",
   "metadata": {},
   "source": [
    "<hr style='color:Maroon;background-color:Maroon;border:0 none; height: 3px;'>\n",
    "\n",
    "Please cite tools here.\n",
    "\n",
    "<hr style='color:Maroon;background-color:Maroon;border:0 none; height: 3px;'>"
   ]
  },
  {
   "cell_type": "markdown",
   "metadata": {},
   "source": [
    "To submit your assignment:\n",
    "\n",
    "1. Select `Kernel -> Restart & Run All` to ensure that you have executed all cells, including the test cells. \n",
    "1. Read through the notebook to make sure all cells ran and all tests passed.\n",
    "1. Run the cell below to run all tests, and make sure that they all pass.\n",
    "1. Download your notebook using `File -> Download as -> Notebook (.ipynb)`, then upload your notebook to Gradescope.\n",
    "1. Stick around while the Gradescope autograder grades your work. Make sure you see that all tests have passed on Gradescope.\n",
    "1. Check that you have a confirmation email from Gradescope and save it as proof of your submission. \n",
    "\n",
    "With homeworks, unlike with labs, the grade you see on Gradescope is **not your final score**. We will run correctness tests after the assignment's due date has passed."
   ]
  },
  {
   "cell_type": "code",
   "execution_count": null,
   "metadata": {
    "scrolled": true
   },
   "outputs": [],
   "source": [
    "grader.check_all()"
   ]
  }
 ],
 "metadata": {
  "kernelspec": {
   "display_name": "Python 3 (ipykernel)",
   "language": "python",
   "name": "python3"
  },
  "language_info": {
   "codemirror_mode": {
    "name": "ipython",
    "version": 3
   },
   "file_extension": ".py",
   "mimetype": "text/x-python",
   "name": "python",
   "nbconvert_exporter": "python",
   "pygments_lexer": "ipython3",
   "version": "3.11.9"
  },
  "toc": {
   "base_numbering": 1,
   "nav_menu": {},
   "number_sections": true,
   "sideBar": true,
   "skip_h1_title": false,
   "title_cell": "Table of Contents",
   "title_sidebar": "Contents",
   "toc_cell": false,
   "toc_position": {},
   "toc_section_display": true,
   "toc_window_display": false
  }
 },
 "nbformat": 4,
 "nbformat_minor": 4
}
