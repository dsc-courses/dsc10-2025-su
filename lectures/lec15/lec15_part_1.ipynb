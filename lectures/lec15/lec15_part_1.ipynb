{
 "cells": [
  {
   "cell_type": "code",
   "execution_count": 1,
   "metadata": {
    "slideshow": {
     "slide_type": "skip"
    }
   },
   "outputs": [],
   "source": [
    "# Run this cell to set up packages for lecture.\n",
    "\n",
    "from lec15_part_1_imports import *"
   ]
  },
  {
   "attachments": {},
   "cell_type": "markdown",
   "metadata": {
    "slideshow": {
     "slide_type": "slide"
    }
   },
   "source": [
    "# Lecture 15, Part 1 –  Permutation Testing\n",
    "\n",
    "## DSC 10, Spring 2025"
   ]
  },
  {
   "cell_type": "markdown",
   "metadata": {
    "slideshow": {
     "slide_type": "slide"
    }
   },
   "source": [
    "### Agenda\n",
    "\n",
    "- Permutation testing.\n",
    "    - Are the distributions of weight for babies 👶 born to smoking mothers vs. non-smoking mothers different?\n",
    "    - Are the distributions of pressure drops for footballs 🏈 from two different teams different?"
   ]
  },
  {
   "attachments": {},
   "cell_type": "markdown",
   "metadata": {},
   "source": [
    "## Review: Hypothesis Testing\n",
    "\n",
    "From the Brennan Center for Justice:\n",
    "> Every 10 years, states redraw their legislative and congressional district lines following the census. Because communities change, redistricting is critical to our democracy: maps must be redrawn to ensure that districts are equally populated, comply with laws such as the Voting Rights Act, and are otherwise representative of a state’s population. Done right, redistricting is a chance to create maps that, in the words of John Adams, are an “exact portrait, a miniature” of the people as a whole.\n",
    "\n",
    "A **partisan gerrymander** seeks to arrange electoral districts in such a way to benefit the political party in control of drawing the map (e.g. in a state where Republican voters outnumber Democrats 55% to 45%, a map drawn to yield a legislature that is 65% Republican and 35% Democrat, is likely the result of partisan gerrymandering.)\n",
    "\n",
    "One simple test used in practice: the difference between the statewide vote share of a party and the proportion of seats they won. \n",
    "\n",
    "Let's use the 2012 House of Representatives Elections in Pennsylvania as an example. \n",
    "Democrats and Republicans each had ~50% of the vote share. Democrats won 5 seats and Republicans won 13. \n",
    "\n"
   ]
  },
  {
   "attachments": {},
   "cell_type": "markdown",
   "metadata": {},
   "source": [
    "Null hypothesis: ????\n",
    "\n",
    "Alternative hypothesis: ????\n",
    "\n",
    "Test statistic ??"
   ]
  },
  {
   "cell_type": "code",
   "execution_count": 2,
   "metadata": {},
   "outputs": [
    {
     "data": {
      "text/plain": [
       "array([9, 9])"
      ]
     },
     "execution_count": 2,
     "metadata": {},
     "output_type": "execute_result"
    }
   ],
   "source": [
    "# One experiment\n"
   ]
  },
  {
   "cell_type": "code",
   "execution_count": 7,
   "metadata": {},
   "outputs": [],
   "source": [
    "# simulate many experiments\n"
   ]
  },
  {
   "cell_type": "code",
   "execution_count": 6,
   "metadata": {},
   "outputs": [
    {
     "data": {
      "text/plain": [
       "(array([  45.,  116., 1026., 1192., 3544., 1644., 1949.,  319.,  159.,\n",
       "           6.]),\n",
       " array([ 2. ,  3.5,  5. ,  6.5,  8. ,  9.5, 11. , 12.5, 14. , 15.5, 17. ]),\n",
       " <BarContainer object of 10 artists>)"
      ]
     },
     "execution_count": 6,
     "metadata": {},
     "output_type": "execute_result"
    },
    {
     "data": {
      "image/png": "[encoded data removed]",
      "text/plain": [
       "<Figure size 640x480 with 1 Axes>"
      ]
     },
     "metadata": {},
     "output_type": "display_data"
    }
   ],
   "source": [
    "# visualize\n",
    "plt.hist(results, bins=10)"
   ]
  },
  {
   "cell_type": "code",
   "execution_count": 10,
   "metadata": {},
   "outputs": [
    {
     "data": {
      "text/plain": [
       "0.0455"
      ]
     },
     "execution_count": 10,
     "metadata": {},
     "output_type": "execute_result"
    }
   ],
   "source": [
    "# p-value\n"
   ]
  },
  {
   "cell_type": "markdown",
   "metadata": {
    "slideshow": {
     "slide_type": "slide"
    }
   },
   "source": [
    "## Permutation testing"
   ]
  },
  {
   "cell_type": "markdown",
   "metadata": {
    "slideshow": {
     "slide_type": "slide"
    }
   },
   "source": [
    "### Setting"
   ]
  },
  {
   "cell_type": "markdown",
   "metadata": {
    "slideshow": {
     "slide_type": "fragment"
    }
   },
   "source": [
    "- Standard hypothesis testing answers questions of the form:\n",
    "\n",
    "> I have a population distribution, and I have **one sample**. Does this sample look like it was drawn from the population?"
   ]
  },
  {
   "cell_type": "markdown",
   "metadata": {
    "slideshow": {
     "slide_type": "fragment"
    }
   },
   "source": [
    "- Permutation testing answers questions of the form:\n",
    "\n",
    "> I have **two samples**, but no information about any population distributions. Do these samples look like they were drawn from the same population?"
   ]
  },
  {
   "cell_type": "markdown",
   "metadata": {
    "slideshow": {
     "slide_type": "fragment"
    }
   },
   "source": [
    "- Standard hypothesis involves a known population distribution, but permutation testing involves an **unknown population distribution**. How do you determine whether two samples came from the same population distribution, if you don't know what that population distribution is?"
   ]
  },
  {
   "cell_type": "markdown",
   "metadata": {
    "slideshow": {
     "slide_type": "slide"
    }
   },
   "source": [
    "## Example: Smoking and birth weight 👶"
   ]
  },
  {
   "cell_type": "markdown",
   "metadata": {
    "slideshow": {
     "slide_type": "slide"
    }
   },
   "source": [
    "### Smoking and birth weight"
   ]
  },
  {
   "cell_type": "markdown",
   "metadata": {
    "slideshow": {
     "slide_type": "fragment"
    }
   },
   "source": [
    "- **Question:** Is there a significant difference in the weights of babies born to mothers who smoked vs. babies born to mothers who didn't smoke?"
   ]
  },
  {
   "cell_type": "markdown",
   "metadata": {
    "slideshow": {
     "slide_type": "fragment"
    }
   },
   "source": [
    "- To approach this question, we'll look at data from a research study.\n",
    "    - Each row corresponds to a baby.\n",
    "    - There are two groups of babies: those whose mothers smoked (\"smokers' babies\"), and those whose mothers didn't smoke (\"non-smokers' babies\")."
   ]
  },
  {
   "cell_type": "code",
   "execution_count": null,
   "metadata": {
    "slideshow": {
     "slide_type": "-"
    }
   },
   "outputs": [],
   "source": [
    "babies = bpd.read_csv('data/baby.csv').get(['Maternal Smoker', 'Birth Weight'])\n",
    "babies"
   ]
  },
  {
   "cell_type": "markdown",
   "metadata": {},
   "source": [
    "Note: The `'Birth Weight'` column is measured in ounces; 100 ounces = 6.25 pounds."
   ]
  },
  {
   "cell_type": "markdown",
   "metadata": {
    "slideshow": {
     "slide_type": "slide"
    }
   },
   "source": [
    "### Visualizing the distribution of each group"
   ]
  },
  {
   "cell_type": "code",
   "execution_count": null,
   "metadata": {},
   "outputs": [],
   "source": [
    "smokers = babies[babies.get('Maternal Smoker')]\n",
    "non_smokers = babies[babies.get('Maternal Smoker') == False]"
   ]
  },
  {
   "cell_type": "code",
   "execution_count": null,
   "metadata": {
    "slideshow": {
     "slide_type": "-"
    }
   },
   "outputs": [],
   "source": [
    "fig, ax = plt.subplots()\n",
    "baby_bins = np.arange(50, 200, 5)\n",
    "non_smokers.plot(kind='hist', density=True, ax=ax, alpha=0.75, bins=baby_bins, ec='w', figsize=(10, 5))\n",
    "smokers.plot(kind='hist', density=True, ax=ax, alpha=0.75, bins=baby_bins, ec='w')\n",
    "plt.legend(['Maternal Smoker = False', 'Maternal Smoker = True'])\n",
    "plt.xlabel('Birth Weight');"
   ]
  },
  {
   "cell_type": "code",
   "execution_count": null,
   "metadata": {
    "scrolled": true
   },
   "outputs": [],
   "source": [
    "babies.groupby('Maternal Smoker').mean()"
   ]
  },
  {
   "cell_type": "code",
   "execution_count": null,
   "metadata": {},
   "outputs": [],
   "source": [
    "diff_in_means = (babies.groupby('Maternal Smoker').mean().get('Birth Weight').loc[False] - \n",
    "                 babies.groupby('Maternal Smoker').mean().get('Birth Weight').loc[True])\n",
    "diff_in_means"
   ]
  },
  {
   "cell_type": "markdown",
   "metadata": {
    "slideshow": {
     "slide_type": "fragment"
    }
   },
   "source": [
    "- **Question:** Is there a significant difference in the weights of babies born to mothers who smoked vs. babies born to mothers who didn't smoke?"
   ]
  },
  {
   "cell_type": "markdown",
   "metadata": {
    "slideshow": {
     "slide_type": "slide"
    }
   },
   "source": [
    "### Setup for the hypothesis test"
   ]
  },
  {
   "cell_type": "markdown",
   "metadata": {
    "slideshow": {
     "slide_type": "fragment"
    }
   },
   "source": [
    "- **Null Hypothesis**: In the population, birth weights of smokers' babies and non-smokers' babies have the same distribution, and the observed differences in our samples are due to random chance."
   ]
  },
  {
   "cell_type": "markdown",
   "metadata": {
    "slideshow": {
     "slide_type": "fragment"
    }
   },
   "source": [
    "\n",
    "\n",
    "- **Alternative Hypothesis**: In the population, smokers' babies have lower birth weights than non-smokers' babies, on average. The observed differences in our samples cannot be explained by random chance alone."
   ]
  },
  {
   "cell_type": "markdown",
   "metadata": {
    "slideshow": {
     "slide_type": "fragment"
    }
   },
   "source": [
    "- **Test statistic**: Difference in mean birth weight of non-smokers' babies and smokers' babies.\n",
    "\n",
    "\n",
    "$$\\substack{\\text{mean birth weight of} \\\\ \\text{non-smokers' babies}} \\hspace{0.5in} - \\hspace{0.5in} \\substack{\\text{mean birth weight of} \\\\ \\text{smokers' babies}}$$"
   ]
  },
  {
   "cell_type": "markdown",
   "metadata": {
    "slideshow": {
     "slide_type": "slide"
    }
   },
   "source": [
    "### Discussion Question\n",
    "\n",
    "We recently introduced the total variation distance (TVD) as a test statistic. Why **can't** we use the TVD as our test statistic in this hypothesis test?"
   ]
  },
  {
   "cell_type": "markdown",
   "metadata": {
    "slideshow": {
     "slide_type": "slide"
    }
   },
   "source": [
    "### Generating new samples under the null hypothesis"
   ]
  },
  {
   "cell_type": "markdown",
   "metadata": {
    "slideshow": {
     "slide_type": "fragment"
    }
   },
   "source": [
    "- We need the **distribution of the test statistic under the assumption the null hypothesis is true**."
   ]
  },
  {
   "cell_type": "markdown",
   "metadata": {
    "slideshow": {
     "slide_type": "fragment"
    }
   },
   "source": [
    "- Under the null hypothesis, both groups are sampled from the same population distribution."
   ]
  },
  {
   "cell_type": "markdown",
   "metadata": {
    "slideshow": {
     "slide_type": "fragment"
    }
   },
   "source": [
    "- We need to draw two samples from that population distribution (of the same sizes as our original smoking and non-smoking groups) and compute the difference in group means for our two samples. "
   ]
  },
  {
   "cell_type": "markdown",
   "metadata": {
    "slideshow": {
     "slide_type": "fragment"
    }
   },
   "source": [
    "- 🚨 **Issue**: We don't have the population distribution, so we can't draw samples from it!"
   ]
  },
  {
   "cell_type": "markdown",
   "metadata": {
    "slideshow": {
     "slide_type": "slide"
    }
   },
   "source": [
    "### Constructing a population"
   ]
  },
  {
   "cell_type": "markdown",
   "metadata": {
    "slideshow": {
     "slide_type": "fragment"
    }
   },
   "source": [
    "- **Idea**: We can construct a \"population\" by combining both of our samples. Then, to create two random samples from it, we just separate (or split) the population into two random groups."
   ]
  },
  {
   "cell_type": "markdown",
   "metadata": {
    "slideshow": {
     "slide_type": "fragment"
    }
   },
   "source": [
    "- We can do this because, under the null hypothesis, the mother's smoking status has no impact on the baby's birth weight, so all baby weights come from the same population."
   ]
  },
  {
   "cell_type": "code",
   "execution_count": null,
   "metadata": {
    "slideshow": {
     "slide_type": "slide"
    }
   },
   "outputs": [],
   "source": [
    "show_permutation_testing_intro()"
   ]
  },
  {
   "cell_type": "markdown",
   "metadata": {
    "slideshow": {
     "slide_type": "slide"
    }
   },
   "source": [
    "### Permutations"
   ]
  },
  {
   "cell_type": "markdown",
   "metadata": {
    "slideshow": {
     "slide_type": "fragment"
    }
   },
   "source": [
    "- A **permutation** of a sequence is a rearrangement of the elements in that sequence.\n",
    "    - For example, `'BAC'` and `'CAB'` are both permutations of the string `'ABC'`.\n",
    "    - We create permutations by **shuffling**."
   ]
  },
  {
   "cell_type": "markdown",
   "metadata": {
    "slideshow": {
     "slide_type": "fragment"
    }
   },
   "source": [
    "- In the previous animation, we repeatedly split the \"population\" into two random groups whose sizes were equal to the original samples' sizes.\n",
    "    - In the original non-smokers' sample, there were 7 weights, and in the original smokers' sample, there were 4 weights.\n",
    "    - Each time we created a pair of new samples, we randomly chose 7 weights to be part of the _new_ non-smokers' sample, and the other 4 weights to be part of the _new_ smokers' sample."
   ]
  },
  {
   "cell_type": "markdown",
   "metadata": {
    "slideshow": {
     "slide_type": "fragment"
    }
   },
   "source": [
    "- **Key idea:** To randomly assign weights to groups, in a way that preserves the sizes of the groups, we can just shuffle the `'Maternal Smoker'` column of `babies`!"
   ]
  },
  {
   "cell_type": "markdown",
   "metadata": {
    "slideshow": {
     "slide_type": "slide"
    }
   },
   "source": [
    "### Permutation tests\n",
    "\n",
    "A permutation test is a type of A/B test (and a type of hypothesis test). It tests whether two samples come from the same population distribution. To conduct a permutation test:"
   ]
  },
  {
   "cell_type": "markdown",
   "metadata": {
    "slideshow": {
     "slide_type": "fragment"
    }
   },
   "source": [
    "1. Shuffle the group labels (i.e. the `True`s and `False`s) to generate two new samples under the null. These two new samples have the same sizes as the original samples."
   ]
  },
  {
   "cell_type": "markdown",
   "metadata": {
    "slideshow": {
     "slide_type": "fragment"
    }
   },
   "source": [
    "2. Compute the difference in group means (the test statistic)."
   ]
  },
  {
   "cell_type": "markdown",
   "metadata": {
    "slideshow": {
     "slide_type": "fragment"
    }
   },
   "source": [
    "3. Repeat steps 1 and 2 to generate an **empirical distribution of the difference in group means**."
   ]
  },
  {
   "cell_type": "markdown",
   "metadata": {
    "slideshow": {
     "slide_type": "fragment"
    }
   },
   "source": [
    "4. See where the observed statistic lies in the empirical distribution. If, in our simulations, we rarely saw a difference in group means as extreme as the observed difference in group means, we have evidence to reject the null."
   ]
  },
  {
   "cell_type": "markdown",
   "metadata": {
    "slideshow": {
     "slide_type": "slide"
    }
   },
   "source": [
    "### Permutation tests with DataFrames"
   ]
  },
  {
   "cell_type": "markdown",
   "metadata": {
    "slideshow": {
     "slide_type": "fragment"
    }
   },
   "source": [
    "- We want to randomly shuffle just the `'Maternal Smoker'` column in the `babies` DataFrame."
   ]
  },
  {
   "cell_type": "markdown",
   "metadata": {
    "slideshow": {
     "slide_type": "fragment"
    }
   },
   "source": [
    "- `df.sample` returns a random sample of the rows in a DataFrame, but we want to shuffle one column independently."
   ]
  },
  {
   "cell_type": "code",
   "execution_count": null,
   "metadata": {},
   "outputs": [],
   "source": [
    "data = bpd.DataFrame().assign(x=['a', 'b', 'c', 'd', 'e'], y=[1, 2, 3, 4, 5])\n",
    "data"
   ]
  },
  {
   "cell_type": "code",
   "execution_count": null,
   "metadata": {},
   "outputs": [],
   "source": [
    "# The order of the rows are different,\n",
    "# but each x is still in a row with the same y.\n",
    "# This is NOT what we want.\n",
    "data.sample(data.shape[0])"
   ]
  },
  {
   "cell_type": "markdown",
   "metadata": {
    "slideshow": {
     "slide_type": "fragment"
    }
   },
   "source": [
    "- **Solution:** Use `np.random.permutation`, which takes in a sequence and returns a shuffled version of it, as an array."
   ]
  },
  {
   "cell_type": "code",
   "execution_count": null,
   "metadata": {},
   "outputs": [],
   "source": [
    "# Random!\n",
    "np.random.permutation(data.get('x'))"
   ]
  },
  {
   "cell_type": "code",
   "execution_count": null,
   "metadata": {},
   "outputs": [],
   "source": [
    "data.assign(shuffled_x=np.random.permutation(data.get('x')))"
   ]
  },
  {
   "cell_type": "markdown",
   "metadata": {
    "slideshow": {
     "slide_type": "slide"
    }
   },
   "source": [
    "### Shuffling one column\n",
    "\n",
    "As mentioned before, we'll shuffle the `'Maternal Smoker'` column."
   ]
  },
  {
   "cell_type": "code",
   "execution_count": null,
   "metadata": {},
   "outputs": [],
   "source": [
    "babies_with_shuffled = babies.assign(\n",
    "    Shuffled_Labels=np.random.permutation(babies.get('Maternal Smoker'))\n",
    ")\n",
    "babies_with_shuffled"
   ]
  },
  {
   "cell_type": "markdown",
   "metadata": {
    "slideshow": {
     "slide_type": "fragment"
    }
   },
   "source": [
    "Let's look at the distributions of the two new samples we just generated."
   ]
  },
  {
   "cell_type": "code",
   "execution_count": null,
   "metadata": {},
   "outputs": [],
   "source": [
    "fig, ax = plt.subplots()\n",
    "baby_bins = np.arange(50, 200, 5)\n",
    "smokers = babies_with_shuffled[babies_with_shuffled.get('Shuffled_Labels')]\n",
    "non_smokers = babies_with_shuffled[babies_with_shuffled.get('Shuffled_Labels') == False]\n",
    "non_smokers.plot(kind='hist', y='Birth Weight', density=True, ax=ax, alpha=0.75, bins=baby_bins, ec='w', figsize=(10, 5))\n",
    "smokers.plot(kind='hist',y='Birth Weight', density=True, ax=ax, alpha=0.75, bins=baby_bins)\n",
    "plt.legend(['Maternal Smoker = False', 'Maternal Smoker = True'])\n",
    "plt.xlabel('Birth Weight');"
   ]
  },
  {
   "cell_type": "markdown",
   "metadata": {
    "slideshow": {
     "slide_type": "-"
    }
   },
   "source": [
    "What do you notice? 👀"
   ]
  },
  {
   "cell_type": "markdown",
   "metadata": {
    "slideshow": {
     "slide_type": "slide"
    }
   },
   "source": [
    "### How close are the means of the shuffled groups?"
   ]
  },
  {
   "cell_type": "code",
   "execution_count": null,
   "metadata": {},
   "outputs": [],
   "source": [
    "babies_with_shuffled.groupby('Shuffled_Labels').mean().get(['Birth Weight'])"
   ]
  },
  {
   "cell_type": "code",
   "execution_count": null,
   "metadata": {},
   "outputs": [],
   "source": [
    "group_means = babies_with_shuffled.groupby('Shuffled_Labels').mean().get('Birth Weight')\n",
    "group_means.loc[False] - group_means.loc[True]"
   ]
  },
  {
   "cell_type": "markdown",
   "metadata": {
    "slideshow": {
     "slide_type": "-"
    }
   },
   "source": [
    "This is the test statistic for one experiment (one \"shuffle\"). Let's write a function that can compute this test statistic for any shuffle."
   ]
  },
  {
   "cell_type": "code",
   "execution_count": null,
   "metadata": {},
   "outputs": [],
   "source": [
    "def difference_in_group_means(weights_df):\n",
    "    group_means = weights_df.groupby('Shuffled_Labels').mean().get('Birth Weight')\n",
    "    return group_means.loc[False] - group_means.loc[True]\n",
    "\n",
    "difference_in_group_means(babies_with_shuffled)"
   ]
  },
  {
   "cell_type": "markdown",
   "metadata": {
    "slideshow": {
     "slide_type": "slide"
    }
   },
   "source": [
    "### Simulation"
   ]
  },
  {
   "cell_type": "markdown",
   "metadata": {
    "slideshow": {
     "slide_type": "fragment"
    }
   },
   "source": [
    "- This was just one random shuffle."
   ]
  },
  {
   "cell_type": "markdown",
   "metadata": {
    "slideshow": {
     "slide_type": "fragment"
    }
   },
   "source": [
    "- How likely is it that a random shuffle results in a 9.26+ ounce difference in means?"
   ]
  },
  {
   "cell_type": "markdown",
   "metadata": {
    "slideshow": {
     "slide_type": "fragment"
    }
   },
   "source": [
    "- We have to repeat the shuffling a bunch of times. On each iteration:\n",
    "    1. Shuffle the labels to create two new samples.\n",
    "    2. Add them as a column to the DataFrame.\n",
    "    3. Compute the difference in group means in the two new samples and store the result."
   ]
  },
  {
   "cell_type": "markdown",
   "metadata": {
    "slideshow": {
     "slide_type": "slide"
    }
   },
   "source": [
    "### Running the simulation"
   ]
  },
  {
   "cell_type": "code",
   "execution_count": null,
   "metadata": {
    "slideshow": {
     "slide_type": ""
    }
   },
   "outputs": [],
   "source": [
    "n_repetitions = 500 # The dataset is large, so it takes too long to run if we use 5000 or 10000\n",
    "differences = np.array([])\n",
    "\n",
    "for i in np.arange(n_repetitions):\n",
    "    # Step 1: Shuffle the labels to create two new samples.\n",
    "    shuffled_labels = np.random.permutation(babies.get('Maternal Smoker'))\n",
    "    \n",
    "    # Step 2: Add them as a column to the DataFrame.\n",
    "    shuffled = babies_with_shuffled.assign(Shuffled_Labels=shuffled_labels)\n",
    "    \n",
    "    # Step 3: Compute the difference in group means in the two new samples and store the result.\n",
    "    difference = difference_in_group_means(shuffled)\n",
    "    \n",
    "    differences = np.append(differences, difference)\n",
    "    \n",
    "differences"
   ]
  },
  {
   "cell_type": "code",
   "execution_count": null,
   "metadata": {
    "slideshow": {
     "slide_type": "-"
    }
   },
   "outputs": [],
   "source": [
    "(bpd.DataFrame()\n",
    " .assign(simulated_diffs=differences)\n",
    " .plot(kind='hist', bins=20, density=True, ec='w', figsize=(10, 5))\n",
    ");"
   ]
  },
  {
   "cell_type": "markdown",
   "metadata": {
    "slideshow": {
     "slide_type": "fragment"
    }
   },
   "source": [
    "- Note that the empirical distribution of the test statistic (difference in means) is centered around 0.\n",
    "- This matches our intuition – if the null hypothesis is true, there should be no difference in the group means on average."
   ]
  },
  {
   "cell_type": "markdown",
   "metadata": {
    "slideshow": {
     "slide_type": "slide"
    }
   },
   "source": [
    "### Conclusion of the test\n",
    "\n",
    "Where does our observed statistic lie?"
   ]
  },
  {
   "cell_type": "code",
   "execution_count": null,
   "metadata": {},
   "outputs": [],
   "source": [
    "(bpd.DataFrame()\n",
    " .assign(simulated_diffs=differences)\n",
    " .plot(kind='hist', bins=20, density=True, ec='w', figsize=(10, 5))\n",
    ");\n",
    "plt.axvline(diff_in_means, color='black', linewidth=4, label='observed difference in means')\n",
    "plt.legend();"
   ]
  },
  {
   "cell_type": "code",
   "execution_count": null,
   "metadata": {},
   "outputs": [],
   "source": [
    "smoker_p_value = np.count_nonzero(differences >= diff_in_means) / n_repetitions\n",
    "smoker_p_value"
   ]
  },
  {
   "cell_type": "markdown",
   "metadata": {
    "slideshow": {
     "slide_type": "slide"
    }
   },
   "source": [
    "### Conclusion"
   ]
  },
  {
   "cell_type": "markdown",
   "metadata": {
    "slideshow": {
     "slide_type": "fragment"
    }
   },
   "source": [
    "- Under the null hypothesis, we rarely see differences as large as 9.26 ounces."
   ]
  },
  {
   "cell_type": "markdown",
   "metadata": {
    "slideshow": {
     "slide_type": "fragment"
    }
   },
   "source": [
    "- Therefore, we reject the null hypothesis: the evidence implies that the groups do not come from the same distribution."
   ]
  },
  {
   "cell_type": "markdown",
   "metadata": {
    "slideshow": {
     "slide_type": "fragment"
    }
   },
   "source": [
    "- Still, we can't conclude that smoking *causes* lower birth weight because there may be other factors at play. For instance, maybe smokers are more likely to drink caffeine, and caffeine causes lower birth weight.\n"
   ]
  },
  {
   "cell_type": "code",
   "execution_count": null,
   "metadata": {
    "slideshow": {
     "slide_type": "slide"
    }
   },
   "outputs": [],
   "source": [
    "show_permutation_testing_summary()"
   ]
  },
  {
   "cell_type": "markdown",
   "metadata": {
    "slideshow": {
     "slide_type": "slide"
    }
   },
   "source": [
    "### Concept Check ✅ – Answer at [cc.dsc10.com](http://cc.dsc10.com)\n",
    "\n",
    "Recall, `babies` has two columns."
   ]
  },
  {
   "cell_type": "code",
   "execution_count": null,
   "metadata": {},
   "outputs": [],
   "source": [
    "babies.take(np.arange(3))"
   ]
  },
  {
   "cell_type": "markdown",
   "metadata": {},
   "source": [
    "To randomly assign weights to groups, we shuffled `'Maternal Smoker'` column. Could we have shuffled the `'Birth Weight'` column instead?\n",
    "\n",
    "- A. Yes\n",
    "- B. No\n",
    "\n",
    "<br>\n",
    "\n",
    "<details>\n",
    "    <summary>✅ Click <b>here</b> to see the answer to the previous question <b>after</b> you've submitted an answer to it.</summary>\n",
    "    \n",
    "<b>Yes</b>, we could have. It doesn’t matter which column we shuffle – we could shuffle one or the other, or even both, as long as we shuffle each separately. \n",
    "    \n",
    "Think about it like this – pretend you bring a gift 🎁 to a Christmas party 🎄 for a gift exchange, where everyone must leave the party with a random person’s gift. Pretend everyone stands around a circular table and puts the gift they bought in front of them. To randomly assign people to gifts, you could shuffle the gifts on the table and have all the people stay in the same spot, or you could have the people physically shuffle and keep the gifts in the same spots, or you could do both – either way, everyone will end up with a random gift!\n",
    "    \n",
    "</details>"
   ]
  },
  {
   "cell_type": "markdown",
   "metadata": {
    "slideshow": {
     "slide_type": "slide"
    }
   },
   "source": [
    "## Example: Did the New England Patriots cheat? 🏈📌"
   ]
  },
  {
   "cell_type": "markdown",
   "metadata": {
    "slideshow": {
     "slide_type": "slide"
    }
   },
   "source": [
    "### Deflategate\n",
    "\n",
    "<center><img width=\"40%\" src=\"./images/deflate.jpg\"></center>\n",
    "\n",
    "- On January 18, 2015, the New England Patriots played the Indianapolis Colts for a spot in the Super Bowl.\n",
    "- The Patriots won, 45-7. They went on to win the Super Bowl.\n",
    "- After the game, **it was alleged that the Patriots intentionally deflated footballs**, making them easier to catch. This scandal was called \"Deflategate.\""
   ]
  },
  {
   "cell_type": "markdown",
   "metadata": {
    "slideshow": {
     "slide_type": "slide"
    }
   },
   "source": [
    "### Background"
   ]
  },
  {
   "cell_type": "markdown",
   "metadata": {
    "slideshow": {
     "slide_type": "fragment"
    }
   },
   "source": [
    "- Each team brings 12 footballs to the game. Teams use their own footballs while on offense."
   ]
  },
  {
   "cell_type": "markdown",
   "metadata": {
    "slideshow": {
     "slide_type": "fragment"
    }
   },
   "source": [
    "- NFL rules stipulate that **each ball must be inflated to between 12.5 and 13.5 pounds per square inch (psi)**."
   ]
  },
  {
   "cell_type": "markdown",
   "metadata": {
    "slideshow": {
     "slide_type": "fragment"
    }
   },
   "source": [
    "- Before the game, officials found that all of the Patriots' footballs were at about 12.5 psi, and that all of the Colts' footballs were at about 13.0 psi.\n",
    "    - This pre-game data was not written down."
   ]
  },
  {
   "cell_type": "markdown",
   "metadata": {
    "slideshow": {
     "slide_type": "fragment"
    }
   },
   "source": [
    "- In the second quarter, the Colts intercepted a Patriots ball and notified officials that it felt under-inflated."
   ]
  },
  {
   "cell_type": "markdown",
   "metadata": {
    "slideshow": {
     "slide_type": "fragment"
    }
   },
   "source": [
    "- At halftime, two officials (Clete Blakeman and Dyrol Prioleau) independently measured the pressures of as many of the 24 footballs as they could.\n",
    "    - They ran out of time before they could finish."
   ]
  },
  {
   "cell_type": "markdown",
   "metadata": {
    "slideshow": {
     "slide_type": "fragment"
    }
   },
   "source": [
    "- Note that the relevant quantity is the **change in pressure** from the start of the game to the halftime.\n",
    "    - The Patriots' balls *started* at a lower psi (which is not an issue on its own).\n",
    "    - The allegations were that the Patriots **deflated** their balls, during the game."
   ]
  },
  {
   "cell_type": "markdown",
   "metadata": {
    "slideshow": {
     "slide_type": "slide"
    }
   },
   "source": [
    "### The measurements"
   ]
  },
  {
   "cell_type": "code",
   "execution_count": null,
   "metadata": {
    "slideshow": {
     "slide_type": ""
    }
   },
   "outputs": [],
   "source": [
    "footballs = bpd.read_csv('data/footballs.csv')\n",
    "footballs"
   ]
  },
  {
   "cell_type": "markdown",
   "metadata": {
    "slideshow": {
     "slide_type": "fragment"
    }
   },
   "source": [
    "- There are only 14 rows (10 for Patriots footballs, 4 for Colts footballs) since the officials weren't able to record the pressures of every ball.\n",
    "- The `'Pressure'` column records the average of the two officials' measurements at halftime.\n",
    "- The `'PressureDrop'` column records the difference between the estimated starting pressure and the average recorded `'Pressure'` of each football."
   ]
  },
  {
   "cell_type": "markdown",
   "metadata": {
    "slideshow": {
     "slide_type": "slide"
    }
   },
   "source": [
    "### The question\n",
    "\n",
    "Did the Patriots' footballs drop in pressure more than the Colts'?"
   ]
  },
  {
   "cell_type": "markdown",
   "metadata": {
    "slideshow": {
     "slide_type": "fragment"
    }
   },
   "source": [
    "- We want to test whether two samples came from the same distribution – this calls for a permutation test."
   ]
  },
  {
   "cell_type": "markdown",
   "metadata": {
    "slideshow": {
     "slide_type": "fragment"
    }
   },
   "source": [
    "- **Null Hypothesis**: The drops in pressures for both teams came from the same distribution.\n",
    "    - By chance, the Patriots' footballs deflated more.\n",
    "- **Alternative Hypothesis**: No, the Patriots' footballs deflated more than one would expect due to random chance alone."
   ]
  },
  {
   "cell_type": "markdown",
   "metadata": {
    "slideshow": {
     "slide_type": "slide"
    }
   },
   "source": [
    "### The test statistic\n",
    "\n",
    "Similar to the baby weights example, our test statistic will be the difference between the teams' average pressure drops. We'll calculate the mean drop for the `'Patriots'` minus the mean drop for the `'Colts'`."
   ]
  },
  {
   "cell_type": "code",
   "execution_count": null,
   "metadata": {
    "slideshow": {
     "slide_type": ""
    }
   },
   "outputs": [],
   "source": [
    "means = footballs.groupby('Team').mean().get('PressureDrop')\n",
    "means"
   ]
  },
  {
   "cell_type": "code",
   "execution_count": null,
   "metadata": {
    "slideshow": {
     "slide_type": ""
    }
   },
   "outputs": [],
   "source": [
    "# Calculate the observed statistic.\n",
    "observed_difference = means.loc['Patriots'] - means.loc['Colts']\n",
    "observed_difference"
   ]
  },
  {
   "cell_type": "markdown",
   "metadata": {
    "slideshow": {
     "slide_type": "fragment"
    }
   },
   "source": [
    "The average pressure drop for the Patriots was about 0.74 psi more than the Colts."
   ]
  },
  {
   "cell_type": "markdown",
   "metadata": {
    "slideshow": {
     "slide_type": "slide"
    }
   },
   "source": [
    "### Creating random groups and calculating one value of the test statistic\n",
    "\n",
    "We'll run a permutation test to see if 0.74 psi is a significant difference.\n",
    "- To do this, we'll need to repeatedly shuffle either the `'Team'` or the `'PressureDrop'` column.\n",
    "- We'll shuffle the `'PressureDrop'` column.\n",
    "- Tip: It's a good idea to simulate one value of the test statistic before putting everything in a `for`-loop."
   ]
  },
  {
   "cell_type": "code",
   "execution_count": null,
   "metadata": {},
   "outputs": [],
   "source": [
    "# For simplicity, keep only the columns that are necessary for the test: \n",
    "# one column of group labels and one column of numerical values.\n",
    "footballs = footballs.get(['Team', 'PressureDrop'])\n",
    "footballs"
   ]
  },
  {
   "cell_type": "code",
   "execution_count": null,
   "metadata": {},
   "outputs": [],
   "source": [
    "# Shuffle one column. \n",
    "# We chose to shuffle the numerical data (pressure drops), but we could have shuffled the group labels (team names) instead.\n",
    "shuffled_drops = np.random.permutation(footballs.get('PressureDrop'))\n",
    "shuffled_drops"
   ]
  },
  {
   "cell_type": "code",
   "execution_count": null,
   "metadata": {},
   "outputs": [],
   "source": [
    "# Add the shuffled column back to the DataFrame.\n",
    "shuffled = footballs.assign(Shuffled_Drops=shuffled_drops)\n",
    "shuffled"
   ]
  },
  {
   "cell_type": "code",
   "execution_count": null,
   "metadata": {},
   "outputs": [],
   "source": [
    "# Calculate the group means for the two randomly created groups.\n",
    "team_means = shuffled.groupby('Team').mean().get('Shuffled_Drops')\n",
    "team_means"
   ]
  },
  {
   "cell_type": "code",
   "execution_count": null,
   "metadata": {},
   "outputs": [],
   "source": [
    "# Calcuate the difference in group means (Patriots minus Colts) for the randomly created groups.\n",
    "team_means.loc['Patriots'] - team_means.loc['Colts']"
   ]
  },
  {
   "cell_type": "markdown",
   "metadata": {
    "slideshow": {
     "slide_type": "slide"
    }
   },
   "source": [
    "### The simulation\n",
    "\n",
    "- Repeat the process many times by wrapping it inside a `for`-loop.\n",
    "- Keep track of the difference in group means in an array, appending each time.\n",
    "- Optionally, create a function to calculate the difference in group means."
   ]
  },
  {
   "cell_type": "code",
   "execution_count": null,
   "metadata": {},
   "outputs": [],
   "source": [
    "def difference_in_mean_pressure_drops(pressures_df):\n",
    "    team_means = pressures_df.groupby('Team').mean().get('Shuffled_Drops')\n",
    "    return team_means.loc['Patriots'] - team_means.loc['Colts']"
   ]
  },
  {
   "cell_type": "code",
   "execution_count": null,
   "metadata": {},
   "outputs": [],
   "source": [
    "n_repetitions = 5000 # The dataset is much smaller than in the baby weights example, so a larger number of repetitions will still run quickly.\n",
    "\n",
    "differences = np.array([])\n",
    "for i in np.arange(n_repetitions):\n",
    "    # Step 1: Shuffle the pressure drops.\n",
    "    shuffled_drops = np.random.permutation(footballs.get('PressureDrop'))\n",
    "    \n",
    "    # Step 2: Put them in a DataFrame.\n",
    "    shuffled = footballs.assign(Shuffled_Drops=shuffled_drops)\n",
    "    \n",
    "    # Step 3: Compute the difference in group means and add the result to the differences array.\n",
    "    difference = difference_in_mean_pressure_drops(shuffled)\n",
    "\n",
    "    differences = np.append(differences, difference)\n",
    "    \n",
    "differences"
   ]
  },
  {
   "cell_type": "markdown",
   "metadata": {
    "slideshow": {
     "slide_type": "slide"
    }
   },
   "source": [
    "### Conclusion"
   ]
  },
  {
   "cell_type": "code",
   "execution_count": null,
   "metadata": {},
   "outputs": [],
   "source": [
    "bpd.DataFrame().assign(SimulatedDifferenceInMeans=differences).plot(kind='hist', bins=20, density=True, ec='w', figsize=(10, 5))\n",
    "plt.axvline(observed_difference, color='black', linewidth=4, label='observed difference in means')\n",
    "plt.legend();"
   ]
  },
  {
   "cell_type": "markdown",
   "metadata": {
    "slideshow": {
     "slide_type": "fragment"
    }
   },
   "source": [
    "It doesn't look good for the Patriots. What is the p-value?\n",
    "- Recall, the p-value is the probability, under the null hypothesis, of seeing a result **as or more extreme** than the observation.\n",
    "- In this case, that's the probability of the difference in mean pressure drops being greater than or equal to 0.74 psi."
   ]
  },
  {
   "cell_type": "code",
   "execution_count": null,
   "metadata": {},
   "outputs": [],
   "source": [
    "np.count_nonzero(differences >= observed_difference) / n_repetitions"
   ]
  },
  {
   "cell_type": "markdown",
   "metadata": {},
   "source": [
    "This p-value is low enough to consider this result to be _highly_ statistically significant ($p<0.01$)."
   ]
  },
  {
   "cell_type": "markdown",
   "metadata": {
    "slideshow": {
     "slide_type": "slide"
    }
   },
   "source": [
    "### 🚨 Caution!\n",
    "\n",
    "- We reject the null hypothesis, as it is unlikely that the difference in mean pressure drops is due to chance alone.\n",
    "- But this doesn't establish **causation**.\n",
    "- That is, we can't conclude that the Patriots **intentionally** deflated their footballs."
   ]
  },
  {
   "cell_type": "markdown",
   "metadata": {
    "slideshow": {
     "slide_type": "slide"
    }
   },
   "source": [
    "### Aftermath\n",
    "\n",
    "Quote from an investigative report commissioned by the NFL:\n",
    "\n",
    "> “[T]he average pressure drop of the Patriots game balls exceeded the average pressure drop of the Colts balls by 0.45 to 1.02 psi, depending on various possible assumptions regarding the gauges used, and assuming an initial pressure of 12.5 psi for the Patriots balls and 13.0 for the Colts balls.”\n",
    "\n",
    "- Many different methods were used to determine whether the drop in pressures were due to chance, including physics. \n",
    "    - We computed an observed difference of 0.74, which is in line with the findings of the report. \n",
    "- In the end, Tom Brady (quarterback for the Patriots at the time) was suspended 4 games and the team was fined $1 million dollars.\n",
    "- The [Deflategate Wikipedia article](https://en.wikipedia.org/wiki/Deflategate) is extremely thorough; give it a read if you're curious!"
   ]
  },
  {
   "cell_type": "markdown",
   "metadata": {
    "slideshow": {
     "slide_type": "slide"
    }
   },
   "source": [
    "## Summary, next time"
   ]
  },
  {
   "cell_type": "markdown",
   "metadata": {
    "slideshow": {
     "slide_type": "slide"
    }
   },
   "source": [
    "### Summary\n",
    "\n",
    "- Permutation tests help us determine if **two samples** came from the same population. We can answers questions like:\n",
    "    - \"Do smokers' babies and non-smokers babies' weigh the same?\"\n",
    "    - More generally: are these things like those things?\n",
    "- Permutation testing strategy:\n",
    "   - Create a \"population\" by pooling data from both samples together.\n",
    "   - Randomly divide this \"population\" into two groups of the same sizes as the original samples. \n",
    "   - Repeat this process, calculating the test statistic for each pair of random groups.\n",
    "   - Generate an empirical distribution of test statistics and see whether the observed statistic is consistent with it.\n",
    "- Implementation:\n",
    "    - To randomly divide the \"population\" into two groups of the same sizes as the original samples, we'll just shuffle the group labels and use the shuffled group labels to define the two random groups."
   ]
  },
  {
   "cell_type": "markdown",
   "metadata": {
    "slideshow": {
     "slide_type": "slide"
    }
   },
   "source": [
    "### A/B testing\n",
    "\n",
    "- Permutation tests are one way to perform A/B tests.\n",
    "- These are both also hypothesis tests.\n",
    "- An A/B test aims to determine if two samples are from the same population (the name comes from giving names to the samples – sample A and sample B).\n",
    "- We implemented A/B tests by using permutations. Butside of this class, permutation tests can be used for other purposes, and A/B tests can be done without permutations.\n",
    "- **For us, they mean the same thing, so if you see A/B test anywhere in the class, it refers to a permutation test.**"
   ]
  }
 ],
 "metadata": {
  "kernelspec": {
   "display_name": "base",
   "language": "python",
   "name": "base"
  },
  "language_info": {
   "codemirror_mode": {
    "name": "ipython",
    "version": 3
   },
   "file_extension": ".py",
   "mimetype": "text/x-python",
   "name": "python",
   "nbconvert_exporter": "python",
   "pygments_lexer": "ipython3",
   "version": "3.13.5"
  },
  "livereveal": {
   "scroll": true,
   "transition": "none"
  },
  "rise": {
   "enable_chalkboard": true
  },
  "vscode": {
   "interpreter": {
    "hash": "31f2aee4e71d21fbe5cf8b01ff0e069b9275f58929596ceb00d14d90e3e16cd6"
   }
  }
 },
 "nbformat": 4,
 "nbformat_minor": 4
}
