{
 "cells": [
  {
   "cell_type": "code",
   "execution_count": 1,
   "id": "619b7be9",
   "metadata": {},
   "outputs": [],
   "source": [
    "import pandas as pd"
   ]
  },
  {
   "cell_type": "code",
   "execution_count": 2,
   "id": "3bae3aed",
   "metadata": {},
   "outputs": [
    {
     "data": {
      "text/html": [
       "<div>\n",
       "<style scoped>\n",
       "    .dataframe tbody tr th:only-of-type {\n",
       "        vertical-align: middle;\n",
       "    }\n",
       "\n",
       "    .dataframe tbody tr th {\n",
       "        vertical-align: top;\n",
       "    }\n",
       "\n",
       "    .dataframe thead th {\n",
       "        text-align: right;\n",
       "    }\n",
       "</style>\n",
       "<table border=\"1\" class=\"dataframe\">\n",
       "  <thead>\n",
       "    <tr style=\"text-align: right;\">\n",
       "      <th></th>\n",
       "      <th>Sec ID</th>\n",
       "      <th>PID</th>\n",
       "      <th>Student</th>\n",
       "      <th>Pronoun</th>\n",
       "      <th>Credits</th>\n",
       "      <th>College</th>\n",
       "      <th>Major</th>\n",
       "      <th>Level</th>\n",
       "      <th>Email</th>\n",
       "    </tr>\n",
       "  </thead>\n",
       "  <tbody>\n",
       "    <tr>\n",
       "      <th>0</th>\n",
       "      <td>300331</td>\n",
       "      <td>A17368529</td>\n",
       "      <td>A, Kunisha</td>\n",
       "      <td>NaN</td>\n",
       "      <td>4.0</td>\n",
       "      <td>SN</td>\n",
       "      <td>CG35</td>\n",
       "      <td>SO</td>\n",
       "      <td>ka@ucsd.edu</td>\n",
       "    </tr>\n",
       "    <tr>\n",
       "      <th>1</th>\n",
       "      <td>218538</td>\n",
       "      <td>A17915924</td>\n",
       "      <td>Adames-Baena, Jeronimo</td>\n",
       "      <td>NaN</td>\n",
       "      <td>4.0</td>\n",
       "      <td>WA</td>\n",
       "      <td>DS25</td>\n",
       "      <td>SO</td>\n",
       "      <td>jadamesbaena@ucsd.edu</td>\n",
       "    </tr>\n",
       "    <tr>\n",
       "      <th>2</th>\n",
       "      <td>218445</td>\n",
       "      <td>A16997098</td>\n",
       "      <td>Agarwal, Aadit</td>\n",
       "      <td>NaN</td>\n",
       "      <td>4.0</td>\n",
       "      <td>SI</td>\n",
       "      <td>MA30</td>\n",
       "      <td>JR</td>\n",
       "      <td>aaa004@ucsd.edu</td>\n",
       "    </tr>\n",
       "    <tr>\n",
       "      <th>3</th>\n",
       "      <td>218538</td>\n",
       "      <td>A17728974</td>\n",
       "      <td>Agarwal, Dhruv Agarwal</td>\n",
       "      <td>He/Him</td>\n",
       "      <td>4.0</td>\n",
       "      <td>EI</td>\n",
       "      <td>CS26</td>\n",
       "      <td>FR</td>\n",
       "      <td>d6agarwal@ucsd.edu</td>\n",
       "    </tr>\n",
       "    <tr>\n",
       "      <th>4</th>\n",
       "      <td>218538</td>\n",
       "      <td>A18116867</td>\n",
       "      <td>Agastyaraju, Kaushik</td>\n",
       "      <td>NaN</td>\n",
       "      <td>4.0</td>\n",
       "      <td>SN</td>\n",
       "      <td>DS25</td>\n",
       "      <td>SO</td>\n",
       "      <td>kagastyaraju@ucsd.edu</td>\n",
       "    </tr>\n",
       "  </tbody>\n",
       "</table>\n",
       "</div>"
      ],
      "text/plain": [
       "   Sec ID        PID                 Student Pronoun  Credits College Major  \\\n",
       "0  300331  A17368529              A, Kunisha     NaN      4.0      SN  CG35   \n",
       "1  218538  A17915924  Adames-Baena, Jeronimo     NaN      4.0      WA  DS25   \n",
       "2  218445  A16997098          Agarwal, Aadit     NaN      4.0      SI  MA30   \n",
       "3  218538  A17728974  Agarwal, Dhruv Agarwal  He/Him      4.0      EI  CS26   \n",
       "4  218538  A18116867    Agastyaraju, Kaushik     NaN      4.0      SN  DS25   \n",
       "\n",
       "  Level                  Email  \n",
       "0    SO            ka@ucsd.edu  \n",
       "1    SO  jadamesbaena@ucsd.edu  \n",
       "2    JR        aaa004@ucsd.edu  \n",
       "3    FR     d6agarwal@ucsd.edu  \n",
       "4    SO  kagastyaraju@ucsd.edu  "
      ]
     },
     "execution_count": 2,
     "metadata": {},
     "output_type": "execute_result"
    }
   ],
   "source": [
    "df = pd.read_csv('roster-10-12.csv')\n",
    "df.head()"
   ]
  },
  {
   "cell_type": "code",
   "execution_count": 4,
   "id": "f9a82874",
   "metadata": {},
   "outputs": [],
   "source": [
    "df['is DSC'] = df['Major'] == 'DS25'"
   ]
  },
  {
   "cell_type": "code",
   "execution_count": 5,
   "id": "6c8e4ad3",
   "metadata": {},
   "outputs": [
    {
     "data": {
      "text/plain": [
       "Sec ID\n",
       "218445    0.593333\n",
       "218538    0.626667\n",
       "218593    0.646667\n",
       "300331    0.733333\n",
       "Name: is DSC, dtype: float64"
      ]
     },
     "execution_count": 5,
     "metadata": {},
     "output_type": "execute_result"
    }
   ],
   "source": [
    "df.groupby('Sec ID')['is DSC'].mean()"
   ]
  },
  {
   "cell_type": "code",
   "execution_count": null,
   "id": "0a31ce87",
   "metadata": {},
   "outputs": [],
   "source": []
  },
  {
   "cell_type": "code",
   "execution_count": null,
   "id": "dccd3137",
   "metadata": {},
   "outputs": [],
   "source": []
  },
  {
   "cell_type": "code",
   "execution_count": 3,
   "id": "09c44b8e",
   "metadata": {},
   "outputs": [
    {
     "data": {
      "text/html": [
       "<div>\n",
       "<style scoped>\n",
       "    .dataframe tbody tr th:only-of-type {\n",
       "        vertical-align: middle;\n",
       "    }\n",
       "\n",
       "    .dataframe tbody tr th {\n",
       "        vertical-align: top;\n",
       "    }\n",
       "\n",
       "    .dataframe thead th {\n",
       "        text-align: right;\n",
       "    }\n",
       "</style>\n",
       "<table border=\"1\" class=\"dataframe\">\n",
       "  <thead>\n",
       "    <tr style=\"text-align: right;\">\n",
       "      <th></th>\n",
       "      <th>0</th>\n",
       "    </tr>\n",
       "    <tr>\n",
       "      <th>College</th>\n",
       "      <th></th>\n",
       "    </tr>\n",
       "  </thead>\n",
       "  <tbody>\n",
       "    <tr>\n",
       "      <th>EI</th>\n",
       "      <td>32</td>\n",
       "    </tr>\n",
       "    <tr>\n",
       "      <th>FI</th>\n",
       "      <td>54</td>\n",
       "    </tr>\n",
       "    <tr>\n",
       "      <th>GR</th>\n",
       "      <td>1</td>\n",
       "    </tr>\n",
       "    <tr>\n",
       "      <th>MU</th>\n",
       "      <td>54</td>\n",
       "    </tr>\n",
       "    <tr>\n",
       "      <th>RE</th>\n",
       "      <td>47</td>\n",
       "    </tr>\n",
       "    <tr>\n",
       "      <th>SI</th>\n",
       "      <td>100</td>\n",
       "    </tr>\n",
       "    <tr>\n",
       "      <th>SN</th>\n",
       "      <td>98</td>\n",
       "    </tr>\n",
       "    <tr>\n",
       "      <th>TH</th>\n",
       "      <td>61</td>\n",
       "    </tr>\n",
       "    <tr>\n",
       "      <th>WA</th>\n",
       "      <td>78</td>\n",
       "    </tr>\n",
       "  </tbody>\n",
       "</table>\n",
       "</div>"
      ],
      "text/plain": [
       "           0\n",
       "College     \n",
       "EI        32\n",
       "FI        54\n",
       "GR         1\n",
       "MU        54\n",
       "RE        47\n",
       "SI       100\n",
       "SN        98\n",
       "TH        61\n",
       "WA        78"
      ]
     },
     "execution_count": 3,
     "metadata": {},
     "output_type": "execute_result"
    }
   ],
   "source": [
    "colleges = df.groupby('College').size().to_frame()\n",
    "colleges"
   ]
  },
  {
   "cell_type": "code",
   "execution_count": null,
   "id": "7eccbef0",
   "metadata": {},
   "outputs": [],
   "source": [
    "colleges.index = ['Eighth', 'ERC', 'Graduate', 'Muir', 'Revelle', 'Sixth', 'Seventh', 'Marshall', 'Warren']"
   ]
  },
  {
   "cell_type": "code",
   "execution_count": null,
   "id": "1deb36aa",
   "metadata": {},
   "outputs": [],
   "source": [
    "colleges.columns = ['Count']"
   ]
  },
  {
   "cell_type": "code",
   "execution_count": null,
   "id": "cabe7386",
   "metadata": {},
   "outputs": [],
   "source": [
    "colleges[colleges.index != 'Graduate'].to_csv('colleges-fa23.csv')"
   ]
  },
  {
   "cell_type": "code",
   "execution_count": null,
   "id": "a54e90fd",
   "metadata": {},
   "outputs": [],
   "source": []
  }
 ],
 "metadata": {
  "kernelspec": {
   "display_name": "Python 3 (ipykernel)",
   "language": "python",
   "name": "python3"
  },
  "language_info": {
   "codemirror_mode": {
    "name": "ipython",
    "version": 3
   },
   "file_extension": ".py",
   "mimetype": "text/x-python",
   "name": "python",
   "nbconvert_exporter": "python",
   "pygments_lexer": "ipython3",
   "version": "3.9.7"
  }
 },
 "nbformat": 4,
 "nbformat_minor": 5
}
