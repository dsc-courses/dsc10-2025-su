{
 "cells": [
  {
   "cell_type": "code",
   "execution_count": 1,
   "metadata": {
    "slideshow": {
     "slide_type": "skip"
    }
   },
   "outputs": [],
   "source": [
    "# Run this cell to set up packages for lecture.\n",
    "from lec04_imports import *"
   ]
  },
  {
   "attachments": {},
   "cell_type": "markdown",
   "metadata": {
    "slideshow": {
     "slide_type": "slide"
    }
   },
   "source": [
    "# Lecture 4 – Data Visualization 📈, Density, and Density Histograms\n",
    "## DSC 10, Summer 2025"
   ]
  },
  {
   "attachments": {},
   "cell_type": "markdown",
   "metadata": {
    "slideshow": {
     "slide_type": "slide"
    }
   },
   "source": [
    "### Agenda\n",
    " \n",
    "- Adjusting columns.\n",
    "- Why visualize?\n",
    "- Terminology.\n",
    "- Scatter plots.\n",
    "- Line plots.\n",
    "- Bar charts.\n",
    "- Density\n",
    "- Introduction to density histograms"
   ]
  },
  {
   "cell_type": "markdown",
   "metadata": {
    "slideshow": {
     "slide_type": "slide"
    }
   },
   "source": [
    "### Aside: Keyboard shortcuts\n",
    "\n",
    "There are several keyboard shortcuts built into Jupyter Notebooks designed to help you save time. To see them, either click the keyboard button in the toolbar above or hit the H key on your keyboard (as long as you're not actively editing a cell).\n",
    "\n",
    "Particularly useful shortcuts:\n",
    "\n",
    "| Action | Keyboard shortcut |\n",
    "| --- | --- |\n",
    "| Run cell + jump to next cell | SHIFT + ENTER |\n",
    "| Save the notebook | CTRL/CMD + S |\n",
    "| Create new cell above/below | A/B |\n",
    "| Delete cell | DD |"
   ]
  },
  {
   "cell_type": "markdown",
   "metadata": {
    "slideshow": {
     "slide_type": "slide"
    }
   },
   "source": [
    "## Adjusting columns"
   ]
  },
  {
   "cell_type": "markdown",
   "metadata": {
    "slideshow": {
     "slide_type": "slide"
    }
   },
   "source": [
    "### `.count()` \n",
    "\n",
    "As before, we'll work with the `states` DataFrame. Notice the column names don't make sense after grouping with the `.count()` aggregation method."
   ]
  },
  {
   "cell_type": "code",
   "execution_count": 2,
   "metadata": {},
   "outputs": [
    {
     "data": {
      "text/html": [
       "<div>\n",
       "<style scoped>\n",
       "    .dataframe tbody tr th:only-of-type {\n",
       "        vertical-align: middle;\n",
       "    }\n",
       "\n",
       "    .dataframe tbody tr th {\n",
       "        vertical-align: top;\n",
       "    }\n",
       "\n",
       "    .dataframe thead th {\n",
       "        text-align: right;\n",
       "    }\n",
       "</style>\n",
       "<table border=\"1\" class=\"dataframe\">\n",
       "  <thead>\n",
       "    <tr style=\"text-align: right;\">\n",
       "      <th></th>\n",
       "      <th>Region</th>\n",
       "      <th>Capital City</th>\n",
       "      <th>Population</th>\n",
       "      <th>Land Area</th>\n",
       "      <th>Party</th>\n",
       "      <th>Density</th>\n",
       "    </tr>\n",
       "    <tr>\n",
       "      <th>State</th>\n",
       "      <th></th>\n",
       "      <th></th>\n",
       "      <th></th>\n",
       "      <th></th>\n",
       "      <th></th>\n",
       "      <th></th>\n",
       "    </tr>\n",
       "  </thead>\n",
       "  <tbody>\n",
       "    <tr>\n",
       "      <th>Alabama</th>\n",
       "      <td>South</td>\n",
       "      <td>Montgomery</td>\n",
       "      <td>5024279</td>\n",
       "      <td>50645</td>\n",
       "      <td>Republican</td>\n",
       "      <td>99.21</td>\n",
       "    </tr>\n",
       "    <tr>\n",
       "      <th>Alaska</th>\n",
       "      <td>West</td>\n",
       "      <td>Juneau</td>\n",
       "      <td>733391</td>\n",
       "      <td>570641</td>\n",
       "      <td>Republican</td>\n",
       "      <td>1.29</td>\n",
       "    </tr>\n",
       "    <tr>\n",
       "      <th>Arizona</th>\n",
       "      <td>West</td>\n",
       "      <td>Phoenix</td>\n",
       "      <td>7151502</td>\n",
       "      <td>113594</td>\n",
       "      <td>Republican</td>\n",
       "      <td>62.96</td>\n",
       "    </tr>\n",
       "    <tr>\n",
       "      <th>...</th>\n",
       "      <td>...</td>\n",
       "      <td>...</td>\n",
       "      <td>...</td>\n",
       "      <td>...</td>\n",
       "      <td>...</td>\n",
       "      <td>...</td>\n",
       "    </tr>\n",
       "    <tr>\n",
       "      <th>West Virginia</th>\n",
       "      <td>South</td>\n",
       "      <td>Charleston</td>\n",
       "      <td>1793716</td>\n",
       "      <td>24038</td>\n",
       "      <td>Republican</td>\n",
       "      <td>74.62</td>\n",
       "    </tr>\n",
       "    <tr>\n",
       "      <th>Wisconsin</th>\n",
       "      <td>Midwest</td>\n",
       "      <td>Madison</td>\n",
       "      <td>5893718</td>\n",
       "      <td>54158</td>\n",
       "      <td>Republican</td>\n",
       "      <td>108.82</td>\n",
       "    </tr>\n",
       "    <tr>\n",
       "      <th>Wyoming</th>\n",
       "      <td>West</td>\n",
       "      <td>Cheyenne</td>\n",
       "      <td>576851</td>\n",
       "      <td>97093</td>\n",
       "      <td>Republican</td>\n",
       "      <td>5.94</td>\n",
       "    </tr>\n",
       "  </tbody>\n",
       "</table>\n",
       "<p>50 rows × 6 columns</p>\n",
       "</div>"
      ],
      "text/plain": [
       "                Region Capital City  Population  Land Area       Party  \\\n",
       "State                                                                    \n",
       "Alabama          South   Montgomery     5024279      50645  Republican   \n",
       "Alaska            West       Juneau      733391     570641  Republican   \n",
       "Arizona           West      Phoenix     7151502     113594  Republican   \n",
       "...                ...          ...         ...        ...         ...   \n",
       "West Virginia    South   Charleston     1793716      24038  Republican   \n",
       "Wisconsin      Midwest      Madison     5893718      54158  Republican   \n",
       "Wyoming           West     Cheyenne      576851      97093  Republican   \n",
       "\n",
       "               Density  \n",
       "State                   \n",
       "Alabama          99.21  \n",
       "Alaska            1.29  \n",
       "Arizona          62.96  \n",
       "...                ...  \n",
       "West Virginia    74.62  \n",
       "Wisconsin       108.82  \n",
       "Wyoming           5.94  \n",
       "\n",
       "[50 rows x 6 columns]"
      ]
     },
     "execution_count": 2,
     "metadata": {},
     "output_type": "execute_result"
    }
   ],
   "source": [
    "states = bpd.read_csv('data/states.csv')\n",
    "states = states.assign(Density=states.get('Population') / states.get('Land Area'))\n",
    "states = states.set_index('State')\n",
    "states"
   ]
  },
  {
   "cell_type": "code",
   "execution_count": 3,
   "metadata": {},
   "outputs": [
    {
     "data": {
      "text/html": [
       "<div>\n",
       "<style scoped>\n",
       "    .dataframe tbody tr th:only-of-type {\n",
       "        vertical-align: middle;\n",
       "    }\n",
       "\n",
       "    .dataframe tbody tr th {\n",
       "        vertical-align: top;\n",
       "    }\n",
       "\n",
       "    .dataframe thead th {\n",
       "        text-align: right;\n",
       "    }\n",
       "</style>\n",
       "<table border=\"1\" class=\"dataframe\">\n",
       "  <thead>\n",
       "    <tr style=\"text-align: right;\">\n",
       "      <th></th>\n",
       "      <th>Capital City</th>\n",
       "      <th>Population</th>\n",
       "      <th>Land Area</th>\n",
       "      <th>Party</th>\n",
       "      <th>Density</th>\n",
       "    </tr>\n",
       "    <tr>\n",
       "      <th>Region</th>\n",
       "      <th></th>\n",
       "      <th></th>\n",
       "      <th></th>\n",
       "      <th></th>\n",
       "      <th></th>\n",
       "    </tr>\n",
       "  </thead>\n",
       "  <tbody>\n",
       "    <tr>\n",
       "      <th>Midwest</th>\n",
       "      <td>12</td>\n",
       "      <td>12</td>\n",
       "      <td>12</td>\n",
       "      <td>12</td>\n",
       "      <td>12</td>\n",
       "    </tr>\n",
       "    <tr>\n",
       "      <th>Northeast</th>\n",
       "      <td>9</td>\n",
       "      <td>9</td>\n",
       "      <td>9</td>\n",
       "      <td>9</td>\n",
       "      <td>9</td>\n",
       "    </tr>\n",
       "    <tr>\n",
       "      <th>South</th>\n",
       "      <td>16</td>\n",
       "      <td>16</td>\n",
       "      <td>16</td>\n",
       "      <td>16</td>\n",
       "      <td>16</td>\n",
       "    </tr>\n",
       "    <tr>\n",
       "      <th>West</th>\n",
       "      <td>13</td>\n",
       "      <td>13</td>\n",
       "      <td>13</td>\n",
       "      <td>13</td>\n",
       "      <td>13</td>\n",
       "    </tr>\n",
       "  </tbody>\n",
       "</table>\n",
       "</div>"
      ],
      "text/plain": [
       "           Capital City  Population  Land Area  Party  Density\n",
       "Region                                                        \n",
       "Midwest              12          12         12     12       12\n",
       "Northeast             9           9          9      9        9\n",
       "South                16          16         16     16       16\n",
       "West                 13          13         13     13       13"
      ]
     },
     "execution_count": 3,
     "metadata": {},
     "output_type": "execute_result"
    }
   ],
   "source": [
    "states.groupby('Region').count()"
   ]
  },
  {
   "cell_type": "markdown",
   "metadata": {
    "slideshow": {
     "slide_type": "slide"
    }
   },
   "source": [
    "### Adjusting columns with `.assign`, `.drop`, and `.get`"
   ]
  },
  {
   "cell_type": "markdown",
   "metadata": {
    "slideshow": {
     "slide_type": "fragment"
    }
   },
   "source": [
    "1. To rename a column, use `.assign` to create a new column containing the same values as an existing column. \n",
    "    - New columns are added on the right."
   ]
  },
  {
   "cell_type": "markdown",
   "metadata": {
    "slideshow": {
     "slide_type": "fragment"
    }
   },
   "source": [
    "2. Then use `.drop(columns=list_of_column_labels)` to drop any columns you no longer need. \n",
    "    - Alternatively, use `.get(list_of_column_labels)` to keep only certain columns. The columns will appear in the order you specify, so this is also useful for reordering columns!"
   ]
  },
  {
   "cell_type": "markdown",
   "metadata": {
    "slideshow": {
     "slide_type": "slide"
    }
   },
   "source": [
    "## Two ways to `.get`\n",
    "\n",
    "1. Getting a single column name gives a Series.\n",
    "2. Getting a `list` of column names gives a DataFrame. (Even if the list has just one element!)"
   ]
  },
  {
   "cell_type": "code",
   "execution_count": 4,
   "metadata": {
    "scrolled": true
   },
   "outputs": [
    {
     "data": {
      "text/plain": [
       "State\n",
       "Alabama          Montgomery\n",
       "Alaska               Juneau\n",
       "Arizona             Phoenix\n",
       "                    ...    \n",
       "West Virginia    Charleston\n",
       "Wisconsin           Madison\n",
       "Wyoming            Cheyenne\n",
       "Name: Capital City, Length: 50, dtype: object"
      ]
     },
     "execution_count": 4,
     "metadata": {},
     "output_type": "execute_result"
    }
   ],
   "source": [
    "states.get('Capital City')"
   ]
  },
  {
   "cell_type": "code",
   "execution_count": 5,
   "metadata": {},
   "outputs": [
    {
     "data": {
      "text/html": [
       "<div>\n",
       "<style scoped>\n",
       "    .dataframe tbody tr th:only-of-type {\n",
       "        vertical-align: middle;\n",
       "    }\n",
       "\n",
       "    .dataframe tbody tr th {\n",
       "        vertical-align: top;\n",
       "    }\n",
       "\n",
       "    .dataframe thead th {\n",
       "        text-align: right;\n",
       "    }\n",
       "</style>\n",
       "<table border=\"1\" class=\"dataframe\">\n",
       "  <thead>\n",
       "    <tr style=\"text-align: right;\">\n",
       "      <th></th>\n",
       "      <th>Capital City</th>\n",
       "      <th>Party</th>\n",
       "    </tr>\n",
       "    <tr>\n",
       "      <th>State</th>\n",
       "      <th></th>\n",
       "      <th></th>\n",
       "    </tr>\n",
       "  </thead>\n",
       "  <tbody>\n",
       "    <tr>\n",
       "      <th>Alabama</th>\n",
       "      <td>Montgomery</td>\n",
       "      <td>Republican</td>\n",
       "    </tr>\n",
       "    <tr>\n",
       "      <th>Alaska</th>\n",
       "      <td>Juneau</td>\n",
       "      <td>Republican</td>\n",
       "    </tr>\n",
       "    <tr>\n",
       "      <th>Arizona</th>\n",
       "      <td>Phoenix</td>\n",
       "      <td>Republican</td>\n",
       "    </tr>\n",
       "    <tr>\n",
       "      <th>...</th>\n",
       "      <td>...</td>\n",
       "      <td>...</td>\n",
       "    </tr>\n",
       "    <tr>\n",
       "      <th>West Virginia</th>\n",
       "      <td>Charleston</td>\n",
       "      <td>Republican</td>\n",
       "    </tr>\n",
       "    <tr>\n",
       "      <th>Wisconsin</th>\n",
       "      <td>Madison</td>\n",
       "      <td>Republican</td>\n",
       "    </tr>\n",
       "    <tr>\n",
       "      <th>Wyoming</th>\n",
       "      <td>Cheyenne</td>\n",
       "      <td>Republican</td>\n",
       "    </tr>\n",
       "  </tbody>\n",
       "</table>\n",
       "<p>50 rows × 2 columns</p>\n",
       "</div>"
      ],
      "text/plain": [
       "              Capital City       Party\n",
       "State                                 \n",
       "Alabama         Montgomery  Republican\n",
       "Alaska              Juneau  Republican\n",
       "Arizona            Phoenix  Republican\n",
       "...                    ...         ...\n",
       "West Virginia   Charleston  Republican\n",
       "Wisconsin          Madison  Republican\n",
       "Wyoming           Cheyenne  Republican\n",
       "\n",
       "[50 rows x 2 columns]"
      ]
     },
     "execution_count": 5,
     "metadata": {},
     "output_type": "execute_result"
    }
   ],
   "source": [
    "states.get(['Capital City', 'Party'])"
   ]
  },
  {
   "cell_type": "code",
   "execution_count": 6,
   "metadata": {},
   "outputs": [
    {
     "data": {
      "text/html": [
       "<div>\n",
       "<style scoped>\n",
       "    .dataframe tbody tr th:only-of-type {\n",
       "        vertical-align: middle;\n",
       "    }\n",
       "\n",
       "    .dataframe tbody tr th {\n",
       "        vertical-align: top;\n",
       "    }\n",
       "\n",
       "    .dataframe thead th {\n",
       "        text-align: right;\n",
       "    }\n",
       "</style>\n",
       "<table border=\"1\" class=\"dataframe\">\n",
       "  <thead>\n",
       "    <tr style=\"text-align: right;\">\n",
       "      <th></th>\n",
       "      <th>Capital City</th>\n",
       "    </tr>\n",
       "    <tr>\n",
       "      <th>State</th>\n",
       "      <th></th>\n",
       "    </tr>\n",
       "  </thead>\n",
       "  <tbody>\n",
       "    <tr>\n",
       "      <th>Alabama</th>\n",
       "      <td>Montgomery</td>\n",
       "    </tr>\n",
       "    <tr>\n",
       "      <th>Alaska</th>\n",
       "      <td>Juneau</td>\n",
       "    </tr>\n",
       "    <tr>\n",
       "      <th>Arizona</th>\n",
       "      <td>Phoenix</td>\n",
       "    </tr>\n",
       "    <tr>\n",
       "      <th>...</th>\n",
       "      <td>...</td>\n",
       "    </tr>\n",
       "    <tr>\n",
       "      <th>West Virginia</th>\n",
       "      <td>Charleston</td>\n",
       "    </tr>\n",
       "    <tr>\n",
       "      <th>Wisconsin</th>\n",
       "      <td>Madison</td>\n",
       "    </tr>\n",
       "    <tr>\n",
       "      <th>Wyoming</th>\n",
       "      <td>Cheyenne</td>\n",
       "    </tr>\n",
       "  </tbody>\n",
       "</table>\n",
       "<p>50 rows × 1 columns</p>\n",
       "</div>"
      ],
      "text/plain": [
       "              Capital City\n",
       "State                     \n",
       "Alabama         Montgomery\n",
       "Alaska              Juneau\n",
       "Arizona            Phoenix\n",
       "...                    ...\n",
       "West Virginia   Charleston\n",
       "Wisconsin          Madison\n",
       "Wyoming           Cheyenne\n",
       "\n",
       "[50 rows x 1 columns]"
      ]
     },
     "execution_count": 6,
     "metadata": {},
     "output_type": "execute_result"
    }
   ],
   "source": [
    "states.get(['Capital City'])"
   ]
  },
  {
   "cell_type": "markdown",
   "metadata": {
    "slideshow": {
     "slide_type": "slide"
    }
   },
   "source": [
    "### Activity\n",
    "\n",
    "Change the DataFrame `states_by_region` so that it only has one column, called `'Count'`, containing the number of states in each region."
   ]
  },
  {
   "cell_type": "code",
   "execution_count": 7,
   "metadata": {},
   "outputs": [
    {
     "data": {
      "text/html": [
       "<div>\n",
       "<style scoped>\n",
       "    .dataframe tbody tr th:only-of-type {\n",
       "        vertical-align: middle;\n",
       "    }\n",
       "\n",
       "    .dataframe tbody tr th {\n",
       "        vertical-align: top;\n",
       "    }\n",
       "\n",
       "    .dataframe thead th {\n",
       "        text-align: right;\n",
       "    }\n",
       "</style>\n",
       "<table border=\"1\" class=\"dataframe\">\n",
       "  <thead>\n",
       "    <tr style=\"text-align: right;\">\n",
       "      <th></th>\n",
       "      <th>Capital City</th>\n",
       "      <th>Population</th>\n",
       "      <th>Land Area</th>\n",
       "      <th>Party</th>\n",
       "      <th>Density</th>\n",
       "    </tr>\n",
       "    <tr>\n",
       "      <th>Region</th>\n",
       "      <th></th>\n",
       "      <th></th>\n",
       "      <th></th>\n",
       "      <th></th>\n",
       "      <th></th>\n",
       "    </tr>\n",
       "  </thead>\n",
       "  <tbody>\n",
       "    <tr>\n",
       "      <th>Midwest</th>\n",
       "      <td>12</td>\n",
       "      <td>12</td>\n",
       "      <td>12</td>\n",
       "      <td>12</td>\n",
       "      <td>12</td>\n",
       "    </tr>\n",
       "    <tr>\n",
       "      <th>Northeast</th>\n",
       "      <td>9</td>\n",
       "      <td>9</td>\n",
       "      <td>9</td>\n",
       "      <td>9</td>\n",
       "      <td>9</td>\n",
       "    </tr>\n",
       "    <tr>\n",
       "      <th>South</th>\n",
       "      <td>16</td>\n",
       "      <td>16</td>\n",
       "      <td>16</td>\n",
       "      <td>16</td>\n",
       "      <td>16</td>\n",
       "    </tr>\n",
       "    <tr>\n",
       "      <th>West</th>\n",
       "      <td>13</td>\n",
       "      <td>13</td>\n",
       "      <td>13</td>\n",
       "      <td>13</td>\n",
       "      <td>13</td>\n",
       "    </tr>\n",
       "  </tbody>\n",
       "</table>\n",
       "</div>"
      ],
      "text/plain": [
       "           Capital City  Population  Land Area  Party  Density\n",
       "Region                                                        \n",
       "Midwest              12          12         12     12       12\n",
       "Northeast             9           9          9      9        9\n",
       "South                16          16         16     16       16\n",
       "West                 13          13         13     13       13"
      ]
     },
     "execution_count": 7,
     "metadata": {},
     "output_type": "execute_result"
    }
   ],
   "source": [
    "states_by_region = states.groupby('Region').count()\n",
    "states_by_region"
   ]
  },
  {
   "cell_type": "markdown",
   "metadata": {
    "slideshow": {
     "slide_type": "slide"
    }
   },
   "source": [
    "## Why visualize?"
   ]
  },
  {
   "cell_type": "markdown",
   "metadata": {
    "slideshow": {
     "slide_type": "slide"
    }
   },
   "source": [
    "### Little Women\n",
    "\n",
    "In Lecture 1, we were able to answer questions about the plot of _Little Women_ without having to read the novel and without having to understand Python code. Some of those questions included:\n",
    "\n",
    "- Who is the main character?\n",
    "- Which pair of characters gets married at the end?\n",
    "\n",
    "We answered these questions from a data visualization alone!"
   ]
  },
  {
   "cell_type": "code",
   "execution_count": 8,
   "metadata": {},
   "outputs": [
    {
     "data": {
      "image/png": "[encoded data removed]",
      "text/plain": [
       "<Figure size 1000x500 with 1 Axes>"
      ]
     },
     "metadata": {},
     "output_type": "display_data"
    }
   ],
   "source": [
    "bpd.read_csv('data/lw_counts.csv').plot(x='Chapter');"
   ]
  },
  {
   "cell_type": "markdown",
   "metadata": {
    "slideshow": {
     "slide_type": "slide"
    }
   },
   "source": [
    "### Why visualize?"
   ]
  },
  {
   "cell_type": "markdown",
   "metadata": {
    "slideshow": {
     "slide_type": "fragment"
    }
   },
   "source": [
    "- Computers are better than humans at crunching numbers, but humans are better at identifying visual patterns."
   ]
  },
  {
   "cell_type": "markdown",
   "metadata": {
    "slideshow": {
     "slide_type": "fragment"
    }
   },
   "source": [
    "- Visualizations allow us to understand lots of data quickly – they make it easier to spot trends and communicate our results with others."
   ]
  },
  {
   "cell_type": "markdown",
   "metadata": {
    "slideshow": {
     "slide_type": "fragment"
    }
   },
   "source": [
    "- There are many types of visualizations; in this class, we'll look at scatter plots, line plots, bar charts, and histograms, but there are many others.\n",
    "    - The right choice depends on the type of data."
   ]
  },
  {
   "cell_type": "markdown",
   "metadata": {
    "slideshow": {
     "slide_type": "slide"
    }
   },
   "source": [
    "## Terminology"
   ]
  },
  {
   "cell_type": "markdown",
   "metadata": {
    "slideshow": {
     "slide_type": "slide"
    }
   },
   "source": [
    "### Individuals and variables\n",
    "\n",
    "<center><img src='images/states-indiv-var.png' width=1000/></center>"
   ]
  },
  {
   "cell_type": "markdown",
   "metadata": {
    "slideshow": {
     "slide_type": "fragment"
    }
   },
   "source": [
    "- <span style=\"color:#6d9eeb\"><b>Individual (row)</b></span>: Person/place/thing for which data is recorded. Also called an **observation**."
   ]
  },
  {
   "cell_type": "markdown",
   "metadata": {
    "slideshow": {
     "slide_type": "fragment"
    }
   },
   "source": [
    "- <span style=\"color:#ff9900\"><b>Variable (column)</b></span>: Something that is recorded for each individual. Also called a **feature**."
   ]
  },
  {
   "cell_type": "markdown",
   "metadata": {
    "slideshow": {
     "slide_type": "slide"
    }
   },
   "source": [
    "### Types of variables\n",
    "\n",
    "There are two main types of variables:\n",
    "\n",
    "- **Numerical**: It makes sense to do arithmetic with the values.\n",
    "- **Categorical**: Values fall into categories, that may or may not have some _order_ to them."
   ]
  },
  {
   "cell_type": "markdown",
   "metadata": {
    "slideshow": {
     "slide_type": "fragment"
    }
   },
   "source": [
    "Note that here, \"variable\" does not mean a variable in Python, but rather it means a column in a DataFrame."
   ]
  },
  {
   "cell_type": "markdown",
   "metadata": {
    "slideshow": {
     "slide_type": "slide"
    }
   },
   "source": [
    "### Examples of numerical variables"
   ]
  },
  {
   "cell_type": "markdown",
   "metadata": {
    "slideshow": {
     "slide_type": "fragment"
    }
   },
   "source": [
    "- Salaries of NBA players 🏀.\n",
    "    - Individual: An NBA player.\n",
    "    - Variable: Their salary."
   ]
  },
  {
   "cell_type": "markdown",
   "metadata": {
    "slideshow": {
     "slide_type": "fragment"
    }
   },
   "source": [
    "- Company's annual profit 💰.\n",
    "    - Individual: A company.\n",
    "    - Variable: Its annual profit."
   ]
  },
  {
   "cell_type": "markdown",
   "metadata": {
    "slideshow": {
     "slide_type": "fragment"
    }
   },
   "source": [
    "- Flu shots administered per day 💉.\n",
    "    - Individual: Date.\n",
    "    - Variable: Number of flu shots administered on that date."
   ]
  },
  {
   "cell_type": "markdown",
   "metadata": {
    "slideshow": {
     "slide_type": "slide"
    }
   },
   "source": [
    "### Examples of categorical variables"
   ]
  },
  {
   "cell_type": "markdown",
   "metadata": {
    "slideshow": {
     "slide_type": "fragment"
    }
   },
   "source": [
    "- Movie genres 🎬.\n",
    "    - Individual: A movie.\n",
    "    - Variable: Its genre."
   ]
  },
  {
   "cell_type": "markdown",
   "metadata": {
    "slideshow": {
     "slide_type": "fragment"
    }
   },
   "source": [
    "- Zip codes 🏠.\n",
    "    - Individual: US resident.\n",
    "    - Variable: Zip code.\n",
    "        - Even though they look like numbers, zip codes are categorical (arithmetic doesn't make sense)."
   ]
  },
  {
   "cell_type": "markdown",
   "metadata": {
    "slideshow": {
     "slide_type": "fragment"
    }
   },
   "source": [
    "- Level of prior programming experience for students in DSC 10 🧑‍🎓.\n",
    "    - Individual: Student in DSC 10.\n",
    "    - Variable: Their level of prior programming experience, e.g. none, low, medium, or high. \n",
    "        - There is an _order_ to these categories!"
   ]
  },
  {
   "attachments": {},
   "cell_type": "markdown",
   "metadata": {
    "slideshow": {
     "slide_type": "slide"
    }
   },
   "source": [
    "### Concept Check ✅\n",
    "\n",
    "Which of these is **not** a numerical variable?\n",
    "\n",
    "A. Fuel economy in miles per gallon.\n",
    "\n",
    "B. Number of quarters at UCSD.\n",
    "\n",
    "C. College at UCSD (Sixth, Seventh, etc).\n",
    "\n",
    "D. Bank account number.\n",
    "\n",
    "E. More than one of these are not numerical variables."
   ]
  },
  {
   "cell_type": "markdown",
   "metadata": {
    "slideshow": {
     "slide_type": "slide"
    }
   },
   "source": [
    "### Types of visualizations\n",
    "\n",
    "The type of visualization we create depends on the kinds of variables we're visualizing.\n",
    "\n",
    "- **Scatter plot**: Numerical vs. numerical.\n",
    "- **Line plot**: Sequential numerical (time) vs. numerical.\n",
    "- **Bar chart**: Categorical vs. numerical.\n",
    "- **Histogram**: Numerical.\n",
    "    - Will cover next time.\n",
    "    \n",
    "We may interchange the words \"plot\", \"chart\", and \"graph\"; they all mean the same thing."
   ]
  },
  {
   "cell_type": "markdown",
   "metadata": {
    "slideshow": {
     "slide_type": "slide"
    }
   },
   "source": [
    "## Scatter plots"
   ]
  },
  {
   "cell_type": "markdown",
   "metadata": {
    "slideshow": {
     "slide_type": "slide"
    }
   },
   "source": [
    "### The data: exoplanets discovered by NASA 🪐\n",
    "\n",
    "An [exoplanet](https://exoplanets.nasa.gov/what-is-an-exoplanet/overview/) is a planet outside our solar system. NASA has discovered over 5,000 exoplanets so far in its [search for signs of life beyond Earth](https://exoplanets.nasa.gov/search-for-life/big-questions/). 👽 "
   ]
  },
  {
   "cell_type": "markdown",
   "metadata": {
    "slideshow": {
     "slide_type": "fragment"
    }
   },
   "source": [
    "|Column |Contents|\n",
    "|----------|------------|\n",
    "`'Distance'`| Distance from Earth, in light years.\n",
    "`'Magnitude'`|\t[Apparent magnitude](https://en.wikipedia.org/wiki/Apparent_magnitude#), which measures brightness in such a way that brighter objects have **lower** values.\n",
    "`'Type'`|  Categorization of planet based on its composition and size.\n",
    "`'Year'`|\tWhen the planet was discovered.\n",
    "`'Detection'`|\tThe method of detection used to discover the planet.\n",
    "`'Mass'`|\tThe ratio of the planet's mass to Earth's mass. \n",
    "`'Radius'`|  The ratio of the planet's radius to Earth's radius."
   ]
  },
  {
   "cell_type": "code",
   "execution_count": 9,
   "metadata": {
    "slideshow": {
     "slide_type": "slide"
    }
   },
   "outputs": [
    {
     "data": {
      "text/html": [
       "<div>\n",
       "<style scoped>\n",
       "    .dataframe tbody tr th:only-of-type {\n",
       "        vertical-align: middle;\n",
       "    }\n",
       "\n",
       "    .dataframe tbody tr th {\n",
       "        vertical-align: top;\n",
       "    }\n",
       "\n",
       "    .dataframe thead th {\n",
       "        text-align: right;\n",
       "    }\n",
       "</style>\n",
       "<table border=\"1\" class=\"dataframe\">\n",
       "  <thead>\n",
       "    <tr style=\"text-align: right;\">\n",
       "      <th></th>\n",
       "      <th>Distance</th>\n",
       "      <th>Magnitude</th>\n",
       "      <th>Type</th>\n",
       "      <th>Year</th>\n",
       "      <th>Detection</th>\n",
       "      <th>Mass</th>\n",
       "      <th>Radius</th>\n",
       "    </tr>\n",
       "    <tr>\n",
       "      <th>Name</th>\n",
       "      <th></th>\n",
       "      <th></th>\n",
       "      <th></th>\n",
       "      <th></th>\n",
       "      <th></th>\n",
       "      <th></th>\n",
       "      <th></th>\n",
       "    </tr>\n",
       "  </thead>\n",
       "  <tbody>\n",
       "    <tr>\n",
       "      <th>11 Comae Berenices b</th>\n",
       "      <td>304.0</td>\n",
       "      <td>4.72</td>\n",
       "      <td>Gas Giant</td>\n",
       "      <td>2007</td>\n",
       "      <td>Radial Velocity</td>\n",
       "      <td>6165.90</td>\n",
       "      <td>11.88</td>\n",
       "    </tr>\n",
       "    <tr>\n",
       "      <th>11 Ursae Minoris b</th>\n",
       "      <td>409.0</td>\n",
       "      <td>5.01</td>\n",
       "      <td>Gas Giant</td>\n",
       "      <td>2009</td>\n",
       "      <td>Radial Velocity</td>\n",
       "      <td>4684.81</td>\n",
       "      <td>11.99</td>\n",
       "    </tr>\n",
       "    <tr>\n",
       "      <th>14 Andromedae b</th>\n",
       "      <td>246.0</td>\n",
       "      <td>5.23</td>\n",
       "      <td>Gas Giant</td>\n",
       "      <td>2008</td>\n",
       "      <td>Radial Velocity</td>\n",
       "      <td>1525.58</td>\n",
       "      <td>12.65</td>\n",
       "    </tr>\n",
       "    <tr>\n",
       "      <th>...</th>\n",
       "      <td>...</td>\n",
       "      <td>...</td>\n",
       "      <td>...</td>\n",
       "      <td>...</td>\n",
       "      <td>...</td>\n",
       "      <td>...</td>\n",
       "      <td>...</td>\n",
       "    </tr>\n",
       "    <tr>\n",
       "      <th>YZ Ceti b</th>\n",
       "      <td>12.0</td>\n",
       "      <td>12.07</td>\n",
       "      <td>Terrestrial</td>\n",
       "      <td>2017</td>\n",
       "      <td>Radial Velocity</td>\n",
       "      <td>0.70</td>\n",
       "      <td>0.91</td>\n",
       "    </tr>\n",
       "    <tr>\n",
       "      <th>YZ Ceti c</th>\n",
       "      <td>12.0</td>\n",
       "      <td>12.07</td>\n",
       "      <td>Super Earth</td>\n",
       "      <td>2017</td>\n",
       "      <td>Radial Velocity</td>\n",
       "      <td>1.14</td>\n",
       "      <td>1.05</td>\n",
       "    </tr>\n",
       "    <tr>\n",
       "      <th>YZ Ceti d</th>\n",
       "      <td>12.0</td>\n",
       "      <td>12.07</td>\n",
       "      <td>Super Earth</td>\n",
       "      <td>2017</td>\n",
       "      <td>Radial Velocity</td>\n",
       "      <td>1.09</td>\n",
       "      <td>1.03</td>\n",
       "    </tr>\n",
       "  </tbody>\n",
       "</table>\n",
       "<p>5043 rows × 7 columns</p>\n",
       "</div>"
      ],
      "text/plain": [
       "                      Distance  Magnitude         Type  Year        Detection  \\\n",
       "Name                                                                            \n",
       "11 Comae Berenices b     304.0       4.72    Gas Giant  2007  Radial Velocity   \n",
       "11 Ursae Minoris b       409.0       5.01    Gas Giant  2009  Radial Velocity   \n",
       "14 Andromedae b          246.0       5.23    Gas Giant  2008  Radial Velocity   \n",
       "...                        ...        ...          ...   ...              ...   \n",
       "YZ Ceti b                 12.0      12.07  Terrestrial  2017  Radial Velocity   \n",
       "YZ Ceti c                 12.0      12.07  Super Earth  2017  Radial Velocity   \n",
       "YZ Ceti d                 12.0      12.07  Super Earth  2017  Radial Velocity   \n",
       "\n",
       "                         Mass  Radius  \n",
       "Name                                   \n",
       "11 Comae Berenices b  6165.90   11.88  \n",
       "11 Ursae Minoris b    4684.81   11.99  \n",
       "14 Andromedae b       1525.58   12.65  \n",
       "...                       ...     ...  \n",
       "YZ Ceti b                0.70    0.91  \n",
       "YZ Ceti c                1.14    1.05  \n",
       "YZ Ceti d                1.09    1.03  \n",
       "\n",
       "[5043 rows x 7 columns]"
      ]
     },
     "execution_count": 9,
     "metadata": {},
     "output_type": "execute_result"
    }
   ],
   "source": [
    "exo = bpd.read_csv('data/exoplanets.csv').set_index('Name')\n",
    "exo"
   ]
  },
  {
   "cell_type": "markdown",
   "metadata": {
    "slideshow": {
     "slide_type": "slide"
    }
   },
   "source": [
    "### Scatter plots"
   ]
  },
  {
   "cell_type": "markdown",
   "metadata": {
    "slideshow": {
     "slide_type": "fragment"
    }
   },
   "source": [
    "- What is the relationship between `'Distance'` and `'Magnitude'`?"
   ]
  },
  {
   "cell_type": "code",
   "execution_count": 10,
   "metadata": {},
   "outputs": [
    {
     "data": {
      "image/png": "[encoded data removed]",
      "text/plain": [
       "<Figure size 1000x500 with 1 Axes>"
      ]
     },
     "metadata": {},
     "output_type": "display_data"
    }
   ],
   "source": [
    "exo.plot(kind='scatter', x='Distance', y='Magnitude');"
   ]
  },
  {
   "cell_type": "markdown",
   "metadata": {
    "slideshow": {
     "slide_type": "fragment"
    }
   },
   "source": [
    "- Further planets have greater `'Magnitude'` (meaning they are less bright), which makes sense.\n",
    "\n",
    "- The data appears curved because `'Magnitude'` is measured on a logarithmic scale. A decrease of one unit in `'Magnitude'` corresponds to a 2.5 times increase in brightness."
   ]
  },
  {
   "cell_type": "markdown",
   "metadata": {},
   "source": [
    "<center><img src='images/magnitude.png' width=600></center>"
   ]
  },
  {
   "cell_type": "markdown",
   "metadata": {
    "slideshow": {
     "slide_type": "slide"
    }
   },
   "source": [
    "### Scatter plots\n",
    "\n",
    "- Scatter plots visualize the relationship between two numerical variables.\n",
    "- To create one from a DataFrame `df`, use\n",
    "```py\n",
    "df.plot(\n",
    "    kind='scatter', \n",
    "    x=x_column_for_horizontal, \n",
    "    y=y_column_for_vertical\n",
    ")\n",
    "```\n",
    "- The resulting scatter plot has one point per row of `df`.\n",
    "- If you put a semicolon after a call to `.plot`, it will hide the weird text output that displays."
   ]
  },
  {
   "cell_type": "markdown",
   "metadata": {
    "slideshow": {
     "slide_type": "slide"
    }
   },
   "source": [
    "### Zooming in 🔍\n",
    "\n",
    "The majority of exoplanets are less than 10,000 light years away; if we'd like to zoom in on just these exoplanets, we can query before plotting."
   ]
  },
  {
   "cell_type": "code",
   "execution_count": 11,
   "metadata": {},
   "outputs": [
    {
     "data": {
      "image/png": "[encoded data removed]",
      "text/plain": [
       "<Figure size 1000x500 with 1 Axes>"
      ]
     },
     "metadata": {},
     "output_type": "display_data"
    }
   ],
   "source": [
    "exo[exo.get('Distance') < 10000].plot(kind='scatter', x='Distance', y='Magnitude');"
   ]
  },
  {
   "cell_type": "markdown",
   "metadata": {
    "slideshow": {
     "slide_type": "slide"
    }
   },
   "source": [
    "## Line plots 📉"
   ]
  },
  {
   "cell_type": "markdown",
   "metadata": {
    "slideshow": {
     "slide_type": "slide"
    }
   },
   "source": [
    "### Line plots"
   ]
  },
  {
   "cell_type": "markdown",
   "metadata": {
    "slideshow": {
     "slide_type": "fragment"
    }
   },
   "source": [
    "- How has the `'Magnitude'` of newly discovered exoplanets changed over time?"
   ]
  },
  {
   "cell_type": "code",
   "execution_count": 12,
   "metadata": {},
   "outputs": [
    {
     "data": {
      "text/html": [
       "<div>\n",
       "<style scoped>\n",
       "    .dataframe tbody tr th:only-of-type {\n",
       "        vertical-align: middle;\n",
       "    }\n",
       "\n",
       "    .dataframe tbody tr th {\n",
       "        vertical-align: top;\n",
       "    }\n",
       "\n",
       "    .dataframe thead th {\n",
       "        text-align: right;\n",
       "    }\n",
       "</style>\n",
       "<table border=\"1\" class=\"dataframe\">\n",
       "  <thead>\n",
       "    <tr style=\"text-align: right;\">\n",
       "      <th></th>\n",
       "      <th>Distance</th>\n",
       "      <th>Magnitude</th>\n",
       "      <th>Type</th>\n",
       "      <th>Year</th>\n",
       "      <th>Detection</th>\n",
       "      <th>Mass</th>\n",
       "      <th>Radius</th>\n",
       "    </tr>\n",
       "    <tr>\n",
       "      <th>Name</th>\n",
       "      <th></th>\n",
       "      <th></th>\n",
       "      <th></th>\n",
       "      <th></th>\n",
       "      <th></th>\n",
       "      <th></th>\n",
       "      <th></th>\n",
       "    </tr>\n",
       "  </thead>\n",
       "  <tbody>\n",
       "    <tr>\n",
       "      <th>11 Comae Berenices b</th>\n",
       "      <td>304.0</td>\n",
       "      <td>4.72</td>\n",
       "      <td>Gas Giant</td>\n",
       "      <td>2007</td>\n",
       "      <td>Radial Velocity</td>\n",
       "      <td>6165.90</td>\n",
       "      <td>11.88</td>\n",
       "    </tr>\n",
       "    <tr>\n",
       "      <th>11 Ursae Minoris b</th>\n",
       "      <td>409.0</td>\n",
       "      <td>5.01</td>\n",
       "      <td>Gas Giant</td>\n",
       "      <td>2009</td>\n",
       "      <td>Radial Velocity</td>\n",
       "      <td>4684.81</td>\n",
       "      <td>11.99</td>\n",
       "    </tr>\n",
       "    <tr>\n",
       "      <th>14 Andromedae b</th>\n",
       "      <td>246.0</td>\n",
       "      <td>5.23</td>\n",
       "      <td>Gas Giant</td>\n",
       "      <td>2008</td>\n",
       "      <td>Radial Velocity</td>\n",
       "      <td>1525.58</td>\n",
       "      <td>12.65</td>\n",
       "    </tr>\n",
       "    <tr>\n",
       "      <th>...</th>\n",
       "      <td>...</td>\n",
       "      <td>...</td>\n",
       "      <td>...</td>\n",
       "      <td>...</td>\n",
       "      <td>...</td>\n",
       "      <td>...</td>\n",
       "      <td>...</td>\n",
       "    </tr>\n",
       "    <tr>\n",
       "      <th>YZ Ceti b</th>\n",
       "      <td>12.0</td>\n",
       "      <td>12.07</td>\n",
       "      <td>Terrestrial</td>\n",
       "      <td>2017</td>\n",
       "      <td>Radial Velocity</td>\n",
       "      <td>0.70</td>\n",
       "      <td>0.91</td>\n",
       "    </tr>\n",
       "    <tr>\n",
       "      <th>YZ Ceti c</th>\n",
       "      <td>12.0</td>\n",
       "      <td>12.07</td>\n",
       "      <td>Super Earth</td>\n",
       "      <td>2017</td>\n",
       "      <td>Radial Velocity</td>\n",
       "      <td>1.14</td>\n",
       "      <td>1.05</td>\n",
       "    </tr>\n",
       "    <tr>\n",
       "      <th>YZ Ceti d</th>\n",
       "      <td>12.0</td>\n",
       "      <td>12.07</td>\n",
       "      <td>Super Earth</td>\n",
       "      <td>2017</td>\n",
       "      <td>Radial Velocity</td>\n",
       "      <td>1.09</td>\n",
       "      <td>1.03</td>\n",
       "    </tr>\n",
       "  </tbody>\n",
       "</table>\n",
       "<p>5043 rows × 7 columns</p>\n",
       "</div>"
      ],
      "text/plain": [
       "                      Distance  Magnitude         Type  Year        Detection  \\\n",
       "Name                                                                            \n",
       "11 Comae Berenices b     304.0       4.72    Gas Giant  2007  Radial Velocity   \n",
       "11 Ursae Minoris b       409.0       5.01    Gas Giant  2009  Radial Velocity   \n",
       "14 Andromedae b          246.0       5.23    Gas Giant  2008  Radial Velocity   \n",
       "...                        ...        ...          ...   ...              ...   \n",
       "YZ Ceti b                 12.0      12.07  Terrestrial  2017  Radial Velocity   \n",
       "YZ Ceti c                 12.0      12.07  Super Earth  2017  Radial Velocity   \n",
       "YZ Ceti d                 12.0      12.07  Super Earth  2017  Radial Velocity   \n",
       "\n",
       "                         Mass  Radius  \n",
       "Name                                   \n",
       "11 Comae Berenices b  6165.90   11.88  \n",
       "11 Ursae Minoris b    4684.81   11.99  \n",
       "14 Andromedae b       1525.58   12.65  \n",
       "...                       ...     ...  \n",
       "YZ Ceti b                0.70    0.91  \n",
       "YZ Ceti c                1.14    1.05  \n",
       "YZ Ceti d                1.09    1.03  \n",
       "\n",
       "[5043 rows x 7 columns]"
      ]
     },
     "execution_count": 12,
     "metadata": {},
     "output_type": "execute_result"
    }
   ],
   "source": [
    "# There were multiple exoplanets discovered each year.\n",
    "# What operation can we apply to this DataFrame so that there is one row per year?\n",
    "exo"
   ]
  },
  {
   "cell_type": "markdown",
   "metadata": {
    "slideshow": {
     "slide_type": "fragment"
    }
   },
   "source": [
    "- Let's calculate the average `'Magnitude'` of all exoplanets discovered in each `'Year'`."
   ]
  },
  {
   "cell_type": "code",
   "execution_count": 13,
   "metadata": {},
   "outputs": [
    {
     "data": {
      "text/html": [
       "<div>\n",
       "<style scoped>\n",
       "    .dataframe tbody tr th:only-of-type {\n",
       "        vertical-align: middle;\n",
       "    }\n",
       "\n",
       "    .dataframe tbody tr th {\n",
       "        vertical-align: top;\n",
       "    }\n",
       "\n",
       "    .dataframe thead th {\n",
       "        text-align: right;\n",
       "    }\n",
       "</style>\n",
       "<table border=\"1\" class=\"dataframe\">\n",
       "  <thead>\n",
       "    <tr style=\"text-align: right;\">\n",
       "      <th></th>\n",
       "      <th>Distance</th>\n",
       "      <th>Magnitude</th>\n",
       "      <th>Mass</th>\n",
       "      <th>Radius</th>\n",
       "    </tr>\n",
       "    <tr>\n",
       "      <th>Year</th>\n",
       "      <th></th>\n",
       "      <th></th>\n",
       "      <th></th>\n",
       "      <th></th>\n",
       "    </tr>\n",
       "  </thead>\n",
       "  <tbody>\n",
       "    <tr>\n",
       "      <th>1995</th>\n",
       "      <td>50.00</td>\n",
       "      <td>5.45</td>\n",
       "      <td>146.20</td>\n",
       "      <td>13.97</td>\n",
       "    </tr>\n",
       "    <tr>\n",
       "      <th>1996</th>\n",
       "      <td>51.33</td>\n",
       "      <td>5.12</td>\n",
       "      <td>1020.67</td>\n",
       "      <td>13.09</td>\n",
       "    </tr>\n",
       "    <tr>\n",
       "      <th>1997</th>\n",
       "      <td>57.00</td>\n",
       "      <td>5.41</td>\n",
       "      <td>332.10</td>\n",
       "      <td>13.53</td>\n",
       "    </tr>\n",
       "    <tr>\n",
       "      <th>...</th>\n",
       "      <td>...</td>\n",
       "      <td>...</td>\n",
       "      <td>...</td>\n",
       "      <td>...</td>\n",
       "    </tr>\n",
       "    <tr>\n",
       "      <th>2021</th>\n",
       "      <td>1944.22</td>\n",
       "      <td>13.01</td>\n",
       "      <td>255.42</td>\n",
       "      <td>4.44</td>\n",
       "    </tr>\n",
       "    <tr>\n",
       "      <th>2022</th>\n",
       "      <td>508.61</td>\n",
       "      <td>10.62</td>\n",
       "      <td>943.16</td>\n",
       "      <td>6.77</td>\n",
       "    </tr>\n",
       "    <tr>\n",
       "      <th>2023</th>\n",
       "      <td>451.89</td>\n",
       "      <td>12.09</td>\n",
       "      <td>162.78</td>\n",
       "      <td>7.12</td>\n",
       "    </tr>\n",
       "  </tbody>\n",
       "</table>\n",
       "<p>29 rows × 4 columns</p>\n",
       "</div>"
      ],
      "text/plain": [
       "      Distance  Magnitude     Mass  Radius\n",
       "Year                                      \n",
       "1995     50.00       5.45   146.20   13.97\n",
       "1996     51.33       5.12  1020.67   13.09\n",
       "1997     57.00       5.41   332.10   13.53\n",
       "...        ...        ...      ...     ...\n",
       "2021   1944.22      13.01   255.42    4.44\n",
       "2022    508.61      10.62   943.16    6.77\n",
       "2023    451.89      12.09   162.78    7.12\n",
       "\n",
       "[29 rows x 4 columns]"
      ]
     },
     "execution_count": 13,
     "metadata": {},
     "output_type": "execute_result"
    }
   ],
   "source": [
    "exo.groupby('Year').mean()"
   ]
  },
  {
   "cell_type": "code",
   "execution_count": 14,
   "metadata": {},
   "outputs": [
    {
     "data": {
      "image/png": "[encoded data removed]",
      "text/plain": [
       "<Figure size 1000x500 with 1 Axes>"
      ]
     },
     "metadata": {},
     "output_type": "display_data"
    }
   ],
   "source": [
    "exo.groupby('Year').mean().plot(kind='line', y='Magnitude');"
   ]
  },
  {
   "cell_type": "markdown",
   "metadata": {
    "slideshow": {
     "slide_type": "fragment"
    }
   },
   "source": [
    "- It looks like the brightest planets were discovered first, which makes sense. \n",
    "\n",
    "- NASA's Kepler space telescope began its nine-year mission in 2009, leading to a boom in the discovery of exoplanets."
   ]
  },
  {
   "cell_type": "markdown",
   "metadata": {
    "slideshow": {
     "slide_type": "slide"
    }
   },
   "source": [
    "### Line plots\n",
    "\n",
    "- Line plots show trends in numerical variables over time.\n",
    "- To create one from a DataFrame `df`, use\n",
    "```py\n",
    "df.plot(\n",
    "    kind='line', \n",
    "    x=x_column_for_horizontal, \n",
    "    y=y_column_for_vertical\n",
    ")\n",
    "```\n",
    "- To use the index as the x-axis, omit the `x=` argument.\n",
    "    - This doesn't work for scatterplots, but it works for most other plot types."
   ]
  },
  {
   "cell_type": "markdown",
   "metadata": {
    "slideshow": {
     "slide_type": "slide"
    }
   },
   "source": [
    "### Extra video on line plots\n",
    "\n",
    "If you're curious how line plots work under the hood, watch [this video](https://www.youtube.com/watch?v=glzZ04D1kDg) we made a few quarters ago."
   ]
  },
  {
   "cell_type": "code",
   "execution_count": 15,
   "metadata": {},
   "outputs": [
    {
     "data": {
      "image/jpeg": "[encoded data removed]",
      "text/html": [
       "\n",
       "        <iframe\n",
       "            width=\"400\"\n",
       "            height=\"300\"\n",
       "            src=\"https://www.youtube.com/embed/glzZ04D1kDg\"\n",
       "            frameborder=\"0\"\n",
       "            allowfullscreen\n",
       "            \n",
       "        ></iframe>\n",
       "        "
      ],
      "text/plain": [
       "<IPython.lib.display.YouTubeVideo at 0x120265f90>"
      ]
     },
     "execution_count": 15,
     "metadata": {},
     "output_type": "execute_result"
    }
   ],
   "source": [
    "YouTubeVideo('glzZ04D1kDg')"
   ]
  },
  {
   "cell_type": "markdown",
   "metadata": {
    "slideshow": {
     "slide_type": "slide"
    }
   },
   "source": [
    "## Bar charts 📊"
   ]
  },
  {
   "cell_type": "markdown",
   "metadata": {
    "slideshow": {
     "slide_type": "slide"
    }
   },
   "source": [
    "### Bar charts"
   ]
  },
  {
   "cell_type": "markdown",
   "metadata": {
    "slideshow": {
     "slide_type": "fragment"
    }
   },
   "source": [
    "- How big are each of the different `'Type'`s of exoplanets, on average?"
   ]
  },
  {
   "cell_type": "code",
   "execution_count": 16,
   "metadata": {
    "scrolled": true
   },
   "outputs": [
    {
     "data": {
      "text/html": [
       "<div>\n",
       "<style scoped>\n",
       "    .dataframe tbody tr th:only-of-type {\n",
       "        vertical-align: middle;\n",
       "    }\n",
       "\n",
       "    .dataframe tbody tr th {\n",
       "        vertical-align: top;\n",
       "    }\n",
       "\n",
       "    .dataframe thead th {\n",
       "        text-align: right;\n",
       "    }\n",
       "</style>\n",
       "<table border=\"1\" class=\"dataframe\">\n",
       "  <thead>\n",
       "    <tr style=\"text-align: right;\">\n",
       "      <th></th>\n",
       "      <th>Distance</th>\n",
       "      <th>Magnitude</th>\n",
       "      <th>Year</th>\n",
       "      <th>Mass</th>\n",
       "      <th>Radius</th>\n",
       "    </tr>\n",
       "    <tr>\n",
       "      <th>Type</th>\n",
       "      <th></th>\n",
       "      <th></th>\n",
       "      <th></th>\n",
       "      <th></th>\n",
       "      <th></th>\n",
       "    </tr>\n",
       "  </thead>\n",
       "  <tbody>\n",
       "    <tr>\n",
       "      <th>Gas Giant</th>\n",
       "      <td>1096.40</td>\n",
       "      <td>10.30</td>\n",
       "      <td>2013.73</td>\n",
       "      <td>1472.39</td>\n",
       "      <td>12.74</td>\n",
       "    </tr>\n",
       "    <tr>\n",
       "      <th>Neptune-like</th>\n",
       "      <td>2189.02</td>\n",
       "      <td>13.52</td>\n",
       "      <td>2016.59</td>\n",
       "      <td>15.28</td>\n",
       "      <td>3.11</td>\n",
       "    </tr>\n",
       "    <tr>\n",
       "      <th>Super Earth</th>\n",
       "      <td>1916.26</td>\n",
       "      <td>13.85</td>\n",
       "      <td>2016.43</td>\n",
       "      <td>5.81</td>\n",
       "      <td>1.58</td>\n",
       "    </tr>\n",
       "    <tr>\n",
       "      <th>Terrestrial</th>\n",
       "      <td>1373.60</td>\n",
       "      <td>13.45</td>\n",
       "      <td>2016.37</td>\n",
       "      <td>1.62</td>\n",
       "      <td>0.85</td>\n",
       "    </tr>\n",
       "  </tbody>\n",
       "</table>\n",
       "</div>"
      ],
      "text/plain": [
       "              Distance  Magnitude     Year     Mass  Radius\n",
       "Type                                                       \n",
       "Gas Giant      1096.40      10.30  2013.73  1472.39   12.74\n",
       "Neptune-like   2189.02      13.52  2016.59    15.28    3.11\n",
       "Super Earth    1916.26      13.85  2016.43     5.81    1.58\n",
       "Terrestrial    1373.60      13.45  2016.37     1.62    0.85"
      ]
     },
     "execution_count": 16,
     "metadata": {},
     "output_type": "execute_result"
    }
   ],
   "source": [
    "types = exo.groupby('Type').mean()\n",
    "types"
   ]
  },
  {
   "cell_type": "code",
   "execution_count": 17,
   "metadata": {},
   "outputs": [
    {
     "data": {
      "image/png": "[encoded data removed]",
      "text/plain": [
       "<Figure size 1000x500 with 1 Axes>"
      ]
     },
     "metadata": {},
     "output_type": "display_data"
    }
   ],
   "source": [
    "types.plot(kind='barh', y='Radius');"
   ]
  },
  {
   "cell_type": "code",
   "execution_count": 18,
   "metadata": {},
   "outputs": [
    {
     "data": {
      "image/png": "[encoded data removed]",
      "text/plain": [
       "<Figure size 1000x500 with 1 Axes>"
      ]
     },
     "metadata": {},
     "output_type": "display_data"
    }
   ],
   "source": [
    "types.plot(kind='barh', y='Mass');"
   ]
  },
  {
   "cell_type": "markdown",
   "metadata": {
    "slideshow": {
     "slide_type": "fragment"
    }
   },
   "source": [
    "- It looks like the `'Gas Giant'`s are aptly named! "
   ]
  },
  {
   "cell_type": "markdown",
   "metadata": {},
   "source": [
    "<center><img src='images/exoplanet_types.jpeg' width=800></center>"
   ]
  },
  {
   "cell_type": "markdown",
   "metadata": {
    "slideshow": {
     "slide_type": "slide"
    }
   },
   "source": [
    "### Bar charts\n",
    "\n",
    "- Bar charts visualize the relationship between a categorical variable and a numerical variable.\n",
    "- In a bar chart...\n",
    "    - The thickness and spacing of bars is arbitrary.\n",
    "    - The order of the categorical labels doesn't matter.\n",
    "- To create one from a DataFrame `df`, use\n",
    "```py\n",
    "df.plot(\n",
    "    kind='barh', \n",
    "    x=categorical_column_name, \n",
    "    y=numerical_column_name\n",
    ")\n",
    "```\n",
    "- The **\"h\"** in `'barh'` stands for **\"horizontal\"**.\n",
    "    - It's easier to read labels this way.\n",
    "- Note that in the previous chart, we set `y='Mass'` even though mass is measured by x-axis length."
   ]
  },
  {
   "cell_type": "markdown",
   "metadata": {
    "slideshow": {
     "slide_type": "slide"
    }
   },
   "source": [
    "### Bar charts and sorting\n",
    "\n",
    "What are the most popular `'Detection'` methods for discovering exoplanets?"
   ]
  },
  {
   "cell_type": "code",
   "execution_count": 19,
   "metadata": {},
   "outputs": [
    {
     "data": {
      "text/html": [
       "<div>\n",
       "<style scoped>\n",
       "    .dataframe tbody tr th:only-of-type {\n",
       "        vertical-align: middle;\n",
       "    }\n",
       "\n",
       "    .dataframe tbody tr th {\n",
       "        vertical-align: top;\n",
       "    }\n",
       "\n",
       "    .dataframe thead th {\n",
       "        text-align: right;\n",
       "    }\n",
       "</style>\n",
       "<table border=\"1\" class=\"dataframe\">\n",
       "  <thead>\n",
       "    <tr style=\"text-align: right;\">\n",
       "      <th></th>\n",
       "      <th>Distance</th>\n",
       "      <th>Magnitude</th>\n",
       "      <th>Type</th>\n",
       "      <th>Year</th>\n",
       "      <th>Mass</th>\n",
       "      <th>Radius</th>\n",
       "    </tr>\n",
       "    <tr>\n",
       "      <th>Detection</th>\n",
       "      <th></th>\n",
       "      <th></th>\n",
       "      <th></th>\n",
       "      <th></th>\n",
       "      <th></th>\n",
       "      <th></th>\n",
       "    </tr>\n",
       "  </thead>\n",
       "  <tbody>\n",
       "    <tr>\n",
       "      <th>Astrometry</th>\n",
       "      <td>1</td>\n",
       "      <td>1</td>\n",
       "      <td>1</td>\n",
       "      <td>1</td>\n",
       "      <td>1</td>\n",
       "      <td>1</td>\n",
       "    </tr>\n",
       "    <tr>\n",
       "      <th>Direct Imaging</th>\n",
       "      <td>50</td>\n",
       "      <td>50</td>\n",
       "      <td>50</td>\n",
       "      <td>50</td>\n",
       "      <td>50</td>\n",
       "      <td>50</td>\n",
       "    </tr>\n",
       "    <tr>\n",
       "      <th>Disk Kinematics</th>\n",
       "      <td>1</td>\n",
       "      <td>1</td>\n",
       "      <td>1</td>\n",
       "      <td>1</td>\n",
       "      <td>1</td>\n",
       "      <td>1</td>\n",
       "    </tr>\n",
       "    <tr>\n",
       "      <th>...</th>\n",
       "      <td>...</td>\n",
       "      <td>...</td>\n",
       "      <td>...</td>\n",
       "      <td>...</td>\n",
       "      <td>...</td>\n",
       "      <td>...</td>\n",
       "    </tr>\n",
       "    <tr>\n",
       "      <th>Radial Velocity</th>\n",
       "      <td>1019</td>\n",
       "      <td>1019</td>\n",
       "      <td>1019</td>\n",
       "      <td>1019</td>\n",
       "      <td>1019</td>\n",
       "      <td>1019</td>\n",
       "    </tr>\n",
       "    <tr>\n",
       "      <th>Transit</th>\n",
       "      <td>3914</td>\n",
       "      <td>3914</td>\n",
       "      <td>3914</td>\n",
       "      <td>3914</td>\n",
       "      <td>3914</td>\n",
       "      <td>3914</td>\n",
       "    </tr>\n",
       "    <tr>\n",
       "      <th>Transit Timing Variations</th>\n",
       "      <td>23</td>\n",
       "      <td>23</td>\n",
       "      <td>23</td>\n",
       "      <td>23</td>\n",
       "      <td>23</td>\n",
       "      <td>23</td>\n",
       "    </tr>\n",
       "  </tbody>\n",
       "</table>\n",
       "<p>11 rows × 6 columns</p>\n",
       "</div>"
      ],
      "text/plain": [
       "                           Distance  Magnitude  Type  Year  Mass  Radius\n",
       "Detection                                                               \n",
       "Astrometry                        1          1     1     1     1       1\n",
       "Direct Imaging                   50         50    50    50    50      50\n",
       "Disk Kinematics                   1          1     1     1     1       1\n",
       "...                             ...        ...   ...   ...   ...     ...\n",
       "Radial Velocity                1019       1019  1019  1019  1019    1019\n",
       "Transit                        3914       3914  3914  3914  3914    3914\n",
       "Transit Timing Variations        23         23    23    23    23      23\n",
       "\n",
       "[11 rows x 6 columns]"
      ]
     },
     "execution_count": 19,
     "metadata": {},
     "output_type": "execute_result"
    }
   ],
   "source": [
    "# Count how many exoplanets are discovered by each detection method.\n",
    "popular_detection = exo.groupby('Detection').count()\n",
    "popular_detection"
   ]
  },
  {
   "cell_type": "code",
   "execution_count": 20,
   "metadata": {},
   "outputs": [
    {
     "data": {
      "text/html": [
       "<div>\n",
       "<style scoped>\n",
       "    .dataframe tbody tr th:only-of-type {\n",
       "        vertical-align: middle;\n",
       "    }\n",
       "\n",
       "    .dataframe tbody tr th {\n",
       "        vertical-align: top;\n",
       "    }\n",
       "\n",
       "    .dataframe thead th {\n",
       "        text-align: right;\n",
       "    }\n",
       "</style>\n",
       "<table border=\"1\" class=\"dataframe\">\n",
       "  <thead>\n",
       "    <tr style=\"text-align: right;\">\n",
       "      <th></th>\n",
       "      <th>Count</th>\n",
       "    </tr>\n",
       "    <tr>\n",
       "      <th>Detection</th>\n",
       "      <th></th>\n",
       "    </tr>\n",
       "  </thead>\n",
       "  <tbody>\n",
       "    <tr>\n",
       "      <th>Transit</th>\n",
       "      <td>3914</td>\n",
       "    </tr>\n",
       "    <tr>\n",
       "      <th>Radial Velocity</th>\n",
       "      <td>1019</td>\n",
       "    </tr>\n",
       "    <tr>\n",
       "      <th>Direct Imaging</th>\n",
       "      <td>50</td>\n",
       "    </tr>\n",
       "    <tr>\n",
       "      <th>...</th>\n",
       "      <td>...</td>\n",
       "    </tr>\n",
       "    <tr>\n",
       "      <th>Astrometry</th>\n",
       "      <td>1</td>\n",
       "    </tr>\n",
       "    <tr>\n",
       "      <th>Disk Kinematics</th>\n",
       "      <td>1</td>\n",
       "    </tr>\n",
       "    <tr>\n",
       "      <th>Pulsar Timing</th>\n",
       "      <td>1</td>\n",
       "    </tr>\n",
       "  </tbody>\n",
       "</table>\n",
       "<p>11 rows × 1 columns</p>\n",
       "</div>"
      ],
      "text/plain": [
       "                 Count\n",
       "Detection             \n",
       "Transit           3914\n",
       "Radial Velocity   1019\n",
       "Direct Imaging      50\n",
       "...                ...\n",
       "Astrometry           1\n",
       "Disk Kinematics      1\n",
       "Pulsar Timing        1\n",
       "\n",
       "[11 rows x 1 columns]"
      ]
     },
     "execution_count": 20,
     "metadata": {},
     "output_type": "execute_result"
    }
   ],
   "source": [
    "# Give columns more meaningful names and eliminate redundancy.\n",
    "popular_detection = (popular_detection.assign(Count=popular_detection.get('Distance'))\n",
    "                                      .get(['Count'])\n",
    "                                      .sort_values(by='Count', ascending=False)\n",
    "                    )\n",
    "popular_detection"
   ]
  },
  {
   "cell_type": "code",
   "execution_count": 21,
   "metadata": {
    "slideshow": {
     "slide_type": "-"
    }
   },
   "outputs": [
    {
     "data": {
      "image/png": "[encoded data removed]",
      "text/plain": [
       "<Figure size 1000x500 with 1 Axes>"
      ]
     },
     "metadata": {},
     "output_type": "display_data"
    }
   ],
   "source": [
    "# Notice that the bars appear in the opposite order relative to the DataFrame.\n",
    "popular_detection.plot(kind='barh', y='Count');"
   ]
  },
  {
   "cell_type": "code",
   "execution_count": 22,
   "metadata": {
    "slideshow": {
     "slide_type": "-"
    }
   },
   "outputs": [
    {
     "data": {
      "image/png": "[encoded data removed]",
      "text/plain": [
       "<Figure size 1000x500 with 1 Axes>"
      ]
     },
     "metadata": {},
     "output_type": "display_data"
    }
   ],
   "source": [
    "# Change \"barh\" to \"bar\" to get a vertical bar chart. \n",
    "# These are harder to read, but the bars do appear in the same order as the DataFrame.\n",
    "popular_detection.plot(kind='bar', y='Count');"
   ]
  },
  {
   "cell_type": "markdown",
   "metadata": {
    "slideshow": {
     "slide_type": "slide"
    }
   },
   "source": [
    "### Multiple plots on the same axes\n",
    "\n",
    "Can we look at both the average `'Magnitude'` and the average `'Radius'` for each `'Type'` at the same time?"
   ]
  },
  {
   "cell_type": "code",
   "execution_count": 23,
   "metadata": {},
   "outputs": [
    {
     "data": {
      "image/png": "[encoded data removed]",
      "text/plain": [
       "<Figure size 1000x500 with 1 Axes>"
      ]
     },
     "metadata": {},
     "output_type": "display_data"
    }
   ],
   "source": [
    "types.get(['Magnitude', 'Radius']).plot(kind='barh');"
   ]
  },
  {
   "cell_type": "markdown",
   "metadata": {
    "slideshow": {
     "slide_type": "fragment"
    }
   },
   "source": [
    "How did we do that?"
   ]
  },
  {
   "cell_type": "markdown",
   "metadata": {
    "slideshow": {
     "slide_type": "slide"
    }
   },
   "source": [
    "### Overlaying plots\n",
    "\n",
    "When calling `.plot`, if we omit the `y=column_name` argument, **all other columns** are plotted."
   ]
  },
  {
   "cell_type": "code",
   "execution_count": 24,
   "metadata": {},
   "outputs": [
    {
     "data": {
      "text/html": [
       "<div>\n",
       "<style scoped>\n",
       "    .dataframe tbody tr th:only-of-type {\n",
       "        vertical-align: middle;\n",
       "    }\n",
       "\n",
       "    .dataframe tbody tr th {\n",
       "        vertical-align: top;\n",
       "    }\n",
       "\n",
       "    .dataframe thead th {\n",
       "        text-align: right;\n",
       "    }\n",
       "</style>\n",
       "<table border=\"1\" class=\"dataframe\">\n",
       "  <thead>\n",
       "    <tr style=\"text-align: right;\">\n",
       "      <th></th>\n",
       "      <th>Distance</th>\n",
       "      <th>Magnitude</th>\n",
       "      <th>Year</th>\n",
       "      <th>Mass</th>\n",
       "      <th>Radius</th>\n",
       "    </tr>\n",
       "    <tr>\n",
       "      <th>Type</th>\n",
       "      <th></th>\n",
       "      <th></th>\n",
       "      <th></th>\n",
       "      <th></th>\n",
       "      <th></th>\n",
       "    </tr>\n",
       "  </thead>\n",
       "  <tbody>\n",
       "    <tr>\n",
       "      <th>Gas Giant</th>\n",
       "      <td>1096.40</td>\n",
       "      <td>10.30</td>\n",
       "      <td>2013.73</td>\n",
       "      <td>1472.39</td>\n",
       "      <td>12.74</td>\n",
       "    </tr>\n",
       "    <tr>\n",
       "      <th>Neptune-like</th>\n",
       "      <td>2189.02</td>\n",
       "      <td>13.52</td>\n",
       "      <td>2016.59</td>\n",
       "      <td>15.28</td>\n",
       "      <td>3.11</td>\n",
       "    </tr>\n",
       "    <tr>\n",
       "      <th>Super Earth</th>\n",
       "      <td>1916.26</td>\n",
       "      <td>13.85</td>\n",
       "      <td>2016.43</td>\n",
       "      <td>5.81</td>\n",
       "      <td>1.58</td>\n",
       "    </tr>\n",
       "    <tr>\n",
       "      <th>Terrestrial</th>\n",
       "      <td>1373.60</td>\n",
       "      <td>13.45</td>\n",
       "      <td>2016.37</td>\n",
       "      <td>1.62</td>\n",
       "      <td>0.85</td>\n",
       "    </tr>\n",
       "  </tbody>\n",
       "</table>\n",
       "</div>"
      ],
      "text/plain": [
       "              Distance  Magnitude     Year     Mass  Radius\n",
       "Type                                                       \n",
       "Gas Giant      1096.40      10.30  2013.73  1472.39   12.74\n",
       "Neptune-like   2189.02      13.52  2016.59    15.28    3.11\n",
       "Super Earth    1916.26      13.85  2016.43     5.81    1.58\n",
       "Terrestrial    1373.60      13.45  2016.37     1.62    0.85"
      ]
     },
     "execution_count": 24,
     "metadata": {},
     "output_type": "execute_result"
    }
   ],
   "source": [
    "types"
   ]
  },
  {
   "cell_type": "code",
   "execution_count": 25,
   "metadata": {},
   "outputs": [
    {
     "data": {
      "image/png": "[encoded data removed]",
      "text/plain": [
       "<Figure size 1000x500 with 1 Axes>"
      ]
     },
     "metadata": {},
     "output_type": "display_data"
    }
   ],
   "source": [
    "types.plot(kind='barh');"
   ]
  },
  {
   "cell_type": "markdown",
   "metadata": {
    "slideshow": {
     "slide_type": "slide"
    }
   },
   "source": [
    "### Selecting multiple columns at once\n",
    "\n",
    "Remember, to select multiple columns, use `.get([column_1, ..., column_k])`. This returns a DataFrame."
   ]
  },
  {
   "cell_type": "code",
   "execution_count": 26,
   "metadata": {},
   "outputs": [
    {
     "data": {
      "text/html": [
       "<div>\n",
       "<style scoped>\n",
       "    .dataframe tbody tr th:only-of-type {\n",
       "        vertical-align: middle;\n",
       "    }\n",
       "\n",
       "    .dataframe tbody tr th {\n",
       "        vertical-align: top;\n",
       "    }\n",
       "\n",
       "    .dataframe thead th {\n",
       "        text-align: right;\n",
       "    }\n",
       "</style>\n",
       "<table border=\"1\" class=\"dataframe\">\n",
       "  <thead>\n",
       "    <tr style=\"text-align: right;\">\n",
       "      <th></th>\n",
       "      <th>Distance</th>\n",
       "      <th>Magnitude</th>\n",
       "      <th>Year</th>\n",
       "      <th>Mass</th>\n",
       "      <th>Radius</th>\n",
       "    </tr>\n",
       "    <tr>\n",
       "      <th>Type</th>\n",
       "      <th></th>\n",
       "      <th></th>\n",
       "      <th></th>\n",
       "      <th></th>\n",
       "      <th></th>\n",
       "    </tr>\n",
       "  </thead>\n",
       "  <tbody>\n",
       "    <tr>\n",
       "      <th>Gas Giant</th>\n",
       "      <td>1096.40</td>\n",
       "      <td>10.30</td>\n",
       "      <td>2013.73</td>\n",
       "      <td>1472.39</td>\n",
       "      <td>12.74</td>\n",
       "    </tr>\n",
       "    <tr>\n",
       "      <th>Neptune-like</th>\n",
       "      <td>2189.02</td>\n",
       "      <td>13.52</td>\n",
       "      <td>2016.59</td>\n",
       "      <td>15.28</td>\n",
       "      <td>3.11</td>\n",
       "    </tr>\n",
       "    <tr>\n",
       "      <th>Super Earth</th>\n",
       "      <td>1916.26</td>\n",
       "      <td>13.85</td>\n",
       "      <td>2016.43</td>\n",
       "      <td>5.81</td>\n",
       "      <td>1.58</td>\n",
       "    </tr>\n",
       "    <tr>\n",
       "      <th>Terrestrial</th>\n",
       "      <td>1373.60</td>\n",
       "      <td>13.45</td>\n",
       "      <td>2016.37</td>\n",
       "      <td>1.62</td>\n",
       "      <td>0.85</td>\n",
       "    </tr>\n",
       "  </tbody>\n",
       "</table>\n",
       "</div>"
      ],
      "text/plain": [
       "              Distance  Magnitude     Year     Mass  Radius\n",
       "Type                                                       \n",
       "Gas Giant      1096.40      10.30  2013.73  1472.39   12.74\n",
       "Neptune-like   2189.02      13.52  2016.59    15.28    3.11\n",
       "Super Earth    1916.26      13.85  2016.43     5.81    1.58\n",
       "Terrestrial    1373.60      13.45  2016.37     1.62    0.85"
      ]
     },
     "execution_count": 26,
     "metadata": {},
     "output_type": "execute_result"
    }
   ],
   "source": [
    "types"
   ]
  },
  {
   "cell_type": "code",
   "execution_count": 27,
   "metadata": {},
   "outputs": [
    {
     "data": {
      "text/html": [
       "<div>\n",
       "<style scoped>\n",
       "    .dataframe tbody tr th:only-of-type {\n",
       "        vertical-align: middle;\n",
       "    }\n",
       "\n",
       "    .dataframe tbody tr th {\n",
       "        vertical-align: top;\n",
       "    }\n",
       "\n",
       "    .dataframe thead th {\n",
       "        text-align: right;\n",
       "    }\n",
       "</style>\n",
       "<table border=\"1\" class=\"dataframe\">\n",
       "  <thead>\n",
       "    <tr style=\"text-align: right;\">\n",
       "      <th></th>\n",
       "      <th>Magnitude</th>\n",
       "      <th>Radius</th>\n",
       "    </tr>\n",
       "    <tr>\n",
       "      <th>Type</th>\n",
       "      <th></th>\n",
       "      <th></th>\n",
       "    </tr>\n",
       "  </thead>\n",
       "  <tbody>\n",
       "    <tr>\n",
       "      <th>Gas Giant</th>\n",
       "      <td>10.30</td>\n",
       "      <td>12.74</td>\n",
       "    </tr>\n",
       "    <tr>\n",
       "      <th>Neptune-like</th>\n",
       "      <td>13.52</td>\n",
       "      <td>3.11</td>\n",
       "    </tr>\n",
       "    <tr>\n",
       "      <th>Super Earth</th>\n",
       "      <td>13.85</td>\n",
       "      <td>1.58</td>\n",
       "    </tr>\n",
       "    <tr>\n",
       "      <th>Terrestrial</th>\n",
       "      <td>13.45</td>\n",
       "      <td>0.85</td>\n",
       "    </tr>\n",
       "  </tbody>\n",
       "</table>\n",
       "</div>"
      ],
      "text/plain": [
       "              Magnitude  Radius\n",
       "Type                           \n",
       "Gas Giant         10.30   12.74\n",
       "Neptune-like      13.52    3.11\n",
       "Super Earth       13.85    1.58\n",
       "Terrestrial       13.45    0.85"
      ]
     },
     "execution_count": 27,
     "metadata": {},
     "output_type": "execute_result"
    }
   ],
   "source": [
    "types.get(['Magnitude', 'Radius'])"
   ]
  },
  {
   "cell_type": "code",
   "execution_count": 28,
   "metadata": {},
   "outputs": [
    {
     "data": {
      "image/png": "[encoded data removed]",
      "text/plain": [
       "<Figure size 1000x500 with 1 Axes>"
      ]
     },
     "metadata": {},
     "output_type": "display_data"
    }
   ],
   "source": [
    "types.get(['Magnitude', 'Radius']).plot(kind='barh');"
   ]
  },
  {
   "attachments": {},
   "cell_type": "markdown",
   "metadata": {},
   "source": [
    "## Distributions"
   ]
  },
  {
   "attachments": {},
   "cell_type": "markdown",
   "metadata": {},
   "source": [
    "### What is the distribution of a variable?\n",
    "\n",
    "- The distribution of a variable consists of all values of the variable that occur in the data, along with their frequencies.\n",
    "- Distributions help you understand:\n",
    "    > _How often does a variable take on a certain value?_\n",
    "- Both categorical and numerical variables have distributions."
   ]
  },
  {
   "attachments": {},
   "cell_type": "markdown",
   "metadata": {},
   "source": [
    "### Distributions of categorical variables\n",
    "\n",
    "The distribution of a categorical variable can be displayed as a table or bar chart, among other ways!\n",
    "\n",
    "For example, let's look at the distribution of exoplanet `'Type'`s. To do so, we'll need to group."
   ]
  },
  {
   "cell_type": "code",
   "execution_count": 29,
   "metadata": {},
   "outputs": [
    {
     "data": {
      "text/html": [
       "<div>\n",
       "<style scoped>\n",
       "    .dataframe tbody tr th:only-of-type {\n",
       "        vertical-align: middle;\n",
       "    }\n",
       "\n",
       "    .dataframe tbody tr th {\n",
       "        vertical-align: top;\n",
       "    }\n",
       "\n",
       "    .dataframe thead th {\n",
       "        text-align: right;\n",
       "    }\n",
       "</style>\n",
       "<table border=\"1\" class=\"dataframe\">\n",
       "  <thead>\n",
       "    <tr style=\"text-align: right;\">\n",
       "      <th></th>\n",
       "      <th>Distance</th>\n",
       "      <th>Magnitude</th>\n",
       "      <th>Year</th>\n",
       "      <th>Detection</th>\n",
       "      <th>Mass</th>\n",
       "      <th>Radius</th>\n",
       "    </tr>\n",
       "    <tr>\n",
       "      <th>Type</th>\n",
       "      <th></th>\n",
       "      <th></th>\n",
       "      <th></th>\n",
       "      <th></th>\n",
       "      <th></th>\n",
       "      <th></th>\n",
       "    </tr>\n",
       "  </thead>\n",
       "  <tbody>\n",
       "    <tr>\n",
       "      <th>Gas Giant</th>\n",
       "      <td>1480</td>\n",
       "      <td>1480</td>\n",
       "      <td>1480</td>\n",
       "      <td>1480</td>\n",
       "      <td>1480</td>\n",
       "      <td>1480</td>\n",
       "    </tr>\n",
       "    <tr>\n",
       "      <th>Neptune-like</th>\n",
       "      <td>1793</td>\n",
       "      <td>1793</td>\n",
       "      <td>1793</td>\n",
       "      <td>1793</td>\n",
       "      <td>1793</td>\n",
       "      <td>1793</td>\n",
       "    </tr>\n",
       "    <tr>\n",
       "      <th>Super Earth</th>\n",
       "      <td>1577</td>\n",
       "      <td>1577</td>\n",
       "      <td>1577</td>\n",
       "      <td>1577</td>\n",
       "      <td>1577</td>\n",
       "      <td>1577</td>\n",
       "    </tr>\n",
       "    <tr>\n",
       "      <th>Terrestrial</th>\n",
       "      <td>193</td>\n",
       "      <td>193</td>\n",
       "      <td>193</td>\n",
       "      <td>193</td>\n",
       "      <td>193</td>\n",
       "      <td>193</td>\n",
       "    </tr>\n",
       "  </tbody>\n",
       "</table>\n",
       "</div>"
      ],
      "text/plain": [
       "              Distance  Magnitude  Year  Detection  Mass  Radius\n",
       "Type                                                            \n",
       "Gas Giant         1480       1480  1480       1480  1480    1480\n",
       "Neptune-like      1793       1793  1793       1793  1793    1793\n",
       "Super Earth       1577       1577  1577       1577  1577    1577\n",
       "Terrestrial        193        193   193        193   193     193"
      ]
     },
     "execution_count": 29,
     "metadata": {},
     "output_type": "execute_result"
    }
   ],
   "source": [
    "# Remember, when we group and use .count(), the column names aren't meaningful.\n",
    "type_counts = exo.groupby('Type').count()\n",
    "type_counts"
   ]
  },
  {
   "cell_type": "code",
   "execution_count": 30,
   "metadata": {},
   "outputs": [
    {
     "data": {
      "image/png": "[encoded data removed]",
      "text/plain": [
       "<Figure size 1000x500 with 1 Axes>"
      ]
     },
     "metadata": {},
     "output_type": "display_data"
    }
   ],
   "source": [
    "# As a result, we could have set y='Magnitude', for example, and gotten the same plot.\n",
    "type_counts.plot(kind='barh', y='Distance', \n",
    "                 legend=False, title='Distribution of Exoplanet Types');"
   ]
  },
  {
   "attachments": {},
   "cell_type": "markdown",
   "metadata": {},
   "source": [
    "Notice the optional `title` argument. Some other useful optional arguments are `legend`, `figsize`, `xlabel`, and `ylabel`. There are [many optional arguments](https://pandas.pydata.org/docs/reference/api/pandas.DataFrame.plot.html)."
   ]
  },
  {
   "attachments": {},
   "cell_type": "markdown",
   "metadata": {},
   "source": [
    "It looks like terrestrial exoplanets are the most rare in the dataset. They also have the smallest average radius of any `'Type'`."
   ]
  },
  {
   "cell_type": "code",
   "execution_count": 31,
   "metadata": {},
   "outputs": [
    {
     "data": {
      "text/plain": [
       "Type\n",
       "Gas Giant       12.74\n",
       "Neptune-like     3.11\n",
       "Super Earth      1.58\n",
       "Terrestrial      0.85\n",
       "Name: Radius, dtype: float64"
      ]
     },
     "execution_count": 31,
     "metadata": {},
     "output_type": "execute_result"
    }
   ],
   "source": [
    "exo.groupby('Type').mean().get('Radius')"
   ]
  },
  {
   "attachments": {},
   "cell_type": "markdown",
   "metadata": {},
   "source": [
    "Let's look into them further!"
   ]
  },
  {
   "attachments": {},
   "cell_type": "markdown",
   "metadata": {},
   "source": [
    "### Terrestrial exoplanets 🌑"
   ]
  },
  {
   "cell_type": "code",
   "execution_count": 32,
   "metadata": {},
   "outputs": [
    {
     "data": {
      "text/html": [
       "<div>\n",
       "<style scoped>\n",
       "    .dataframe tbody tr th:only-of-type {\n",
       "        vertical-align: middle;\n",
       "    }\n",
       "\n",
       "    .dataframe tbody tr th {\n",
       "        vertical-align: top;\n",
       "    }\n",
       "\n",
       "    .dataframe thead th {\n",
       "        text-align: right;\n",
       "    }\n",
       "</style>\n",
       "<table border=\"1\" class=\"dataframe\">\n",
       "  <thead>\n",
       "    <tr style=\"text-align: right;\">\n",
       "      <th></th>\n",
       "      <th>Distance</th>\n",
       "      <th>Magnitude</th>\n",
       "      <th>Type</th>\n",
       "      <th>Year</th>\n",
       "      <th>Detection</th>\n",
       "      <th>Mass</th>\n",
       "      <th>Radius</th>\n",
       "    </tr>\n",
       "    <tr>\n",
       "      <th>Name</th>\n",
       "      <th></th>\n",
       "      <th></th>\n",
       "      <th></th>\n",
       "      <th></th>\n",
       "      <th></th>\n",
       "      <th></th>\n",
       "      <th></th>\n",
       "    </tr>\n",
       "  </thead>\n",
       "  <tbody>\n",
       "    <tr>\n",
       "      <th>EPIC 201497682 b</th>\n",
       "      <td>825.0</td>\n",
       "      <td>13.95</td>\n",
       "      <td>Terrestrial</td>\n",
       "      <td>2019</td>\n",
       "      <td>Transit</td>\n",
       "      <td>0.26</td>\n",
       "      <td>0.69</td>\n",
       "    </tr>\n",
       "    <tr>\n",
       "      <th>EPIC 201757695.02</th>\n",
       "      <td>1884.0</td>\n",
       "      <td>14.97</td>\n",
       "      <td>Terrestrial</td>\n",
       "      <td>2020</td>\n",
       "      <td>Transit</td>\n",
       "      <td>0.69</td>\n",
       "      <td>0.91</td>\n",
       "    </tr>\n",
       "    <tr>\n",
       "      <th>EPIC 201833600 c</th>\n",
       "      <td>840.0</td>\n",
       "      <td>14.71</td>\n",
       "      <td>Terrestrial</td>\n",
       "      <td>2019</td>\n",
       "      <td>Transit</td>\n",
       "      <td>0.97</td>\n",
       "      <td>1.00</td>\n",
       "    </tr>\n",
       "    <tr>\n",
       "      <th>...</th>\n",
       "      <td>...</td>\n",
       "      <td>...</td>\n",
       "      <td>...</td>\n",
       "      <td>...</td>\n",
       "      <td>...</td>\n",
       "      <td>...</td>\n",
       "      <td>...</td>\n",
       "    </tr>\n",
       "    <tr>\n",
       "      <th>TRAPPIST-1 e</th>\n",
       "      <td>41.0</td>\n",
       "      <td>17.02</td>\n",
       "      <td>Terrestrial</td>\n",
       "      <td>2017</td>\n",
       "      <td>Transit</td>\n",
       "      <td>0.69</td>\n",
       "      <td>0.92</td>\n",
       "    </tr>\n",
       "    <tr>\n",
       "      <th>TRAPPIST-1 h</th>\n",
       "      <td>41.0</td>\n",
       "      <td>17.02</td>\n",
       "      <td>Terrestrial</td>\n",
       "      <td>2017</td>\n",
       "      <td>Transit</td>\n",
       "      <td>0.33</td>\n",
       "      <td>0.76</td>\n",
       "    </tr>\n",
       "    <tr>\n",
       "      <th>YZ Ceti b</th>\n",
       "      <td>12.0</td>\n",
       "      <td>12.07</td>\n",
       "      <td>Terrestrial</td>\n",
       "      <td>2017</td>\n",
       "      <td>Radial Velocity</td>\n",
       "      <td>0.70</td>\n",
       "      <td>0.91</td>\n",
       "    </tr>\n",
       "  </tbody>\n",
       "</table>\n",
       "<p>193 rows × 7 columns</p>\n",
       "</div>"
      ],
      "text/plain": [
       "                   Distance  Magnitude         Type  Year        Detection  \\\n",
       "Name                                                                         \n",
       "EPIC 201497682 b      825.0      13.95  Terrestrial  2019          Transit   \n",
       "EPIC 201757695.02    1884.0      14.97  Terrestrial  2020          Transit   \n",
       "EPIC 201833600 c      840.0      14.71  Terrestrial  2019          Transit   \n",
       "...                     ...        ...          ...   ...              ...   \n",
       "TRAPPIST-1 e           41.0      17.02  Terrestrial  2017          Transit   \n",
       "TRAPPIST-1 h           41.0      17.02  Terrestrial  2017          Transit   \n",
       "YZ Ceti b              12.0      12.07  Terrestrial  2017  Radial Velocity   \n",
       "\n",
       "                   Mass  Radius  \n",
       "Name                             \n",
       "EPIC 201497682 b   0.26    0.69  \n",
       "EPIC 201757695.02  0.69    0.91  \n",
       "EPIC 201833600 c   0.97    1.00  \n",
       "...                 ...     ...  \n",
       "TRAPPIST-1 e       0.69    0.92  \n",
       "TRAPPIST-1 h       0.33    0.76  \n",
       "YZ Ceti b          0.70    0.91  \n",
       "\n",
       "[193 rows x 7 columns]"
      ]
     },
     "execution_count": 32,
     "metadata": {},
     "output_type": "execute_result"
    }
   ],
   "source": [
    "terr = exo[exo.get('Type') == 'Terrestrial']\n",
    "terr"
   ]
  },
  {
   "attachments": {},
   "cell_type": "markdown",
   "metadata": {},
   "source": [
    "Let's focus on the `'Radius'` column of `terr`. To learn more about it, we can use the `.describe()` method."
   ]
  },
  {
   "cell_type": "code",
   "execution_count": 33,
   "metadata": {},
   "outputs": [
    {
     "data": {
      "text/plain": [
       "count    193.00\n",
       "mean       0.85\n",
       "std        0.26\n",
       "          ...  \n",
       "50%        0.86\n",
       "75%        0.92\n",
       "max        3.13\n",
       "Name: Radius, Length: 8, dtype: float64"
      ]
     },
     "execution_count": 33,
     "metadata": {},
     "output_type": "execute_result"
    }
   ],
   "source": [
    "terr.get('Radius').describe()"
   ]
  },
  {
   "attachments": {},
   "cell_type": "markdown",
   "metadata": {},
   "source": [
    "But how do we visualize its distribution?"
   ]
  },
  {
   "attachments": {},
   "cell_type": "markdown",
   "metadata": {},
   "source": [
    "### Visualizing the distribution of `'Radius'`, a numerical variable\n",
    "\n",
    "- A few slides ago, we looked at the distribution of `'Type'`, which is a categorical variable.\n",
    "- Now, we'll look at the distribution of `'Radius'`, which is a numerical variable. \n",
    "- As we'll see, **a bar chart is not the right choice of visualization for the distribution of a numerical variable**."
   ]
  },
  {
   "attachments": {},
   "cell_type": "markdown",
   "metadata": {},
   "source": [
    "To try and see the distribution of `'Radius'`, we need to group by that column and count how many terrestrial planets there are of each radius."
   ]
  },
  {
   "cell_type": "code",
   "execution_count": 34,
   "metadata": {},
   "outputs": [
    {
     "data": {
      "text/html": [
       "<div>\n",
       "<style scoped>\n",
       "    .dataframe tbody tr th:only-of-type {\n",
       "        vertical-align: middle;\n",
       "    }\n",
       "\n",
       "    .dataframe tbody tr th {\n",
       "        vertical-align: top;\n",
       "    }\n",
       "\n",
       "    .dataframe thead th {\n",
       "        text-align: right;\n",
       "    }\n",
       "</style>\n",
       "<table border=\"1\" class=\"dataframe\">\n",
       "  <thead>\n",
       "    <tr style=\"text-align: right;\">\n",
       "      <th></th>\n",
       "      <th>Count</th>\n",
       "    </tr>\n",
       "    <tr>\n",
       "      <th>Radius</th>\n",
       "      <th></th>\n",
       "    </tr>\n",
       "  </thead>\n",
       "  <tbody>\n",
       "    <tr>\n",
       "      <th>0.37</th>\n",
       "      <td>1</td>\n",
       "    </tr>\n",
       "    <tr>\n",
       "      <th>0.40</th>\n",
       "      <td>1</td>\n",
       "    </tr>\n",
       "    <tr>\n",
       "      <th>0.47</th>\n",
       "      <td>1</td>\n",
       "    </tr>\n",
       "    <tr>\n",
       "      <th>...</th>\n",
       "      <td>...</td>\n",
       "    </tr>\n",
       "    <tr>\n",
       "      <th>1.80</th>\n",
       "      <td>1</td>\n",
       "    </tr>\n",
       "    <tr>\n",
       "      <th>2.85</th>\n",
       "      <td>1</td>\n",
       "    </tr>\n",
       "    <tr>\n",
       "      <th>3.13</th>\n",
       "      <td>1</td>\n",
       "    </tr>\n",
       "  </tbody>\n",
       "</table>\n",
       "<p>85 rows × 1 columns</p>\n",
       "</div>"
      ],
      "text/plain": [
       "        Count\n",
       "Radius       \n",
       "0.37        1\n",
       "0.40        1\n",
       "0.47        1\n",
       "...       ...\n",
       "1.80        1\n",
       "2.85        1\n",
       "3.13        1\n",
       "\n",
       "[85 rows x 1 columns]"
      ]
     },
     "execution_count": 34,
     "metadata": {},
     "output_type": "execute_result"
    }
   ],
   "source": [
    "terr_radius = terr.groupby('Radius').count()\n",
    "terr_radius = (terr_radius\n",
    "                 .assign(Count=terr_radius.get('Distance'))\n",
    "                 .get(['Count'])\n",
    "              )\n",
    "terr_radius"
   ]
  },
  {
   "attachments": {},
   "cell_type": "markdown",
   "metadata": {},
   "source": [
    "The horizontal axis should be numerical (like a number line), not categorical. There should be more space between certain bars than others.\n",
    "\n",
    "For instance, the planet with `'Radius'` 1.8 is 80% larger than the planet with `'Radius'` 1, but they appear to be about the same size here."
   ]
  },
  {
   "attachments": {},
   "cell_type": "markdown",
   "metadata": {},
   "source": [
    "\n",
    "## Density histograms"
   ]
  },
  {
   "attachments": {},
   "cell_type": "markdown",
   "metadata": {},
   "source": [
    "### Density histograms show the distribution of numerical variables\n",
    "\n",
    "Instead of a bar chart, we'll visualize the distribution of a numerical variable with a **density histogram**. Let's see what a density histogram for `'Radius'` looks like. What do you notice about this visualization?"
   ]
  },
  {
   "cell_type": "code",
   "execution_count": 35,
   "metadata": {},
   "outputs": [
    {
     "data": {
      "image/png": "[encoded data removed]",
      "text/plain": [
       "<Figure size 1000x500 with 1 Axes>"
      ]
     },
     "metadata": {},
     "output_type": "display_data"
    }
   ],
   "source": [
    "# Ignore the code for right now.\n",
    "terr.plot(kind='hist', y='Radius', density=True, bins = np.arange(0, 3.5, 0.25), ec='w');"
   ]
  },
  {
   "cell_type": "code",
   "execution_count": 36,
   "metadata": {},
   "outputs": [
    {
     "data": {
      "text/html": [
       "<div>\n",
       "<style scoped>\n",
       "    .dataframe tbody tr th:only-of-type {\n",
       "        vertical-align: middle;\n",
       "    }\n",
       "\n",
       "    .dataframe tbody tr th {\n",
       "        vertical-align: top;\n",
       "    }\n",
       "\n",
       "    .dataframe thead th {\n",
       "        text-align: right;\n",
       "    }\n",
       "</style>\n",
       "<table border=\"1\" class=\"dataframe\">\n",
       "  <thead>\n",
       "    <tr style=\"text-align: right;\">\n",
       "      <th></th>\n",
       "      <th>Distance</th>\n",
       "      <th>Magnitude</th>\n",
       "      <th>Type</th>\n",
       "      <th>Year</th>\n",
       "      <th>Detection</th>\n",
       "      <th>Mass</th>\n",
       "      <th>Radius</th>\n",
       "    </tr>\n",
       "    <tr>\n",
       "      <th>Name</th>\n",
       "      <th></th>\n",
       "      <th></th>\n",
       "      <th></th>\n",
       "      <th></th>\n",
       "      <th></th>\n",
       "      <th></th>\n",
       "      <th></th>\n",
       "    </tr>\n",
       "  </thead>\n",
       "  <tbody>\n",
       "    <tr>\n",
       "      <th>EPIC 201833600 c</th>\n",
       "      <td>840.0</td>\n",
       "      <td>14.71</td>\n",
       "      <td>Terrestrial</td>\n",
       "      <td>2019</td>\n",
       "      <td>Transit</td>\n",
       "      <td>0.97</td>\n",
       "      <td>1.0</td>\n",
       "    </tr>\n",
       "    <tr>\n",
       "      <th>EPIC 206215704 b</th>\n",
       "      <td>358.0</td>\n",
       "      <td>17.83</td>\n",
       "      <td>Terrestrial</td>\n",
       "      <td>2019</td>\n",
       "      <td>Transit</td>\n",
       "      <td>0.97</td>\n",
       "      <td>1.0</td>\n",
       "    </tr>\n",
       "    <tr>\n",
       "      <th>K2-157 b</th>\n",
       "      <td>973.0</td>\n",
       "      <td>12.94</td>\n",
       "      <td>Terrestrial</td>\n",
       "      <td>2018</td>\n",
       "      <td>Transit</td>\n",
       "      <td>0.97</td>\n",
       "      <td>1.0</td>\n",
       "    </tr>\n",
       "    <tr>\n",
       "      <th>K2-239 c</th>\n",
       "      <td>101.0</td>\n",
       "      <td>14.63</td>\n",
       "      <td>Terrestrial</td>\n",
       "      <td>2018</td>\n",
       "      <td>Transit</td>\n",
       "      <td>0.97</td>\n",
       "      <td>1.0</td>\n",
       "    </tr>\n",
       "    <tr>\n",
       "      <th>Kepler-1417 b</th>\n",
       "      <td>3235.0</td>\n",
       "      <td>14.04</td>\n",
       "      <td>Terrestrial</td>\n",
       "      <td>2016</td>\n",
       "      <td>Transit</td>\n",
       "      <td>0.97</td>\n",
       "      <td>1.0</td>\n",
       "    </tr>\n",
       "    <tr>\n",
       "      <th>Kepler-1464 c</th>\n",
       "      <td>3757.0</td>\n",
       "      <td>14.36</td>\n",
       "      <td>Terrestrial</td>\n",
       "      <td>2016</td>\n",
       "      <td>Transit</td>\n",
       "      <td>0.97</td>\n",
       "      <td>1.0</td>\n",
       "    </tr>\n",
       "    <tr>\n",
       "      <th>Kepler-392 b</th>\n",
       "      <td>2223.0</td>\n",
       "      <td>13.53</td>\n",
       "      <td>Terrestrial</td>\n",
       "      <td>2014</td>\n",
       "      <td>Transit</td>\n",
       "      <td>0.97</td>\n",
       "      <td>1.0</td>\n",
       "    </tr>\n",
       "  </tbody>\n",
       "</table>\n",
       "</div>"
      ],
      "text/plain": [
       "                  Distance  Magnitude         Type  Year Detection  Mass  \\\n",
       "Name                                                                       \n",
       "EPIC 201833600 c     840.0      14.71  Terrestrial  2019   Transit  0.97   \n",
       "EPIC 206215704 b     358.0      17.83  Terrestrial  2019   Transit  0.97   \n",
       "K2-157 b             973.0      12.94  Terrestrial  2018   Transit  0.97   \n",
       "K2-239 c             101.0      14.63  Terrestrial  2018   Transit  0.97   \n",
       "Kepler-1417 b       3235.0      14.04  Terrestrial  2016   Transit  0.97   \n",
       "Kepler-1464 c       3757.0      14.36  Terrestrial  2016   Transit  0.97   \n",
       "Kepler-392 b        2223.0      13.53  Terrestrial  2014   Transit  0.97   \n",
       "\n",
       "                  Radius  \n",
       "Name                      \n",
       "EPIC 201833600 c     1.0  \n",
       "EPIC 206215704 b     1.0  \n",
       "K2-157 b             1.0  \n",
       "K2-239 c             1.0  \n",
       "Kepler-1417 b        1.0  \n",
       "Kepler-1464 c        1.0  \n",
       "Kepler-392 b         1.0  "
      ]
     },
     "execution_count": 36,
     "metadata": {},
     "output_type": "execute_result"
    }
   ],
   "source": [
    "# There are 7 terrestrial exoplanets with a radius of exactly 1.0,\n",
    "# but the height of the bar starting at 1.0 is not 7!\n",
    "terr[terr.get('Radius') == 1]"
   ]
  },
  {
   "attachments": {},
   "cell_type": "markdown",
   "metadata": {},
   "source": [
    "### First key idea behind histograms: Binning 🗑️\n",
    "\n",
    "- Binning is the act of counting the number of numerical values that fall within ranges defined by two endpoints. These ranges are called “bins”.\n",
    "- A value falls in a bin if it is **greater than or equal to the left** endpoint and **less than the right** endpoint.\n",
    "    - [a, b): a is included, b is not.\n",
    "- The width of a bin is its right endpoint minus its left endpoint.\n"
   ]
  },
  {
   "attachments": {},
   "cell_type": "markdown",
   "metadata": {},
   "source": [
    "### Plotting a density histogram\n",
    "\n",
    "- **Density histograms** (not bar charts!) visualize the distribution of a single numerical variable by placing numbers into bins.\n",
    "- To create one from a DataFrame `df`, use\n",
    "```py\n",
    "df.plot(\n",
    "    kind='hist', \n",
    "    y=column_name,\n",
    "    density=True\n",
    ")\n",
    "```\n",
    "- Optional but recommended: Use `ec='w'` to see where bins start and end more clearly."
   ]
  },
  {
   "attachments": {},
   "cell_type": "markdown",
   "metadata": {},
   "source": [
    "### Customizing the bins\n",
    "\n",
    "- By default, Python will bin your data into 10 equally sized bins.\n",
    "- You can specify another number of equally sized bins by setting the optional argument `bins` equal to some other integer value.\n",
    "- You can also specify custom bin start and endpoints by setting `bins` equal to a list or array of bin endpoints."
   ]
  },
  {
   "cell_type": "code",
   "execution_count": 38,
   "metadata": {},
   "outputs": [
    {
     "data": {
      "image/png": "[encoded data removed]",
      "text/plain": [
       "<Figure size 1000x500 with 1 Axes>"
      ]
     },
     "metadata": {},
     "output_type": "display_data"
    }
   ],
   "source": [
    "# There are 10 bins by default, some of which are empty.\n",
    "terr.plot(kind='hist', y='Radius', density=True, ec='w');"
   ]
  },
  {
   "cell_type": "code",
   "execution_count": 39,
   "metadata": {},
   "outputs": [
    {
     "data": {
      "image/png": "[encoded data removed]",
      "text/plain": [
       "<Figure size 1000x500 with 1 Axes>"
      ]
     },
     "metadata": {},
     "output_type": "display_data"
    }
   ],
   "source": [
    "terr.plot(kind='hist', y='Radius', density=True, bins=20, ec='w');"
   ]
  },
  {
   "cell_type": "code",
   "execution_count": 40,
   "metadata": {},
   "outputs": [
    {
     "data": {
      "image/png": "[encoded data removed]",
      "text/plain": [
       "<Figure size 1000x500 with 1 Axes>"
      ]
     },
     "metadata": {},
     "output_type": "display_data"
    }
   ],
   "source": [
    "terr.plot(kind='hist', y='Radius', density=True, bins=[0, 0.5, 1, 1.5, 2, 2.5, 3, 3.5], ec='w');"
   ]
  },
  {
   "attachments": {},
   "cell_type": "markdown",
   "metadata": {},
   "source": [
    "In the three histograms above, what is different and what is the same?"
   ]
  },
  {
   "attachments": {},
   "cell_type": "markdown",
   "metadata": {},
   "source": [
    "### Observations\n",
    "- The general shape of all three histograms is the same, regardless of the bins.\n",
    "- More bins gives a finer, more granular picture of the distribution of the variable `'Radius'`.\n",
    "- The $y$-axis values seem to change a lot when we change the bins. Hang onto that thought; we'll see why shortly."
   ]
  },
  {
   "cell_type": "code",
   "execution_count": 41,
   "metadata": {},
   "outputs": [
    {
     "data": {
      "image/png": "[encoded data removed]",
      "text/plain": [
       "<Figure size 1000x500 with 1 Axes>"
      ]
     },
     "metadata": {},
     "output_type": "display_data"
    }
   ],
   "source": [
    "terr.plot(kind='hist', y='Radius', density=True,\n",
    "            bins=np.arange(0, 3.5, 0.5),\n",
    "            ec='w');"
   ]
  },
  {
   "cell_type": "code",
   "execution_count": 42,
   "metadata": {},
   "outputs": [
    {
     "data": {
      "text/html": [
       "<div>\n",
       "<style scoped>\n",
       "    .dataframe tbody tr th:only-of-type {\n",
       "        vertical-align: middle;\n",
       "    }\n",
       "\n",
       "    .dataframe tbody tr th {\n",
       "        vertical-align: top;\n",
       "    }\n",
       "\n",
       "    .dataframe thead th {\n",
       "        text-align: right;\n",
       "    }\n",
       "</style>\n",
       "<table border=\"1\" class=\"dataframe\">\n",
       "  <thead>\n",
       "    <tr style=\"text-align: right;\">\n",
       "      <th></th>\n",
       "      <th>Distance</th>\n",
       "      <th>Magnitude</th>\n",
       "      <th>Type</th>\n",
       "      <th>Year</th>\n",
       "      <th>Detection</th>\n",
       "      <th>Mass</th>\n",
       "      <th>Radius</th>\n",
       "    </tr>\n",
       "    <tr>\n",
       "      <th>Name</th>\n",
       "      <th></th>\n",
       "      <th></th>\n",
       "      <th></th>\n",
       "      <th></th>\n",
       "      <th></th>\n",
       "      <th></th>\n",
       "      <th></th>\n",
       "    </tr>\n",
       "  </thead>\n",
       "  <tbody>\n",
       "    <tr>\n",
       "      <th>Kepler-33 c</th>\n",
       "      <td>3944.0</td>\n",
       "      <td>14.10</td>\n",
       "      <td>Terrestrial</td>\n",
       "      <td>2011</td>\n",
       "      <td>Transit</td>\n",
       "      <td>0.39</td>\n",
       "      <td>3.13</td>\n",
       "    </tr>\n",
       "    <tr>\n",
       "      <th>K2-138 f</th>\n",
       "      <td>661.0</td>\n",
       "      <td>12.25</td>\n",
       "      <td>Terrestrial</td>\n",
       "      <td>2017</td>\n",
       "      <td>Transit</td>\n",
       "      <td>1.63</td>\n",
       "      <td>2.85</td>\n",
       "    </tr>\n",
       "    <tr>\n",
       "      <th>Kepler-11 b</th>\n",
       "      <td>2108.0</td>\n",
       "      <td>13.82</td>\n",
       "      <td>Terrestrial</td>\n",
       "      <td>2010</td>\n",
       "      <td>Transit</td>\n",
       "      <td>1.90</td>\n",
       "      <td>1.80</td>\n",
       "    </tr>\n",
       "    <tr>\n",
       "      <th>...</th>\n",
       "      <td>...</td>\n",
       "      <td>...</td>\n",
       "      <td>...</td>\n",
       "      <td>...</td>\n",
       "      <td>...</td>\n",
       "      <td>...</td>\n",
       "      <td>...</td>\n",
       "    </tr>\n",
       "    <tr>\n",
       "      <th>Kepler-102 b</th>\n",
       "      <td>352.0</td>\n",
       "      <td>12.07</td>\n",
       "      <td>Terrestrial</td>\n",
       "      <td>2014</td>\n",
       "      <td>Transit</td>\n",
       "      <td>4.30</td>\n",
       "      <td>0.47</td>\n",
       "    </tr>\n",
       "    <tr>\n",
       "      <th>Kepler-444 b</th>\n",
       "      <td>119.0</td>\n",
       "      <td>8.87</td>\n",
       "      <td>Terrestrial</td>\n",
       "      <td>2015</td>\n",
       "      <td>Transit</td>\n",
       "      <td>0.04</td>\n",
       "      <td>0.40</td>\n",
       "    </tr>\n",
       "    <tr>\n",
       "      <th>Kepler-37 e</th>\n",
       "      <td>209.0</td>\n",
       "      <td>9.77</td>\n",
       "      <td>Terrestrial</td>\n",
       "      <td>2014</td>\n",
       "      <td>Transit Timing Variations</td>\n",
       "      <td>0.03</td>\n",
       "      <td>0.37</td>\n",
       "    </tr>\n",
       "  </tbody>\n",
       "</table>\n",
       "<p>193 rows × 7 columns</p>\n",
       "</div>"
      ],
      "text/plain": [
       "              Distance  Magnitude         Type  Year  \\\n",
       "Name                                                   \n",
       "Kepler-33 c     3944.0      14.10  Terrestrial  2011   \n",
       "K2-138 f         661.0      12.25  Terrestrial  2017   \n",
       "Kepler-11 b     2108.0      13.82  Terrestrial  2010   \n",
       "...                ...        ...          ...   ...   \n",
       "Kepler-102 b     352.0      12.07  Terrestrial  2014   \n",
       "Kepler-444 b     119.0       8.87  Terrestrial  2015   \n",
       "Kepler-37 e      209.0       9.77  Terrestrial  2014   \n",
       "\n",
       "                              Detection  Mass  Radius  \n",
       "Name                                                   \n",
       "Kepler-33 c                     Transit  0.39    3.13  \n",
       "K2-138 f                        Transit  1.63    2.85  \n",
       "Kepler-11 b                     Transit  1.90    1.80  \n",
       "...                                 ...   ...     ...  \n",
       "Kepler-102 b                    Transit  4.30    0.47  \n",
       "Kepler-444 b                    Transit  0.04    0.40  \n",
       "Kepler-37 e   Transit Timing Variations  0.03    0.37  \n",
       "\n",
       "[193 rows x 7 columns]"
      ]
     },
     "execution_count": 42,
     "metadata": {},
     "output_type": "execute_result"
    }
   ],
   "source": [
    "terr.sort_values('Radius', ascending=False)"
   ]
  },
  {
   "attachments": {},
   "cell_type": "markdown",
   "metadata": {},
   "source": [
    "In the above example, the terrestrial exoplanet with the largest radius (Kepler-33 c) is not included because the rightmost bin is [2.5, 3.0] and Kepler-33 c has a `'Radius'` of 3.13."
   ]
  },
  {
   "cell_type": "code",
   "execution_count": 43,
   "metadata": {},
   "outputs": [
    {
     "data": {
      "image/png": "[encoded data removed]",
      "text/plain": [
       "<Figure size 1000x500 with 1 Axes>"
      ]
     },
     "metadata": {},
     "output_type": "display_data"
    }
   ],
   "source": [
    "terr.plot(kind='hist', y='Radius', density=True,\n",
    "          bins=[0, 0.25, 0.5, 0.75, 2, 4], ec='w');"
   ]
  },
  {
   "attachments": {},
   "cell_type": "markdown",
   "metadata": {},
   "source": [
    "In the above example, the bins have different widths!"
   ]
  },
  {
   "attachments": {},
   "cell_type": "markdown",
   "metadata": {},
   "source": [
    "### Second key idea behind histograms: Total area is 1"
   ]
  },
  {
   "attachments": {},
   "cell_type": "markdown",
   "metadata": {},
   "source": [
    "- In a density histogram, the $y$-axis can be hard to interpret, but it's designed to give the histogram a very nice property: \n",
    "<br><br>\n",
    "<center>\n",
    "    <b>The bars of a density histogram<br>have a combined total area of 1.</b>\n",
    "</center>"
   ]
  },
  {
   "attachments": {},
   "cell_type": "markdown",
   "metadata": {},
   "source": [
    "- Important: <b>The area of a bar is equal to the proportion of all data points that fall into that bin</b>."
   ]
  },
  {
   "attachments": {},
   "cell_type": "markdown",
   "metadata": {},
   "source": [
    "- Recall from the pretest, proportions and percentages represent the same thing.\n",
    "    - A proportion is a decimal between 0 and 1, a percentage is between 0\\% and 100\\%.\n",
    "    - The proportion 0.34 means 34\\%."
   ]
  },
  {
   "attachments": {},
   "cell_type": "markdown",
   "metadata": {},
   "source": [
    "### Example calculation"
   ]
  },
  {
   "cell_type": "code",
   "execution_count": 44,
   "metadata": {},
   "outputs": [
    {
     "data": {
      "image/png": "[encoded data removed]",
      "text/plain": [
       "<Figure size 1000x500 with 1 Axes>"
      ]
     },
     "metadata": {},
     "output_type": "display_data"
    }
   ],
   "source": [
    "terr.plot(kind='hist', y='Radius', density=True,\n",
    "          bins=[0, 0.25, 0.5, 0.75, 2, 4], ec='w');"
   ]
  },
  {
   "attachments": {},
   "cell_type": "markdown",
   "metadata": {},
   "source": [
    "Based on this histogram, what proportion of terrestrial exoplanets have a `'Radius'` between 0.5 and 0.75?"
   ]
  },
  {
   "attachments": {},
   "cell_type": "markdown",
   "metadata": {},
   "source": [
    "### Example calculation\n",
    "\n",
    "- The height of the [0.5, 0.75) bar looks to be around 0.8.\n",
    "- The width of the bin is 0.75 - 0.5 = 0.25.\n",
    "\n",
    "- Therefore, using the formula for the area of a rectangle,\n",
    "\n",
    "$$\\begin{align}\\text{Area} &= \\text{Height} \\times \\text{Width} \\\\ &= 0.8 \\times 0.25 \\\\ &= 0.2\n",
    "\\end{align}$$\n",
    "\n",
    "- Since areas represent proportions, this means that the proportion of terrestrial exoplanets with a radius between 0.5 and 0.75 is about 0.2 (or 20\\%)."
   ]
  },
  {
   "cell_type": "code",
   "execution_count": 45,
   "metadata": {},
   "outputs": [
    {
     "data": {
      "text/plain": [
       "39"
      ]
     },
     "execution_count": 45,
     "metadata": {},
     "output_type": "execute_result"
    }
   ],
   "source": [
    "in_range = terr[(terr.get('Radius') >= 0.5) & (terr.get('Radius') < 0.75)].shape[0]\n",
    "in_range"
   ]
  },
  {
   "cell_type": "code",
   "execution_count": 46,
   "metadata": {},
   "outputs": [
    {
     "data": {
      "text/plain": [
       "0.20207253886010362"
      ]
     },
     "execution_count": 46,
     "metadata": {},
     "output_type": "execute_result"
    }
   ],
   "source": [
    "in_range / terr.shape[0]"
   ]
  },
  {
   "attachments": {},
   "cell_type": "markdown",
   "metadata": {},
   "source": [
    "This matches the result we got. (Not exactly, since we made an estimate for the height.)"
   ]
  }
 ],
 "metadata": {
  "kernelspec": {
   "display_name": "Python 3 (ipykernel)",
   "language": "python",
   "name": "python3"
  },
  "language_info": {
   "codemirror_mode": {
    "name": "ipython",
    "version": 3
   },
   "file_extension": ".py",
   "mimetype": "text/x-python",
   "name": "python",
   "nbconvert_exporter": "python",
   "pygments_lexer": "ipython3",
   "version": "3.11.5"
  },
  "livereveal": {
   "scroll": true,
   "transition": "none"
  },
  "rise": {
   "enable_chalkboard": true
  },
  "vscode": {
   "interpreter": {
    "hash": "661c719dae718e49a1162d72fd619be7e051566969fd39c03e5568043e0b0a2e"
   }
  }
 },
 "nbformat": 4,
 "nbformat_minor": 4
}
