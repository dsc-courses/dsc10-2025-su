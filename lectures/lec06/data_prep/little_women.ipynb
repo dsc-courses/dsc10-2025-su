{
 "cells": [
  {
   "cell_type": "markdown",
   "id": "887e7e90",
   "metadata": {},
   "source": [
    "Create a DataFrame of character counts as we did in Lecture 1. Write it to a CSV so we can read it in as a DataFrame and plot from it in Lecture 6."
   ]
  },
  {
   "cell_type": "code",
   "execution_count": 3,
   "id": "45ef50a2",
   "metadata": {},
   "outputs": [],
   "source": [
    "import pandas as pd\n",
    "import numpy as np\n",
    "\n",
    "\n",
    "chapters = open('lw.txt').read().split('CHAPTER ')[1:]\n",
    "\n",
    "# Counts of names in the chapters of Little Women.\n",
    "counts = pd.DataFrame().assign(\n",
    "    Amy=np.char.count(chapters, 'Amy'),\n",
    "    Beth=np.char.count(chapters, 'Beth'),\n",
    "    Jo=np.char.count(chapters, 'Jo'),\n",
    "    Meg=np.char.count(chapters, 'Meg'),\n",
    "    Laurie=np.char.count(chapters, 'Laurie'),\n",
    ")\n",
    "\n",
    "# Cumulative number of times each name appears.\n",
    "lw_counts = pd.DataFrame().assign(\n",
    "    Amy=np.cumsum(counts.get('Amy')),\n",
    "    Beth=np.cumsum(counts.get('Beth')),\n",
    "    Jo=np.cumsum(counts.get('Jo')),\n",
    "    Meg=np.cumsum(counts.get('Meg')),\n",
    "    Laurie=np.cumsum(counts.get('Laurie')),\n",
    "    Chapter=np.arange(1, 48, 1)\n",
    ")\n",
    "\n",
    "lw_counts.to_csv('../data/lw_counts.csv', index=False)"
   ]
  },
  {
   "cell_type": "code",
   "execution_count": null,
   "id": "de7c6111",
   "metadata": {},
   "outputs": [],
   "source": []
  }
 ],
 "metadata": {
  "kernelspec": {
   "display_name": "Python 3 (ipykernel)",
   "language": "python",
   "name": "python3"
  },
  "language_info": {
   "codemirror_mode": {
    "name": "ipython",
    "version": 3
   },
   "file_extension": ".py",
   "mimetype": "text/x-python",
   "name": "python",
   "nbconvert_exporter": "python",
   "pygments_lexer": "ipython3",
   "version": "3.9.5"
  }
 },
 "nbformat": 4,
 "nbformat_minor": 5
}
