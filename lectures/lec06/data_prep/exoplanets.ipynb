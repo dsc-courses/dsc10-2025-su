{
 "cells": [
  {
   "cell_type": "code",
   "execution_count": null,
   "id": "b15d2143",
   "metadata": {},
   "outputs": [],
   "source": [
    "import numpy as np\n",
    "import babypandas as bpd\n",
    "import pandas as pd\n",
    "\n",
    "import matplotlib.pyplot as plt\n",
    "from matplotlib_inline.backend_inline import set_matplotlib_formats\n",
    "set_matplotlib_formats(\"svg\")\n",
    "plt.style.use('ggplot')\n",
    "plt.rcParams['figure.figsize'] = (10, 5)"
   ]
  },
  {
   "cell_type": "markdown",
   "id": "925d655c",
   "metadata": {},
   "source": [
    "Data comes from here: https://www.kaggle.com/datasets/adityamishraml/nasaexoplanets\n",
    "\n",
    "Original source: https://exoplanetarchive.ipac.caltech.edu/\n",
    "\n",
    "Also useful data source: https://exoplanets.nasa.gov/discovery/exoplanet-catalog/\n",
    "\n",
    "First, convert mass and radius to their multipliers relative to Earth. Information used for that conversion comes from here: https://nssdc.gsfc.nasa.gov/planetary/factsheet/jupiterfact.html\n",
    "\n",
    "Now mass columnn represents the ratio of this exoplanet's mass to the earth's mass (how many times more massive it is than earth), similarly for radius (ratio relative to earth)."
   ]
  },
  {
   "cell_type": "code",
   "execution_count": null,
   "id": "e5f05e48",
   "metadata": {},
   "outputs": [],
   "source": [
    "exo = pd.read_csv('exoplanets.csv').get(['name', 'distance', 'stellar_magnitude', 'planet_type',\n",
    "       'discovery_year', 'detection_method', 'mass_multiplier', 'mass_wrt', 'radius_multiplier',\n",
    "       'radius_wrt'])\n",
    "\n",
    "exo.loc[exo['mass_wrt'] == 'Jupiter', 'mass_wrt'] = 317.83\n",
    "exo.loc[exo['mass_wrt'] == 'Earth', 'mass_wrt'] = 1\n",
    "\n",
    "# approximate bc it's not clear which radius is given in data, polar or equatorial\n",
    "exo.loc[exo['radius_wrt'] == 'Jupiter', 'radius_wrt'] = 11 \n",
    "exo.loc[exo['radius_wrt'] == 'Earth', 'radius_wrt'] = 1\n",
    "\n",
    "exo = exo.assign(mass=pd.to_numeric(exo.get('mass_multiplier')*exo.get('mass_wrt')))\n",
    "exo = exo.assign(radius=pd.to_numeric(exo.get('radius_multiplier')*exo.get('radius_wrt')))\n",
    "exo = exo.drop(columns=['mass_multiplier', 'mass_wrt', 'radius_multiplier', 'radius_wrt'])\n",
    "exo = exo.dropna()\n",
    "exo"
   ]
  },
  {
   "cell_type": "markdown",
   "id": "609171b0",
   "metadata": {},
   "source": [
    "Sirius is the brightest star in the night sky. Its apparent magnitude is -1.46. Using the formula\n",
    "\n",
    "$$10^{-0.4*(\\text{stellar magnitude} + 1.46)}$$\n",
    "\n",
    "we can get each star's brightness relative to Sirius (what fraction of Sirius' brightness this star has). Example:0.5 means it's half as bright as Sirius. These are faraway exoplanets so the fractions should be less than 1.\n",
    "\n",
    "This follows the example calculation here: https://en.wikipedia.org/wiki/Apparent_magnitude#Example:_Sun_and_Moon"
   ]
  },
  {
   "cell_type": "code",
   "execution_count": null,
   "id": "16539943",
   "metadata": {},
   "outputs": [],
   "source": [
    "exo.assign(brightness = 10 ** (-0.4 * (exo.get('stellar_magnitude') + 1.46)))\n"
   ]
  },
  {
   "cell_type": "markdown",
   "id": "18b9bd6b",
   "metadata": {},
   "source": [
    "This does not help the plots, so I am abandoning it and will stick with the original stellar magnitude."
   ]
  },
  {
   "cell_type": "code",
   "execution_count": null,
   "id": "5b25b434",
   "metadata": {},
   "outputs": [],
   "source": [
    "exo.to_csv('../data/exoplanets.csv', index=False)"
   ]
  },
  {
   "cell_type": "markdown",
   "id": "6fa7ac7f",
   "metadata": {},
   "source": [
    "Another thing we can do is separate the name of the star around which the planet orbits and the order in which the planet was discovered in that solar system. Most follow the [standard naming convention](https://en.wikipedia.org/wiki/Exoplanet_naming_convention#:~:text=Following%20an%20extension%20of%20the,planets%20are%20given%20subsequent%20letters) but a few had to be handled manually. "
   ]
  },
  {
   "cell_type": "code",
   "execution_count": null,
   "id": "8829e139",
   "metadata": {},
   "outputs": [],
   "source": [
    "def get_star(planet_name):\n",
    "    return planet_name[:-2]\n",
    "\n",
    "get_star(\"1RXS J160929.1-210524 b\")"
   ]
  },
  {
   "cell_type": "code",
   "execution_count": null,
   "id": "46c74bd1",
   "metadata": {},
   "outputs": [],
   "source": [
    "letter_to_number = {\"b\": 1, \"c\": 2, \"d\": 3, \"e\": 4, \"f\": 5, \"g\": 6, \"h\": 7, \"i\": 8, \"j\": 9, \"1\": 1, \"2\": 2}\n",
    "\n",
    "def get_order(planet_name):\n",
    "    # manually handle planets that don't follow the convention\n",
    "    if planet_name == \"EPIC 201170410.02\" or planet_name == \"EPIC 201757695.02\":\n",
    "        return 1\n",
    "    return letter_to_number[planet_name[-1]]\n",
    "\n",
    "get_order(\"1RXS J160929.1-210524 b\")"
   ]
  },
  {
   "cell_type": "code",
   "execution_count": null,
   "id": "a6dddb47",
   "metadata": {},
   "outputs": [],
   "source": [
    "exo"
   ]
  },
  {
   "cell_type": "code",
   "execution_count": null,
   "id": "475a5ef6",
   "metadata": {
    "scrolled": true
   },
   "outputs": [],
   "source": [
    "exo = exo.assign(Order=exo.get('name').apply(get_order), \n",
    "                               Star=exo.get('name').apply(get_star))\n",
    "exo"
   ]
  },
  {
   "cell_type": "markdown",
   "id": "fede2e6d",
   "metadata": {},
   "source": [
    "I also wound up not using this, but it's here if we ever want to use those columns."
   ]
  },
  {
   "cell_type": "code",
   "execution_count": null,
   "id": "61ec1f17",
   "metadata": {},
   "outputs": [],
   "source": []
  }
 ],
 "metadata": {
  "kernelspec": {
   "display_name": "Python 3 (ipykernel)",
   "language": "python",
   "name": "python3"
  },
  "language_info": {
   "codemirror_mode": {
    "name": "ipython",
    "version": 3
   },
   "file_extension": ".py",
   "mimetype": "text/x-python",
   "name": "python",
   "nbconvert_exporter": "python",
   "pygments_lexer": "ipython3",
   "version": "3.9.5"
  }
 },
 "nbformat": 4,
 "nbformat_minor": 5
}
