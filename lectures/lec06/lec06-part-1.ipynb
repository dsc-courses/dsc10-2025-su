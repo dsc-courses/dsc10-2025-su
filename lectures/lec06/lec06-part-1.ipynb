{
 "cells": [
  {
   "cell_type": "code",
   "execution_count": null,
   "metadata": {
    "slideshow": {
     "slide_type": "skip"
    }
   },
   "outputs": [],
   "source": [
    "# Run this cell to set up packages for lecture.\n",
    "from lec06_imports import *"
   ]
  },
  {
   "attachments": {},
   "cell_type": "markdown",
   "metadata": {
    "slideshow": {
     "slide_type": "slide"
    }
   },
   "source": [
    "# Lecture 6, Part 1: Applying\n",
    "\n",
    "## DSC 10, Summer 2025"
   ]
  },
  {
   "attachments": {},
   "cell_type": "markdown",
   "metadata": {
    "slideshow": {
     "slide_type": "slide"
    }
   },
   "source": [
    "### Agenda\n",
    "\n",
    "- Applying functions to DataFrames.\n",
    "    - Example: Student names.\n",
    "\n",
    "***Reminder:*** Use the [DSC 10 Reference Sheet](https://dsc-courses.github.io/bpd-reference/docs/documentation/intro/)."
   ]
  },
  {
   "attachments": {},
   "cell_type": "markdown",
   "metadata": {
    "slideshow": {
     "slide_type": "slide"
    }
   },
   "source": [
    "## Quick recap of functions"
   ]
  },
  {
   "cell_type": "markdown",
   "metadata": {
    "slideshow": {
     "slide_type": "slide"
    }
   },
   "source": [
    "### Functions are \"recipes\"\n",
    "\n",
    "- Functions take in inputs, known as **arguments**, do something, and produce some outputs.\n",
    "- The beauty of functions is that **you don't need to know how they are implemented in order to use them!**\n",
    "    - For instance, you've been using the function `bpd.read_csv` without knowing how it works.\n",
    "    - This is the premise of the idea of **abstraction** in computer science – you'll hear a lot about this if you take DSC 20."
   ]
  },
  {
   "cell_type": "code",
   "execution_count": null,
   "metadata": {},
   "outputs": [],
   "source": [
    "def mystery_func_1(x, y):\n",
    "    z = x * y\n",
    "    return z * 3"
   ]
  },
  {
   "cell_type": "code",
   "execution_count": null,
   "metadata": {},
   "outputs": [],
   "source": [
    "def first_name(full_name):\n",
    "    '''Returns the first name given a full name.'''\n",
    "    return full_name.split(' ')[0]"
   ]
  },
  {
   "cell_type": "markdown",
   "metadata": {
    "slideshow": {
     "slide_type": "slide"
    }
   },
   "source": [
    "## Applying functions to DataFrames"
   ]
  },
  {
   "attachments": {},
   "cell_type": "markdown",
   "metadata": {
    "slideshow": {
     "slide_type": "slide"
    }
   },
   "source": [
    "### DSC 10 student data\n",
    "\n",
    "The DataFrame `roster` contains the names and lecture sections of all students enrolled in DSC 10 in some previous quarter. The first names are real, while the last names have been anonymized for privacy."
   ]
  },
  {
   "cell_type": "code",
   "execution_count": null,
   "metadata": {},
   "outputs": [],
   "source": [
    "roster = bpd.read_csv('data/roster-anon.csv')\n",
    "roster"
   ]
  },
  {
   "cell_type": "markdown",
   "metadata": {
    "slideshow": {
     "slide_type": "slide"
    }
   },
   "source": [
    "### Example: Common first names\n",
    "\n",
    "What is the most common first name among DSC 10 students? (Any guesses?)"
   ]
  },
  {
   "cell_type": "code",
   "execution_count": null,
   "metadata": {},
   "outputs": [],
   "source": [
    "roster"
   ]
  },
  {
   "cell_type": "markdown",
   "metadata": {
    "slideshow": {
     "slide_type": "fragment"
    }
   },
   "source": [
    "- **Problem**: We can't answer that right now, since we don't have a column with first names. If we did, we could group by it."
   ]
  },
  {
   "cell_type": "markdown",
   "metadata": {
    "slideshow": {
     "slide_type": "fragment"
    }
   },
   "source": [
    "- **Solution**: Use our function that extracts first names on _every_ element of the `'name'` column."
   ]
  },
  {
   "cell_type": "markdown",
   "metadata": {
    "slideshow": {
     "slide_type": "slide"
    }
   },
   "source": [
    "### Using our `first_name` function\n",
    "\n",
    "Somehow, we need to call `first_name` on every student's `'name'`."
   ]
  },
  {
   "cell_type": "code",
   "execution_count": null,
   "metadata": {},
   "outputs": [],
   "source": [
    "roster"
   ]
  },
  {
   "cell_type": "code",
   "execution_count": null,
   "metadata": {
    "scrolled": true
   },
   "outputs": [],
   "source": [
    "roster.get('name').iloc[0]"
   ]
  },
  {
   "cell_type": "code",
   "execution_count": null,
   "metadata": {},
   "outputs": [],
   "source": [
    "first_name(roster.get('name').iloc[0])"
   ]
  },
  {
   "cell_type": "code",
   "execution_count": null,
   "metadata": {},
   "outputs": [],
   "source": [
    "first_name(roster.get('name').iloc[1])"
   ]
  },
  {
   "cell_type": "markdown",
   "metadata": {},
   "source": [
    "Ideally, there's a better solution than doing this hundreds of times..."
   ]
  },
  {
   "cell_type": "markdown",
   "metadata": {
    "slideshow": {
     "slide_type": "slide"
    }
   },
   "source": [
    "### `.apply`"
   ]
  },
  {
   "cell_type": "markdown",
   "metadata": {
    "slideshow": {
     "slide_type": "fragment"
    }
   },
   "source": [
    "- To **apply** the function `func_name` to every element of column `'col'` in DataFrame `df`, use\n",
    "\n",
    "<center>\n",
    "    <code>df.get('col').apply(func_name)</code>\n",
    "</center>"
   ]
  },
  {
   "cell_type": "markdown",
   "metadata": {
    "slideshow": {
     "slide_type": "fragment"
    }
   },
   "source": [
    "- The `.apply` method is a **Series** method.\n",
    "    - **Important**: We use `.apply` on Series, **not** DataFrames.\n",
    "    - The output of `.apply` is also a Series."
   ]
  },
  {
   "cell_type": "markdown",
   "metadata": {
    "slideshow": {
     "slide_type": "fragment"
    }
   },
   "source": [
    "- Pass _just the name_ of the function – don't call it!\n",
    "    - Good ✅: `.apply(first_name)`.\n",
    "    - Bad ❌: `.apply(first_name())`."
   ]
  },
  {
   "cell_type": "code",
   "execution_count": null,
   "metadata": {},
   "outputs": [],
   "source": [
    "roster.get('name')"
   ]
  },
  {
   "cell_type": "code",
   "execution_count": null,
   "metadata": {
    "scrolled": true,
    "slideshow": {
     "slide_type": "-"
    }
   },
   "outputs": [],
   "source": [
    "roster.get('name').apply(first_name)"
   ]
  },
  {
   "cell_type": "markdown",
   "metadata": {
    "slideshow": {
     "slide_type": "slide"
    }
   },
   "source": [
    "### Example: Common first names"
   ]
  },
  {
   "cell_type": "code",
   "execution_count": null,
   "metadata": {},
   "outputs": [],
   "source": [
    "roster = roster.assign(\n",
    "    first=roster.get('name').apply(first_name)\n",
    ")\n",
    "roster"
   ]
  },
  {
   "cell_type": "markdown",
   "metadata": {
    "slideshow": {
     "slide_type": "fragment"
    }
   },
   "source": [
    "Now that we have a column containing first names, we can find the **distribution** of first names."
   ]
  },
  {
   "cell_type": "code",
   "execution_count": null,
   "metadata": {
    "scrolled": true
   },
   "outputs": [],
   "source": [
    "name_counts = (\n",
    "    roster\n",
    "    .groupby('first')\n",
    "    .count()\n",
    "    .sort_values('name', ascending=False)\n",
    "    .get(['name'])\n",
    ")\n",
    "name_counts"
   ]
  },
  {
   "cell_type": "markdown",
   "metadata": {
    "slideshow": {
     "slide_type": "slide"
    }
   },
   "source": [
    "### Activity\n",
    "\n",
    "Below:\n",
    "- Create a **bar chart** showing the number of students with each first name, but only include first names shared by at least two students.\n",
    "- Determine the **proportion** of students in DSC 10 who have a first name that is shared by at least two students.\n",
    "\n",
    "*Hint*: Start by defining a DataFrame with only the names in `name_counts` that appeared at least twice. You can use this DataFrame to answer both questions.\n",
    "\n",
    "<br>\n",
    "\n",
    "<details>\n",
    "<summary>✅ Click <b>here</b> to see the solutions <b>after</b> you've tried it yourself.</summary>\n",
    "    \n",
    "<pre>\n",
    "\n",
    "shared_names = name_counts[name_counts.get('name') >= 2]\n",
    "\n",
    "# Bar chart.\n",
    "shared_names.sort_values('name').plot(kind='barh', y='name');\n",
    "\n",
    "# Proportion = # students with a shared name / total # of students.\n",
    "shared_names.get('name').sum() / roster.shape[0]\n",
    "\n",
    "</pre>\n",
    "    \n",
    "</details>"
   ]
  },
  {
   "cell_type": "code",
   "execution_count": null,
   "metadata": {},
   "outputs": [],
   "source": []
  },
  {
   "cell_type": "code",
   "execution_count": null,
   "metadata": {},
   "outputs": [],
   "source": [
    "..."
   ]
  },
  {
   "cell_type": "markdown",
   "metadata": {
    "slideshow": {
     "slide_type": "slide"
    }
   },
   "source": [
    "### `.apply` works with built-in functions, too!"
   ]
  },
  {
   "cell_type": "code",
   "execution_count": null,
   "metadata": {},
   "outputs": [],
   "source": [
    "name_counts.get('name')"
   ]
  },
  {
   "cell_type": "code",
   "execution_count": null,
   "metadata": {},
   "outputs": [],
   "source": [
    "# Not necessarily meaningful, but doable.\n",
    "name_counts.get('name').apply(np.log)"
   ]
  },
  {
   "cell_type": "markdown",
   "metadata": {
    "slideshow": {
     "slide_type": "slide"
    }
   },
   "source": [
    "### Aside: Resetting the index\n",
    "\n",
    "In `name_counts`, first names are stored in the index, which is **not** a Series. This means we can't use `.apply` on it."
   ]
  },
  {
   "cell_type": "code",
   "execution_count": null,
   "metadata": {},
   "outputs": [],
   "source": [
    "name_counts.index"
   ]
  },
  {
   "cell_type": "code",
   "execution_count": null,
   "metadata": {},
   "outputs": [],
   "source": [
    "name_counts.index.apply(max)"
   ]
  },
  {
   "cell_type": "markdown",
   "metadata": {
    "slideshow": {
     "slide_type": "fragment"
    }
   },
   "source": [
    "To help, we can use `.reset_index()` to turn the index of a DataFrame into a column, and to reset the index back to the default of 0, 1, 2, 3, and so on."
   ]
  },
  {
   "cell_type": "code",
   "execution_count": null,
   "metadata": {
    "scrolled": true
   },
   "outputs": [],
   "source": [
    "# What is the max of an individual string?\n",
    "name_counts.reset_index().get('first').apply(max)"
   ]
  },
  {
   "cell_type": "markdown",
   "metadata": {
    "slideshow": {
     "slide_type": "slide"
    }
   },
   "source": [
    "### Example: Shared first names and sections\n",
    "\n",
    "- Suppose you're one of the students who has a first name that is shared with at least one other student.\n",
    "- Let's try and determine whether someone **in your lecture section** shares the same first name as you.\n",
    "    - For example, maybe `'Evan Flmeik'` wants to see if there's another `'Evan'` in their section. "
   ]
  },
  {
   "cell_type": "markdown",
   "metadata": {
    "slideshow": {
     "slide_type": "fragment"
    }
   },
   "source": [
    "Strategy:\n",
    "1. Which section is `'Evan Flmeik'` in?\n",
    "2. How many people in that section have a first name of `'Evan'`?"
   ]
  },
  {
   "cell_type": "code",
   "execution_count": null,
   "metadata": {},
   "outputs": [],
   "source": [
    "roster"
   ]
  },
  {
   "cell_type": "code",
   "execution_count": null,
   "metadata": {},
   "outputs": [],
   "source": [
    "which_section = roster[roster.get('name') == 'Evan Flmeik'].get('section').iloc[0]\n",
    "which_section"
   ]
  },
  {
   "cell_type": "code",
   "execution_count": null,
   "metadata": {},
   "outputs": [],
   "source": [
    "first_cond = roster.get('first') == 'Evan' # A Boolean Series!\n",
    "section_cond = roster.get('section') == which_section # A Boolean Series!\n",
    "how_many = roster[first_cond & section_cond].shape[0]\n",
    "how_many"
   ]
  },
  {
   "cell_type": "markdown",
   "metadata": {
    "slideshow": {
     "slide_type": "slide"
    }
   },
   "source": [
    "### Another function: `shared_first_and_section`\n",
    "\n",
    "Let's create a function named `shared_first_and_section`. It will take in the **full name** of a student and return **the number** of students in their section with the same first name and section (including them).\n",
    "\n",
    "*Note*: This is the first function we're writing that involves using a DataFrame within the function – this is fine!"
   ]
  },
  {
   "cell_type": "code",
   "execution_count": null,
   "metadata": {},
   "outputs": [],
   "source": [
    "def shared_first_and_section(name):\n",
    "    # First, find the row corresponding to that full name in roster.\n",
    "    # We're assuming that full names are unique.\n",
    "    row = roster[roster.get('name') == name]\n",
    "    \n",
    "    # Then, get that student's first name and section.\n",
    "    first = row.get('first').iloc[0]\n",
    "    section = row.get('section').iloc[0]\n",
    "    \n",
    "    # Now, find all the students with the same first name and section.\n",
    "    shared_info = roster[(roster.get('first') == first) & (roster.get('section') == section)]\n",
    "    \n",
    "    # Return the number of such students.\n",
    "    return shared_info.shape[0]"
   ]
  },
  {
   "cell_type": "code",
   "execution_count": null,
   "metadata": {},
   "outputs": [],
   "source": [
    "shared_first_and_section('Evan Flmeik')"
   ]
  },
  {
   "cell_type": "markdown",
   "metadata": {},
   "source": [
    "Now, let's add a column to `roster` that contains the values returned by `shared_first_and_section`."
   ]
  },
  {
   "cell_type": "code",
   "execution_count": null,
   "metadata": {
    "scrolled": true
   },
   "outputs": [],
   "source": [
    "roster = roster.assign(shared=roster.get('name').apply(shared_first_and_section))\n",
    "roster"
   ]
  },
  {
   "cell_type": "markdown",
   "metadata": {
    "slideshow": {
     "slide_type": "slide"
    }
   },
   "source": [
    "Let's find all of the students who are in a section with someone that has the same first name as them."
   ]
  },
  {
   "cell_type": "code",
   "execution_count": null,
   "metadata": {
    "scrolled": true
   },
   "outputs": [],
   "source": [
    "roster[(roster.get('shared') >= 2)].sort_values('shared', ascending=False)"
   ]
  },
  {
   "cell_type": "markdown",
   "metadata": {
    "slideshow": {
     "slide_type": "slide"
    }
   },
   "source": [
    "### Activity\n",
    "\n",
    "Find the longest first name in the class that is shared by at least two students in the same section.\n",
    "\n",
    "*Hint*: You'll have to use both `.assign` and `.apply`.\n",
    "\n",
    "<br>\n",
    "\n",
    "<details>\n",
    "<summary>✅ Click <b>here</b> to see the answer <b>after</b> you've tried it yourself.</summary>\n",
    "    \n",
    "<pre>\n",
    "\n",
    "with_len = roster.assign(name_len=roster.get('first').apply(len))\n",
    "with_len[with_len.get('shared') >= 2].sort_values('name_len', ascending=False).get('first').iloc[0]\n",
    "\n",
    "</pre>\n",
    "    \n",
    "</details>"
   ]
  },
  {
   "cell_type": "code",
   "execution_count": null,
   "metadata": {},
   "outputs": [],
   "source": [
    "..."
   ]
  }
 ],
 "metadata": {
  "kernelspec": {
   "display_name": "Python 3 (ipykernel)",
   "language": "python",
   "name": "python3"
  },
  "language_info": {
   "codemirror_mode": {
    "name": "ipython",
    "version": 3
   },
   "file_extension": ".py",
   "mimetype": "text/x-python",
   "name": "python",
   "nbconvert_exporter": "python",
   "pygments_lexer": "ipython3",
   "version": "3.11.5"
  },
  "livereveal": {
   "scroll": true,
   "transition": "none"
  },
  "rise": {
   "enable_chalkboard": true
  },
  "vscode": {
   "interpreter": {
    "hash": "661c719dae718e49a1162d72fd619be7e051566969fd39c03e5568043e0b0a2e"
   }
  }
 },
 "nbformat": 4,
 "nbformat_minor": 4
}
