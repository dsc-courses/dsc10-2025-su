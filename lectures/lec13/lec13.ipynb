{
 "cells": [
  {
   "cell_type": "code",
   "execution_count": null,
   "metadata": {
    "slideshow": {
     "slide_type": "skip"
    }
   },
   "outputs": [],
   "source": [
    "# Run this cell to set up packages for lecture.\n",
    "from lec13_imports import *"
   ]
  },
  {
   "attachments": {},
   "cell_type": "markdown",
   "metadata": {
    "slideshow": {
     "slide_type": "slide"
    }
   },
   "source": [
    "# Lecture 13 – Hypothesis Testing, p-values\n",
    "\n",
    "## DSC 10, Summer 2025"
   ]
  },
  {
   "attachments": {},
   "cell_type": "markdown",
   "metadata": {
    "slideshow": {
     "slide_type": "slide"
    }
   },
   "source": [
    "### Agenda\n",
    "\n",
    "- Statistical models\n",
    "- Example: Jury selection\n",
    "- Example: Is our coin fair?\n",
    "    - Hypothesis tests.\n",
    "    - Null and alternative hypotheses.\n",
    "    - Test statistics, and how to choose them.\n",
    "    - p-values"
   ]
  },
  {
   "cell_type": "markdown",
   "metadata": {
    "slideshow": {
     "slide_type": "slide"
    }
   },
   "source": [
    "## Statistical models"
   ]
  },
  {
   "cell_type": "markdown",
   "metadata": {
    "slideshow": {
     "slide_type": "slide"
    }
   },
   "source": [
    "### Models"
   ]
  },
  {
   "cell_type": "markdown",
   "metadata": {
    "slideshow": {
     "slide_type": "fragment"
    }
   },
   "source": [
    "- A model is a set of assumptions about how data was generated."
   ]
  },
  {
   "cell_type": "markdown",
   "metadata": {
    "slideshow": {
     "slide_type": "fragment"
    }
   },
   "source": [
    "- Our goal is to **assess the quality of a model**."
   ]
  },
  {
   "cell_type": "markdown",
   "metadata": {
    "slideshow": {
     "slide_type": "fragment"
    }
   },
   "source": [
    "- Given a dataset, our goal is to determine whether a model \"explains\" the patterns in the dataset."
   ]
  },
  {
   "cell_type": "markdown",
   "metadata": {
    "slideshow": {
     "slide_type": "fragment"
    }
   },
   "source": [
    "- Our approach involves simulation. We **assume the model is true**, simulate many samples based on this model, and compare how frequently these samples look like our observed data."
   ]
  },
  {
   "cell_type": "markdown",
   "metadata": {
    "slideshow": {
     "slide_type": "fragment"
    }
   },
   "source": [
    "- Finally, we use the results of our simulation to draw a conclusion about the validity of the model."
   ]
  },
  {
   "cell_type": "markdown",
   "metadata": {
    "slideshow": {
     "slide_type": "slide"
    }
   },
   "source": [
    "## Example: Jury selection"
   ]
  },
  {
   "cell_type": "markdown",
   "metadata": {
    "slideshow": {
     "slide_type": "slide"
    }
   },
   "source": [
    "### Swain vs. Alabama, 1965"
   ]
  },
  {
   "cell_type": "markdown",
   "metadata": {
    "slideshow": {
     "slide_type": "fragment"
    }
   },
   "source": [
    "- Robert Swain was a Black man convicted of crime in Talladega County, Alabama."
   ]
  },
  {
   "cell_type": "markdown",
   "metadata": {
    "slideshow": {
     "slide_type": "fragment"
    }
   },
   "source": [
    "- He appealed the jury's decision all the way to the Supreme Court, on the grounds that Talladega County systematically excluded Black people from juries."
   ]
  },
  {
   "cell_type": "markdown",
   "metadata": {
    "slideshow": {
     "slide_type": "fragment"
    }
   },
   "source": [
    "<center>$\\substack{\\text{eligible} \\\\ \\text{population}}\n",
    "\\xrightarrow{\\substack{\\text{representative} \\\\ \\text{sample}}} \n",
    "\\substack{\\text{jury} \\\\ \\text{panel}}\n",
    "\\xrightarrow{\\substack{\\text{selection by} \\\\ \\text{judge/attorneys}}} \n",
    "\\substack{\\text{actual} \\\\ \\text{jury}}$</center>"
   ]
  },
  {
   "cell_type": "markdown",
   "metadata": {
    "slideshow": {
     "slide_type": "fragment"
    }
   },
   "source": [
    "- At the time, only men 21 years or older were allowed to serve on juries. **26%** of this eligible population was Black."
   ]
  },
  {
   "cell_type": "markdown",
   "metadata": {
    "slideshow": {
     "slide_type": "fragment"
    }
   },
   "source": [
    "- But of the 100 men on Robert Swain's jury panel, only **8** were Black."
   ]
  },
  {
   "cell_type": "markdown",
   "metadata": {
    "slideshow": {
     "slide_type": "slide"
    }
   },
   "source": [
    "### Supreme Court ruling"
   ]
  },
  {
   "cell_type": "markdown",
   "metadata": {
    "slideshow": {
     "slide_type": "fragment"
    }
   },
   "source": [
    "- About disparities between the percentages in the eligible population and the jury panel, the Supreme Court wrote:\n",
    "\n",
    "> \"... the overall percentage disparity has been small...”"
   ]
  },
  {
   "cell_type": "markdown",
   "metadata": {
    "slideshow": {
     "slide_type": "fragment"
    }
   },
   "source": [
    "- The Supreme Court denied Robert Swain’s appeal and he was sentenced to life in prison."
   ]
  },
  {
   "cell_type": "markdown",
   "metadata": {
    "slideshow": {
     "slide_type": "fragment"
    }
   },
   "source": [
    "- We now have the tools to show **quantitatively** that the Supreme Court's claim was misguided."
   ]
  },
  {
   "cell_type": "markdown",
   "metadata": {
    "slideshow": {
     "slide_type": "fragment"
    }
   },
   "source": [
    "- This \"overall percentage disparity\" turns out to be not so small, and is an example of racial bias.\n",
    "    - Jury panels were often made up of people in the jury commissioner's professional and social circles.\n",
    "    - Of the 8 Black men on the jury panel, **none** were selected to be part of the actual jury."
   ]
  },
  {
   "cell_type": "markdown",
   "metadata": {
    "slideshow": {
     "slide_type": "slide"
    }
   },
   "source": [
    "### Setup"
   ]
  },
  {
   "cell_type": "markdown",
   "metadata": {
    "slideshow": {
     "slide_type": "fragment"
    }
   },
   "source": [
    "- <span style=\"color:blue\"><b>Model</b></span>: Jury panels consist of 100 men, **randomly** chosen from a population that is 26% Black."
   ]
  },
  {
   "cell_type": "markdown",
   "metadata": {
    "slideshow": {
     "slide_type": "fragment"
    }
   },
   "source": [
    "- <span style=\"color:orange\"><b>Observation</b></span>: On the actual jury panel, only 8 out of 100 men were Black."
   ]
  },
  {
   "cell_type": "markdown",
   "metadata": {
    "slideshow": {
     "slide_type": "fragment"
    }
   },
   "source": [
    "- **Question**: Does the <span style=\"color:blue\">model</span> explain the <span style=\"color:orange\">observation</span>?"
   ]
  },
  {
   "cell_type": "markdown",
   "metadata": {
    "slideshow": {
     "slide_type": "slide"
    }
   },
   "source": [
    "### Our approach: Simulation"
   ]
  },
  {
   "cell_type": "markdown",
   "metadata": {
    "slideshow": {
     "slide_type": "fragment"
    }
   },
   "source": [
    "- We'll start by assuming that the model is true."
   ]
  },
  {
   "cell_type": "markdown",
   "metadata": {
    "slideshow": {
     "slide_type": "fragment"
    }
   },
   "source": [
    "- We'll generate many jury panels using this assumption."
   ]
  },
  {
   "cell_type": "markdown",
   "metadata": {
    "slideshow": {
     "slide_type": "fragment"
    }
   },
   "source": [
    "- We'll count the number of Black men in each simulated jury panel to see how likely it is for a random panel to contain 8 or fewer Black men.\n",
    "    - If we see 8 or fewer Black men often, then the model seems reasonable.\n",
    "    - If we rarely see 8 or fewer Black men, then the model may not be reasonable. "
   ]
  },
  {
   "cell_type": "markdown",
   "metadata": {
    "slideshow": {
     "slide_type": "slide"
    }
   },
   "source": [
    "### Simulating statistics\n",
    "\n",
    "Recall, a *statistic* is a number calculated from a sample.\n",
    "\n",
    "Our plan:"
   ]
  },
  {
   "cell_type": "markdown",
   "metadata": {
    "slideshow": {
     "slide_type": "fragment"
    }
   },
   "source": [
    "1. Run an experiment once to generate one value of our chosen statistic.\n",
    "    - In this case, sample 100 people randomly from a population that is 26% Black, and count **the number of Black men (statistic)**."
   ]
  },
  {
   "cell_type": "markdown",
   "metadata": {
    "slideshow": {
     "slide_type": "fragment"
    }
   },
   "source": [
    "2. Run the experiment many times, generating many values of the statistic, and store these statistics in an array."
   ]
  },
  {
   "cell_type": "markdown",
   "metadata": {
    "slideshow": {
     "slide_type": "fragment"
    }
   },
   "source": [
    "3. Visualize the resulting **empirical distribution of the statistic**."
   ]
  },
  {
   "cell_type": "markdown",
   "metadata": {
    "slideshow": {
     "slide_type": "slide"
    }
   },
   "source": [
    "### Step 1 – Running the experiment once"
   ]
  },
  {
   "cell_type": "markdown",
   "metadata": {
    "slideshow": {
     "slide_type": "fragment"
    }
   },
   "source": [
    "- How do we randomly sample a jury panel? \n",
    "    - `np.random.choice` won't help us, because we don't know how large the eligible population is."
   ]
  },
  {
   "cell_type": "markdown",
   "metadata": {
    "slideshow": {
     "slide_type": "fragment"
    }
   },
   "source": [
    "- The function `np.random.multinomial` helps us sample at random from a **categorical distribution**."
   ]
  },
  {
   "cell_type": "markdown",
   "metadata": {
    "slideshow": {
     "slide_type": "fragment"
    }
   },
   "source": [
    "```py\n",
    "np.random.multinomial(sample_size, pop_distribution)\n",
    "```"
   ]
  },
  {
   "cell_type": "markdown",
   "metadata": {
    "slideshow": {
     "slide_type": "fragment"
    }
   },
   "source": [
    "- `np.random.multinomial` samples at random from the population, **with replacement**, and returns a random array containing counts in each category.\n",
    "    - `pop_distribution` needs to be an array containing the probabilities of each category."
   ]
  },
  {
   "cell_type": "markdown",
   "metadata": {
    "slideshow": {
     "slide_type": "slide"
    }
   },
   "source": [
    "**Aside: Example usage of `np.random.multinomial`**\n",
    "\n",
    "On Halloween 👻, you trick-or-treated at 35 houses, each of which had an identical candy box, containing:\n",
    "- 30% Starbursts.\n",
    "- 30% Sour Patch Kids.\n",
    "- 40% Twix.\n",
    "\n",
    "At each house, you selected one candy blindly from the candy box.\n",
    "\n",
    "To simulate the act of going to 35 houses, we can use `np.random.multinomial`:"
   ]
  },
  {
   "cell_type": "code",
   "execution_count": null,
   "metadata": {},
   "outputs": [],
   "source": [
    "np.random.multinomial(35, [0.3, 0.3, 0.4])"
   ]
  },
  {
   "cell_type": "markdown",
   "metadata": {
    "slideshow": {
     "slide_type": "slide"
    }
   },
   "source": [
    "### Step 1 – Running the experiment once"
   ]
  },
  {
   "cell_type": "markdown",
   "metadata": {},
   "source": [
    "In our case, a randomly selected member of our population is Black with probability 0.26 and not Black with probability 1 - 0.26 = 0.74."
   ]
  },
  {
   "cell_type": "code",
   "execution_count": null,
   "metadata": {},
   "outputs": [],
   "source": [
    "demographics = [0.26, 0.74]"
   ]
  },
  {
   "cell_type": "markdown",
   "metadata": {},
   "source": [
    "Each time we run the following cell, we'll get a new random sample of 100 people from this population.\n",
    "- The first element of the resulting array is the number of Black men in the sample.\n",
    "- The second element is the number of non-Black men in the sample."
   ]
  },
  {
   "cell_type": "code",
   "execution_count": null,
   "metadata": {},
   "outputs": [],
   "source": [
    "np.random.multinomial(100, demographics)"
   ]
  },
  {
   "cell_type": "markdown",
   "metadata": {
    "slideshow": {
     "slide_type": "slide"
    }
   },
   "source": [
    "### Step 1 – Running the experiment once\n",
    "\n",
    "We also need to calculate the statistic, which in this case is the number of Black men in the random sample of 100."
   ]
  },
  {
   "cell_type": "code",
   "execution_count": null,
   "metadata": {},
   "outputs": [],
   "source": [
    "np.random.multinomial(100, demographics)[0]"
   ]
  },
  {
   "cell_type": "markdown",
   "metadata": {
    "slideshow": {
     "slide_type": "slide"
    }
   },
   "source": [
    "### Step 2 – Repeat the experiment many times\n",
    "\n",
    "* Let's run 10,000 simulations.\n",
    "* We'll keep track of the number of Black men in each simulated jury panel in the array `counts`."
   ]
  },
  {
   "cell_type": "code",
   "execution_count": null,
   "metadata": {},
   "outputs": [],
   "source": [
    "counts = np.array([])\n",
    "\n",
    "for i in np.arange(10000):\n",
    "    new_count = np.random.multinomial(100, demographics)[0]\n",
    "    counts = np.append(counts, new_count)\n",
    "    \n",
    "counts"
   ]
  },
  {
   "cell_type": "markdown",
   "metadata": {
    "slideshow": {
     "slide_type": "slide"
    }
   },
   "source": [
    "### Step 3 – Visualize the resulting distribution\n",
    "\n",
    "Was a jury panel with 8 Black men suspiciously unusual?"
   ]
  },
  {
   "cell_type": "code",
   "execution_count": null,
   "metadata": {},
   "outputs": [],
   "source": [
    "(bpd.DataFrame().assign(count_black_men=counts)\n",
    "                .plot(kind='hist', bins = np.arange(9.5, 45, 1), \n",
    "                      density=True, ec='w', figsize=(10, 5),\n",
    "                      title='Empiricial Distribution of the Number of Black Men in Simulated Jury Panels of Size 100'));\n",
    "observed_count = 8\n",
    "plt.axvline(observed_count, color='black', linewidth=4, label='Observed Number of Black Men in Actual Jury Panel')\n",
    "plt.legend();"
   ]
  },
  {
   "cell_type": "code",
   "execution_count": null,
   "metadata": {},
   "outputs": [],
   "source": [
    "# In 10,000 random experiments, the panel with the fewest Black men had how many?\n",
    "counts.min()"
   ]
  },
  {
   "cell_type": "markdown",
   "metadata": {
    "slideshow": {
     "slide_type": "slide"
    }
   },
   "source": [
    "### Conclusion\n",
    "\n",
    "- Our simulation shows that there's essentially no chance that a random sample of 100 men drawn from a population in which 26% of men are Black will contain 8 or fewer Black men.\n",
    "- As a result, it seems that the model we proposed – that the jury panel was drawn at random from the eligible population – is flawed.\n",
    "- There were likely factors **other than chance** that explain why there were only 8 Black men on the jury panel."
   ]
  },
  {
   "cell_type": "markdown",
   "metadata": {
    "slideshow": {
     "slide_type": "slide"
    }
   },
   "source": [
    "## Example: Is our coin fair?"
   ]
  },
  {
   "cell_type": "markdown",
   "metadata": {
    "slideshow": {
     "slide_type": "slide"
    }
   },
   "source": [
    "### Example: Is our coin fair?\n",
    "\n",
    "Let's suppose we find a coin on the ground and we aren't sure whether it's a fair coin.\n",
    "\n",
    "Out of curiosity (and boredom), we flip it 400 times."
   ]
  },
  {
   "cell_type": "code",
   "execution_count": null,
   "metadata": {
    "slideshow": {
     "slide_type": "fragment"
    }
   },
   "outputs": [],
   "source": [
    "flips_400 = bpd.read_csv('data/flips-400.csv')\n",
    "flips_400"
   ]
  },
  {
   "cell_type": "code",
   "execution_count": null,
   "metadata": {},
   "outputs": [],
   "source": [
    "flips_400.groupby('outcome').count()"
   ]
  },
  {
   "attachments": {},
   "cell_type": "markdown",
   "metadata": {
    "slideshow": {
     "slide_type": "fragment"
    }
   },
   "source": [
    "- **Question**: Does our coin look like a fair coin, or not?<br>\n"
   ]
  },
  {
   "cell_type": "markdown",
   "metadata": {
    "slideshow": {
     "slide_type": "fragment"
    }
   },
   "source": [
    "- This question is posed similarly to the question \"were jury panels selected at random from the eligible population?\""
   ]
  },
  {
   "cell_type": "markdown",
   "metadata": {
    "slideshow": {
     "slide_type": "slide"
    }
   },
   "source": [
    "### Hypothesis tests"
   ]
  },
  {
   "cell_type": "markdown",
   "metadata": {
    "slideshow": {
     "slide_type": "fragment"
    }
   },
   "source": [
    "- In the examples we've seen so far, our goal has been to **choose between two views of the world, based on data in a sample**.<br>\n",
    "<small markdown=\"1\">\n",
    "\n",
    "    - \"This jury panel was selected at random\" or \"this jury panel was not selected at random, since there weren't enough Black men on it.\"\n",
    "    - \"This coin is fair\" or \"this coin is not fair.\"\n",
    "    \n",
    "</small>"
   ]
  },
  {
   "cell_type": "markdown",
   "metadata": {
    "slideshow": {
     "slide_type": "fragment"
    }
   },
   "source": [
    "- A **hypothesis test** chooses between two views of how data were generated, based on data in a sample."
   ]
  },
  {
   "cell_type": "markdown",
   "metadata": {
    "slideshow": {
     "slide_type": "fragment"
    }
   },
   "source": [
    "- The views are called **hypotheses**."
   ]
  },
  {
   "cell_type": "markdown",
   "metadata": {
    "slideshow": {
     "slide_type": "fragment"
    }
   },
   "source": [
    "- The test picks the hypothesis that is *better* supported by the observed data; it doesn't guarantee that either hypothesis is correct."
   ]
  },
  {
   "cell_type": "markdown",
   "metadata": {
    "slideshow": {
     "slide_type": "slide"
    }
   },
   "source": [
    "### Null and alternative hypotheses"
   ]
  },
  {
   "cell_type": "markdown",
   "metadata": {
    "slideshow": {
     "slide_type": "fragment"
    }
   },
   "source": [
    "- In our current example, our two hypotheses are \"this coin is fair\" and \"this coin is not fair.\""
   ]
  },
  {
   "cell_type": "markdown",
   "metadata": {
    "slideshow": {
     "slide_type": "fragment"
    }
   },
   "source": [
    "- In a hypothesis test:\n",
    "    - One of the hypotheses needs to be a well-defined probability model about how the data was generated, so that we can use it for simulation. This hypothesis is called the **null hypothesis**.\n",
    "    - The **alternative hypothesis**, then, is a different view about how the data was generated."
   ]
  },
  {
   "cell_type": "markdown",
   "metadata": {
    "slideshow": {
     "slide_type": "fragment"
    }
   },
   "source": [
    "- We can simulate `n` flips of a fair coin using `np.random.multinomial(n, [0.5, 0.5])`, but we can't simulate `n` flips of an unfair coin.<br>\n",
    "    <small>What does \"unfair\" mean? Does it flip heads with probability 0.51? 0.03?</small>"
   ]
  },
  {
   "cell_type": "markdown",
   "metadata": {
    "slideshow": {
     "slide_type": "fragment"
    }
   },
   "source": [
    "- As such, \"this coin is fair\" is **null hypothesis**, and \"this coin is not fair\" is our **alternative hypothesis**."
   ]
  },
  {
   "cell_type": "markdown",
   "metadata": {
    "slideshow": {
     "slide_type": "slide"
    }
   },
   "source": [
    "### Test statistics"
   ]
  },
  {
   "cell_type": "markdown",
   "metadata": {
    "slideshow": {
     "slide_type": "fragment"
    }
   },
   "source": [
    "- Once we've established our null and alternative hypotheses, we'll start by assuming the null hypothesis is true."
   ]
  },
  {
   "cell_type": "markdown",
   "metadata": {
    "slideshow": {
     "slide_type": "fragment"
    }
   },
   "source": [
    "- Then, repeatedly, we'll generate samples under the assumption the null hypothesis is true (i.e. \"under the null\").<br>\n",
    "<small>In the jury panel example, we repeatedly drew samples from a population that was 26% Black. In our current example, we'll repeatedly flip a fair coin 400 times.</small>"
   ]
  },
  {
   "cell_type": "markdown",
   "metadata": {
    "slideshow": {
     "slide_type": "fragment"
    }
   },
   "source": [
    "- For each sample, we'll calculate a single number – that is, a statistic.<br>\n",
    "<small>In the jury panel example, this was the number of Black men. In our current example, a reasonable choice is the <b>number of heads</b>.</small>"
   ]
  },
  {
   "cell_type": "markdown",
   "metadata": {
    "slideshow": {
     "slide_type": "fragment"
    }
   },
   "source": [
    "- This single number is called the **test statistic** since we use it when \"testing\" which viewpoint the data better supports.<br>\n",
    "<small>Think of the test statistic a number you write down each time you perform an experiment.</small>"
   ]
  },
  {
   "cell_type": "markdown",
   "metadata": {
    "slideshow": {
     "slide_type": "fragment"
    }
   },
   "source": [
    "- The test statistic evaluated on our observed data is called the **observed statistic**.<br>\n",
    "<small>In our current example, the observed statistic is 188.</small>"
   ]
  },
  {
   "cell_type": "markdown",
   "metadata": {
    "slideshow": {
     "slide_type": "fragment"
    }
   },
   "source": [
    "- Our hypothesis test boils down to checking **whether our observed statistic is a \"typical value\" in the distribution of our test statistic.**"
   ]
  },
  {
   "cell_type": "markdown",
   "metadata": {
    "slideshow": {
     "slide_type": "slide"
    }
   },
   "source": [
    "### Simulating under the null"
   ]
  },
  {
   "cell_type": "markdown",
   "metadata": {
    "slideshow": {
     "slide_type": "fragment"
    }
   },
   "source": [
    "- Since our null hypothesis is \"this coin is fair\", we'll repeatedly flip a fair coin 400 times."
   ]
  },
  {
   "cell_type": "markdown",
   "metadata": {
    "slideshow": {
     "slide_type": "fragment"
    }
   },
   "source": [
    "- Since our test statistic is the **number of heads**, in each set of 400 flips, we'll count the number of heads."
   ]
  },
  {
   "cell_type": "markdown",
   "metadata": {
    "slideshow": {
     "slide_type": "fragment"
    }
   },
   "source": [
    "- Doing this will give us an **empirical distribution of our test statistic**."
   ]
  },
  {
   "cell_type": "code",
   "execution_count": null,
   "metadata": {},
   "outputs": [],
   "source": [
    "# Computes a single simulated test statistic.\n",
    "np.random.multinomial(400, [0.5, 0.5])[0]"
   ]
  },
  {
   "cell_type": "code",
   "execution_count": null,
   "metadata": {},
   "outputs": [],
   "source": [
    "# Computes 10,000 simulated test statistics.\n",
    "\n",
    "results = np.array([])\n",
    "for i in np.arange(10000):\n",
    "    result = np.random.multinomial(400, [0.5, 0.5])[0]\n",
    "    results = np.append(results, result)\n",
    "    \n",
    "results"
   ]
  },
  {
   "cell_type": "markdown",
   "metadata": {
    "slideshow": {
     "slide_type": "slide"
    }
   },
   "source": [
    "### Visualizing the empirical distribution of the test statistic\n",
    "\n",
    "Let's visualize the empirical distribution of the test statistic $\\text{number of heads}$."
   ]
  },
  {
   "cell_type": "code",
   "execution_count": null,
   "metadata": {},
   "outputs": [],
   "source": [
    "bpd.DataFrame().assign(results=results).plot(kind='hist', bins=np.arange(160, 240, 4), \n",
    "                                             density=True, ec='w', figsize=(10, 5),\n",
    "                                             title='Empirical Distribution of the Number of Heads in 400 Flips of a Fair Coin');\n",
    "plt.legend();"
   ]
  },
  {
   "cell_type": "markdown",
   "metadata": {
    "slideshow": {
     "slide_type": "fragment"
    }
   },
   "source": [
    "If we observed close to 200 heads, we'd think our coin is fair. \n",
    "\n",
    "There are two cases in which we'd think our coin is unfair:"
   ]
  },
  {
   "cell_type": "markdown",
   "metadata": {
    "slideshow": {
     "slide_type": "fragment"
    }
   },
   "source": [
    "- If we observed lots of heads, e.g. 225."
   ]
  },
  {
   "cell_type": "markdown",
   "metadata": {
    "slideshow": {
     "slide_type": "fragment"
    }
   },
   "source": [
    "- If we observed very few heads, e.g. 172."
   ]
  },
  {
   "cell_type": "markdown",
   "metadata": {
    "slideshow": {
     "slide_type": "fragment"
    }
   },
   "source": [
    "This means that the histogram above is divided into three regions, where two of them mean the same thing (we think our coin is unfair).\n",
    "\n",
    "It would be a bit simpler if we had a histogram that was divided into just two regions. How do we create such a histogram?\n",
    "\n",
    "<center><img src=\"images/folding.png\" width=1200></center>"
   ]
  },
  {
   "cell_type": "markdown",
   "metadata": {
    "slideshow": {
     "slide_type": "slide"
    }
   },
   "source": [
    "### Choosing a test statistic"
   ]
  },
  {
   "cell_type": "markdown",
   "metadata": {
    "slideshow": {
     "slide_type": "fragment"
    }
   },
   "source": [
    "- We'd like our test statistic to be such that:\n",
    "    - Large observed values side with one hypothesis.\n",
    "    - Small observed values side with the other hypothesis."
   ]
  },
  {
   "cell_type": "markdown",
   "metadata": {
    "slideshow": {
     "slide_type": "fragment"
    }
   },
   "source": [
    "- In this case, our statistic should capture how far our number of heads is from that of a fair coin."
   ]
  },
  {
   "cell_type": "markdown",
   "metadata": {
    "slideshow": {
     "slide_type": "fragment"
    }
   },
   "source": [
    "- One idea: $| \\text{number of heads} - 200 |$.\n",
    "    - If we use this as our test statistic, the observed statistic is $| 188 - 200 | = 12$.\n",
    "    - By simulating, we can quantify whether 12 is a reasonable value of the test statistic, or if it's larger than we'd expect from a fair coin."
   ]
  },
  {
   "cell_type": "markdown",
   "metadata": {
    "slideshow": {
     "slide_type": "slide"
    }
   },
   "source": [
    "### Simulating under the null, again"
   ]
  },
  {
   "cell_type": "markdown",
   "metadata": {
    "slideshow": {
     "slide_type": "fragment"
    }
   },
   "source": [
    "Let's define a function that computes a single value of our test statistic. We'll do this often moving forward."
   ]
  },
  {
   "cell_type": "code",
   "execution_count": null,
   "metadata": {},
   "outputs": [],
   "source": [
    "def num_heads_from_200(arr):\n",
    "    return abs(arr[0] - 200)\n",
    "\n",
    "num_heads_from_200([188, 212])"
   ]
  },
  {
   "cell_type": "markdown",
   "metadata": {
    "slideshow": {
     "slide_type": "fragment"
    }
   },
   "source": [
    "Now, we'll repeat the act of flipping a fair coin 10,000 times again. The only difference is the test statistic we'll compute each time."
   ]
  },
  {
   "cell_type": "code",
   "execution_count": null,
   "metadata": {},
   "outputs": [],
   "source": [
    "results = np.array([])\n",
    "for i in np.arange(10000):\n",
    "    result = num_heads_from_200(np.random.multinomial(400, [0.5, 0.5]))\n",
    "    results = np.append(results, result)\n",
    "    \n",
    "results"
   ]
  },
  {
   "cell_type": "markdown",
   "metadata": {
    "slideshow": {
     "slide_type": "slide"
    }
   },
   "source": [
    "### Visualizing the empirical distribution of the test statistic, again\n",
    "\n",
    "Let's visualize the empirical distribution of our **new** test statistic, $| \\text{number of heads} - 200 |$."
   ]
  },
  {
   "cell_type": "code",
   "execution_count": null,
   "metadata": {},
   "outputs": [],
   "source": [
    "bpd.DataFrame().assign(results=results).plot(kind='hist', bins=np.arange(0, 60, 4), \n",
    "                                             density=True, ec='w', figsize=(10, 5),\n",
    "                                             title=r'Empirical Distribution of | Num Heads - 200 | in 400 Flips of a Fair Coin');\n",
    "plt.axvline(12, color='black', linewidth=4, label='observed statistic (12)')\n",
    "plt.legend();"
   ]
  },
  {
   "cell_type": "markdown",
   "metadata": {},
   "source": [
    "In black, we've drawn our observed statistic, 12. Does 12 seem like a reasonable value of the test statistic – that is, how rare was it to see a test statistic of 12 or larger in our simulations?"
   ]
  },
  {
   "cell_type": "markdown",
   "metadata": {
    "slideshow": {
     "slide_type": "slide"
    }
   },
   "source": [
    "### Drawing a conclusion"
   ]
  },
  {
   "cell_type": "markdown",
   "metadata": {
    "slideshow": {
     "slide_type": "fragment"
    }
   },
   "source": [
    "- It's not uncommon for the test statistic to be 12, or even higher, when flipping a fair coin 400 times. So it looks like our observed coin flips could have come from a fair coin."
   ]
  },
  {
   "cell_type": "markdown",
   "metadata": {
    "slideshow": {
     "slide_type": "fragment"
    }
   },
   "source": [
    "- We are *not* saying that the coin is definitely fair, just that it's reasonably plausible that the coin is fair.\n"
   ]
  },
  {
   "cell_type": "markdown",
   "metadata": {
    "slideshow": {
     "slide_type": "fragment"
    }
   },
   "source": [
    "- More generally, if we frequently see values in the empirical distribution of the test statistic that are as or more extreme than our observed statistic, the null hypothesis seems plausible. In this case, we **fail to reject** the null hypothesis.\n"
   ]
  },
  {
   "cell_type": "markdown",
   "metadata": {
    "slideshow": {
     "slide_type": "fragment"
    }
   },
   "source": [
    "- If we rarely see values as extreme as our observed statistic, we **reject** the null hypothesis."
   ]
  },
  {
   "cell_type": "markdown",
   "metadata": {
    "slideshow": {
     "slide_type": "slide"
    }
   },
   "source": [
    "### Our choice of test statistic depends on our alternative hypothesis!"
   ]
  },
  {
   "cell_type": "markdown",
   "metadata": {
    "slideshow": {
     "slide_type": "fragment"
    }
   },
   "source": [
    "- Suppose that our alternative hypothesis is now \"this coin is biased **towards tails**.\""
   ]
  },
  {
   "cell_type": "markdown",
   "metadata": {
    "slideshow": {
     "slide_type": "fragment"
    }
   },
   "source": [
    "- Now, the test statistic $| \\text{number of heads} - 200 |$ **won't work**. Why not?"
   ]
  },
  {
   "cell_type": "markdown",
   "metadata": {
    "slideshow": {
     "slide_type": "fragment"
    }
   },
   "source": [
    "- In our current example, the value of the statistic $| \\text{number of heads} - 200 |$ is 12. However, given just this information, we can't tell whether we saw:\n",
    "    - 188 heads (212 tails), which would be evidence that the coin is biased towards tails.\n",
    "    - 212 heads (188 tails), which would not be evidence that the coin is biased towards tails."
   ]
  },
  {
   "cell_type": "markdown",
   "metadata": {
    "slideshow": {
     "slide_type": "fragment"
    }
   },
   "source": [
    "- As such, with this alternative hypothesis, we need another test statistic."
   ]
  },
  {
   "cell_type": "markdown",
   "metadata": {
    "slideshow": {
     "slide_type": "fragment"
    }
   },
   "source": [
    "- Idea: $\\text{number of heads}$.\n",
    "    - Small observed values side with the alternative hypothesis (\"this coin is biased towards tails\").\n",
    "    - Large observed values side with the null hypothesis (\"this coin is fair\").\n",
    "    - We could also use $\\text{number of tails}$."
   ]
  },
  {
   "cell_type": "markdown",
   "metadata": {
    "slideshow": {
     "slide_type": "slide"
    }
   },
   "source": [
    "### Simulating under the null, one more time"
   ]
  },
  {
   "cell_type": "markdown",
   "metadata": {
    "slideshow": {
     "slide_type": "fragment"
    }
   },
   "source": [
    "Since we're using the number of heads as our test statistic again, our simulation code is the same as it was originally."
   ]
  },
  {
   "cell_type": "code",
   "execution_count": null,
   "metadata": {},
   "outputs": [],
   "source": [
    "results = np.array([])\n",
    "for i in np.arange(10000):\n",
    "    result = np.random.multinomial(400, [0.5, 0.5])[0]\n",
    "    results = np.append(results, result)\n",
    "    \n",
    "results"
   ]
  },
  {
   "cell_type": "markdown",
   "metadata": {
    "slideshow": {
     "slide_type": "slide"
    }
   },
   "source": [
    "### Visualizing the empirical distribution of the test statistic, one more time\n",
    "\n",
    "Let's visualize the empirical distribution of the test statistic $\\text{number of heads}$, one more time."
   ]
  },
  {
   "cell_type": "code",
   "execution_count": null,
   "metadata": {},
   "outputs": [],
   "source": [
    "bpd.DataFrame().assign(results=results).plot(kind='hist', bins=np.arange(160, 240, 4), \n",
    "                                             density=True, ec='w', figsize=(10, 5),\n",
    "                                             title='Empirical Distribution of the Number of Heads in 400 Flips of a Fair Coin');\n",
    "plt.axvline(188, color='black', linewidth=4, label='observed statistic (188)')\n",
    "plt.legend();"
   ]
  },
  {
   "cell_type": "markdown",
   "metadata": {
    "slideshow": {
     "slide_type": "fragment"
    }
   },
   "source": [
    "- We frequently saw 188 or fewer heads in 400 flips of a fair coin; our observation doesn't seem to be that rare."
   ]
  },
  {
   "cell_type": "markdown",
   "metadata": {
    "slideshow": {
     "slide_type": "fragment"
    }
   },
   "source": [
    "- As such, the null hypothesis seems plausible, so we **fail to reject** the null hypothesis."
   ]
  },
  {
   "cell_type": "markdown",
   "metadata": {
    "slideshow": {
     "slide_type": "slide"
    }
   },
   "source": [
    "### Questions to consider before choosing a test statistic"
   ]
  },
  {
   "cell_type": "markdown",
   "metadata": {
    "slideshow": {
     "slide_type": "fragment"
    }
   },
   "source": [
    "- **Key idea**: Our choice of test statistic depends on the pair of viewpoints we want to decide between."
   ]
  },
  {
   "cell_type": "markdown",
   "metadata": {
    "slideshow": {
     "slide_type": "fragment"
    }
   },
   "source": [
    "- Our test statistic should be such that **high observed values lean towards one hypothesis and low observed values lean towards the other**."
   ]
  },
  {
   "cell_type": "markdown",
   "metadata": {
    "slideshow": {
     "slide_type": "fragment"
    }
   },
   "source": [
    "- We will avoid test statistics where both high and low observed values lean towards one viewpoint and observed values in the middle lean towards the other.\n",
    "    - In other words, we will avoid \"two-sided\" tests.\n",
    "    - To do so, we can take an absolute value."
   ]
  },
  {
   "cell_type": "markdown",
   "metadata": {
    "slideshow": {
     "slide_type": "fragment"
    }
   },
   "source": [
    "- In our recent exploration, the null hypothesis was \"the coin is fair.\"\n",
    "    - When the alternative hypothesis was \"the coin is biased,\" the test statistic we chose was $$|\\text{number of heads} - 200 |.$$\n",
    "    - When the alternative hypothesis was \"the coin is biased towards tails,\" the test statistic we chose was $$\\text{number of heads}.$$"
   ]
  },
  {
   "cell_type": "markdown",
   "metadata": {
    "slideshow": {
     "slide_type": "slide"
    }
   },
   "source": [
    "### Summary\n",
    "\n",
    "- In assessing a model, we are choosing between one of two viewpoints, or **hypotheses**.\n",
    "    - The **null hypothesis** must be a well-defined probability model about how the data was generated.\n",
    "    - The **alternative hypothesis** can be any other viewpoint about how the data was generated.\n",
    "- To test a pair of hypotheses, we:\n",
    "    1. Simulate the experiment many times under the assumption that the null hypothesis is true.\n",
    "    1. Compute a **test statistic** on each of the simulated samples, as well as on the observed sample.\n",
    "    1. Look at the resulting empirical distribution of test statistics and see where the observed test statistic falls. If it seems like an atypical value (too large or too small), we reject the null hypothesis; otherwise, we fail to reject the null.\n",
    "- When selecting a test statistic, we want to choose a quantity that helps us distinguish between the two hypotheses, in such a way that large observed values favor one hypothesis and small observed values favor the other."
   ]
  },
  {
   "attachments": {},
   "cell_type": "markdown",
   "metadata": {},
   "source": [
    "## Question"
   ]
  },
  {
   "cell_type": "markdown",
   "metadata": {},
   "source": [
    "- **Question:** Where do we draw the line between rejecting the null and failing to reject the null? How many heads, exactly, is considered a small number of heads?"
   ]
  },
  {
   "cell_type": "code",
   "execution_count": null,
   "metadata": {},
   "outputs": [],
   "source": [
    "# Computes a single simulated test statistic.\n",
    "np.random.multinomial(400, [0.5, 0.5])[0]"
   ]
  },
  {
   "cell_type": "code",
   "execution_count": null,
   "metadata": {},
   "outputs": [],
   "source": [
    "# Computes 10,000 simulated test statistics.\n",
    "np.random.seed(8)\n",
    "results = np.array([])\n",
    "for i in np.arange(10000):\n",
    "    result = np.random.multinomial(400, [0.5, 0.5])[0]\n",
    "    results = np.append(results, result)\n",
    "    \n",
    "results"
   ]
  },
  {
   "cell_type": "markdown",
   "metadata": {},
   "source": [
    "### Visualizing the empirical distribution of the test statistic\n",
    "\n",
    "Let's visualize the empirical distribution of the test statistic $\\text{number of heads}$."
   ]
  },
  {
   "cell_type": "code",
   "execution_count": null,
   "metadata": {},
   "outputs": [],
   "source": [
    "bpd.DataFrame().assign(results=results).plot(kind='hist', bins=np.arange(160, 240, 4), \n",
    "                                             density=True, ec='w', figsize=(10, 5),\n",
    "                                             title='Empirical Distribution of the Number of Heads in 400 Flips of a Fair Coin');\n",
    "plt.legend();"
   ]
  },
  {
   "cell_type": "markdown",
   "metadata": {},
   "source": [
    "- Our hypothesis test boils down to checking **whether our observed statistic is a \"typical value\" in the distribution of our test statistic.**\n",
    "    - If we see a small number of heads, we'll **reject the null hypothesis** in favor of the alternative hypothesis, \"the coin is biased towards tails.\" \n",
    "    - Otherwise we'll **fail to reject the null hypothesis** because it's plausible that \"the coin is fair.\""
   ]
  },
  {
   "cell_type": "markdown",
   "metadata": {},
   "source": [
    "- **Question:** Where do we draw the line between rejecting the null and failing to reject the null? How many heads, exactly, is considered a small number of heads?"
   ]
  },
  {
   "cell_type": "markdown",
   "metadata": {},
   "source": [
    "### Determining a cutoff"
   ]
  },
  {
   "cell_type": "code",
   "execution_count": null,
   "metadata": {},
   "outputs": [],
   "source": [
    "bpd.DataFrame().assign(results=results).plot(kind='hist', bins=np.arange(160, 240, 4), \n",
    "                                             density=True, ec='w', figsize=(10, 5),\n",
    "                                             title='Empirical Distribution of the Number of Heads in 400 Flips of a Fair Coin');\n",
    "plt.legend();"
   ]
  },
  {
   "cell_type": "markdown",
   "metadata": {},
   "source": [
    "- The lower the number of heads we observe, the stronger the evidence for the alternative hypothesis, \"the coin is biased towards tails.\""
   ]
  },
  {
   "cell_type": "markdown",
   "metadata": {},
   "source": [
    "- If we were to observe, say, 170 heads, even though such a result *could* happen with a fair coin, seeing 170 heads from a fair coin is sufficiently rare that we'd think the coin was biased towards tails. "
   ]
  },
  {
   "cell_type": "markdown",
   "metadata": {},
   "source": [
    "- If we were to observe, say, 195 heads, such a result happens frequently enough from a fair coin that we would not have good reason to think the coin was unfair."
   ]
  },
  {
   "cell_type": "markdown",
   "metadata": {},
   "source": [
    "- Let's say an outcome is **sufficiently rare** if it falls in the lowest **five percent** of outcomes in our simulation under the assumptions of the null hypothesis.\n",
    "    - Five percent could be something else - five is just a nice round number. "
   ]
  },
  {
   "cell_type": "markdown",
   "metadata": {},
   "source": [
    "- We can determine the boundary between the lowest five percent of outcomes and the remaining outcomes using the concept of percentile."
   ]
  },
  {
   "cell_type": "code",
   "execution_count": null,
   "metadata": {},
   "outputs": [],
   "source": [
    "np.percentile(results, 5)"
   ]
  },
  {
   "cell_type": "code",
   "execution_count": null,
   "metadata": {},
   "outputs": [],
   "source": [
    "draw_cutoff(results)"
   ]
  },
  {
   "cell_type": "markdown",
   "metadata": {},
   "source": [
    "- Now we have a clear cutoff that tells us which hypothesis to side with.\n",
    "    - If we find a coin, flip it 400 times, and observe less than 184 heads, we'll side with \"the coin is biased towards tails.\"\n",
    "    - If we find a coin, flip it 400 times, and observe 184 heads or more, we'll side with \"the coin is fair.\""
   ]
  },
  {
   "cell_type": "markdown",
   "metadata": {},
   "source": [
    "### p-values"
   ]
  },
  {
   "cell_type": "markdown",
   "metadata": {},
   "source": [
    "- To quantify how rare our observed statistic is, under the null hypothesis, we can compute what’s called a **p-value**."
   ]
  },
  {
   "cell_type": "markdown",
   "metadata": {},
   "source": [
    "- The p-value is defined as the probability, under the null hypothesis, that the test statistic **is equal** to the value that was observed in the data **or is even further in the direction of the alternative**. <br>\n",
    "<small>Its formal name is the observed significance level.</small>"
   ]
  },
  {
   "cell_type": "markdown",
   "metadata": {},
   "source": [
    "- p-values correspond to the \"tail areas\" of a histogram, starting at the observed statistic."
   ]
  },
  {
   "cell_type": "code",
   "execution_count": null,
   "metadata": {},
   "outputs": [],
   "source": [
    "bpd.DataFrame().assign(results=results).plot(kind='hist', bins=np.arange(160, 240, 4), \n",
    "                                             density=True, ec='w', figsize=(10, 5),\n",
    "                                             title='Empirical Distribution of the Number of Heads in 400 Flips of a Fair Coin');\n",
    "plt.legend();"
   ]
  },
  {
   "cell_type": "markdown",
   "metadata": {},
   "source": [
    "- For example, it's extremely rare to flip a fair coin 400 times and see 170 heads or fewer."
   ]
  },
  {
   "cell_type": "code",
   "execution_count": null,
   "metadata": {},
   "outputs": [],
   "source": [
    "np.count_nonzero(results <= 170) / len(results)"
   ]
  },
  {
   "cell_type": "markdown",
   "metadata": {},
   "source": [
    "- But it's much less rare to flip a fair coin 400 times and see 195 heads or fewer."
   ]
  },
  {
   "cell_type": "code",
   "execution_count": null,
   "metadata": {},
   "outputs": [],
   "source": [
    "np.count_nonzero(results <= 195) / len(results)"
   ]
  },
  {
   "cell_type": "markdown",
   "metadata": {},
   "source": [
    "- The larger the p-value, the more likely our observation is, if the null hypothesis is true. Therefore, \n",
    "    - Larger p-values mean we should fail to reject the null.\n",
    "    - Smaller p-values mean we should reject the null."
   ]
  },
  {
   "cell_type": "markdown",
   "metadata": {},
   "source": [
    "### Conventions"
   ]
  },
  {
   "cell_type": "markdown",
   "metadata": {},
   "source": [
    "- If the p-value is sufficiently large, we say the data is **consistent** with the null hypothesis and so we \"**fail to reject the null hypothesis**\".\n",
    "    - We never say that we \"accept\" the null hypothesis! The null hypothesis may be plausible, but there are many other possible explanations for our data."
   ]
  },
  {
   "cell_type": "markdown",
   "metadata": {},
   "source": [
    "- If the p-value is below some cutoff, we say the data is **inconsistent** with the null hypothesis, and we **\"reject the null hypothesis\"**.\n",
    "    - If a p-value is less than 0.05, the result is said to be \"statistically significant\".\n",
    "    - If a p-value is less than 0.01, the result is said to be \"highly statistically significant\".\n",
    "    - These conventions are historical and completely arbitrary! (And controversial.)"
   ]
  },
  {
   "cell_type": "markdown",
   "metadata": {},
   "source": [
    "### Drawing a conclusion"
   ]
  },
  {
   "cell_type": "markdown",
   "metadata": {},
   "source": [
    "- Recall that we found a coin, flipped it 400 times, and saw 188 heads. This is the **observed statistic**."
   ]
  },
  {
   "cell_type": "code",
   "execution_count": null,
   "metadata": {},
   "outputs": [],
   "source": [
    "bpd.DataFrame().assign(results=results).plot(kind='hist', bins=np.arange(160, 240, 4), \n",
    "                                             density=True, ec='w', figsize=(10, 5),\n",
    "                                             title='Empirical Distribution of the Number of Heads in 400 Flips of a Fair Coin');\n",
    "plt.axvline(188, color='black', linewidth=4, label='observed statistic (188)')\n",
    "plt.legend();"
   ]
  },
  {
   "cell_type": "markdown",
   "metadata": {},
   "source": [
    "- How common is it to see 188 heads or fewer when we flip a fair coin 400 times? Let's calculate the p-value."
   ]
  },
  {
   "cell_type": "code",
   "execution_count": null,
   "metadata": {},
   "outputs": [],
   "source": [
    "np.count_nonzero(results <= 188) / len(results)"
   ]
  },
  {
   "cell_type": "markdown",
   "metadata": {},
   "source": [
    "- It happens about 12% of the time. It's not so rare. Since the p-value is at least 0.05, we **fail to reject** the null hypothesis at the standard 0.05 **significance level** and conclude that it's plausible that our coin is fair."
   ]
  },
  {
   "cell_type": "markdown",
   "metadata": {},
   "source": [
    "### Left or right? 👈👉"
   ]
  },
  {
   "cell_type": "markdown",
   "metadata": {},
   "source": [
    "- In this example, we calculated the p-value as the area in the **left** tail of the histogram."
   ]
  },
  {
   "cell_type": "markdown",
   "metadata": {},
   "source": [
    "- But other times, when large values of the observed statistic indicate the alternative hypothesis, the p-value corresponds to the area in the **right** tail. "
   ]
  },
  {
   "cell_type": "markdown",
   "metadata": {},
   "source": [
    "- In order to calculate a p-value, we have to know whether larger or smaller values correspond to the alternative hypothesis. "
   ]
  },
  {
   "cell_type": "markdown",
   "metadata": {},
   "source": [
    "- We always calculate a p-value with `>=` or `<=` because it includes the probability that the test statistic exactly equals the observed statistic."
   ]
  },
  {
   "cell_type": "markdown",
   "metadata": {},
   "source": [
    "## Example: Midterm exam scores"
   ]
  },
  {
   "cell_type": "markdown",
   "metadata": {},
   "source": [
    "### The problem"
   ]
  },
  {
   "cell_type": "markdown",
   "metadata": {},
   "source": [
    "- In Fall 2022, there were four sections of DSC 10 – A, B, C, and D."
   ]
  },
  {
   "cell_type": "markdown",
   "metadata": {},
   "source": [
    "- One of the four sections – the one taught by Suraj – had a much lower average than the other three sections.\n",
    "    - All midterms were graded by the same people, with the same rubrics."
   ]
  },
  {
   "cell_type": "code",
   "execution_count": null,
   "metadata": {},
   "outputs": [],
   "source": [
    "# Midterm scores from DSC 10, Fall 2022, slightly perturbed for anonymity.\n",
    "scores = bpd.read_csv('data/fa22-midterm-scores.csv')\n",
    "scores"
   ]
  },
  {
   "cell_type": "code",
   "execution_count": null,
   "metadata": {},
   "outputs": [],
   "source": [
    "scores.plot(kind='hist', density=True, figsize=(10, 5), ec='w', bins=np.arange(10, 85, 5), title='Distribution of Midterm Exam Scores in DSC 10');"
   ]
  },
  {
   "cell_type": "code",
   "execution_count": null,
   "metadata": {},
   "outputs": [],
   "source": [
    "# Total number of students who took the exam.\n",
    "scores.shape[0]"
   ]
  },
  {
   "cell_type": "code",
   "execution_count": null,
   "metadata": {},
   "outputs": [],
   "source": [
    "# Calculate the number of students in each section.\n",
    "scores.groupby('Section').count()"
   ]
  },
  {
   "cell_type": "code",
   "execution_count": null,
   "metadata": {},
   "outputs": [],
   "source": [
    "# Calculate the average midterm score in each section.\n",
    "scores.groupby('Section').mean()"
   ]
  },
  {
   "cell_type": "markdown",
   "metadata": {},
   "source": [
    "### Thought experiment 💭🧪"
   ]
  },
  {
   "cell_type": "markdown",
   "metadata": {},
   "source": [
    "- Suppose we _randomly_ place all 393 students into one of four sections and compute the average midterm score within each section. "
   ]
  },
  {
   "cell_type": "markdown",
   "metadata": {},
   "source": [
    "- One of the sections would _have to_ have a lower average score than the others (unless multiple are tied for the lowest).\n",
    "    - In any set of four numbers, one of them has to be the minimum!"
   ]
  },
  {
   "cell_type": "markdown",
   "metadata": {},
   "source": [
    "- But is Section C's average _lower_ than we'd expect due to chance? Let's perform a hypothesis test!"
   ]
  },
  {
   "cell_type": "markdown",
   "metadata": {},
   "source": [
    "### Suraj's defense"
   ]
  },
  {
   "cell_type": "markdown",
   "metadata": {},
   "source": [
    "- **Null Hypothesis:** Section C's scores are drawn randomly from the distribution of scores in the course overall. The observed difference between the average score in Section C and the average score in the course overall is due to random chance."
   ]
  },
  {
   "cell_type": "markdown",
   "metadata": {},
   "source": [
    "- **Alternative Hypothesis:** Section C's average score is too low to be explained by chance alone.\n",
    "\n",
    "\n"
   ]
  },
  {
   "cell_type": "markdown",
   "metadata": {},
   "source": [
    "### Does this sample look like it was drawn from this population?"
   ]
  },
  {
   "cell_type": "markdown",
   "metadata": {},
   "source": [
    "- This hypothesis test, like others we have seen, can be framed as a question of whether a certain sample (Suraj's section) appears to have been drawn randomly from a certain population (all students). "
   ]
  },
  {
   "cell_type": "markdown",
   "metadata": {},
   "source": [
    "- For the Robert Swain jury example, we asked if our sample of jury panelists looked like it was drawn from the population of eligible jurors."
   ]
  },
  {
   "cell_type": "markdown",
   "metadata": {},
   "source": [
    "- Even the fair coin example can be posed in this way. \n",
    "    - In this case, the population distribution is the uniform distribution (50% heads, 50% tails), and when we flip a coin, we are sampling from this distribution with replacement. \n",
    "    - We wanted to know if the sample of coin flips we observed looked like it came from this population, which represents a fair coin."
   ]
  },
  {
   "cell_type": "markdown",
   "metadata": {},
   "source": [
    "### What are the observed characteristics of Section C?"
   ]
  },
  {
   "cell_type": "code",
   "execution_count": null,
   "metadata": {},
   "outputs": [],
   "source": [
    "section_size = scores.groupby('Section').count().get('Score').loc['C']\n",
    "observed_avg = scores.groupby('Section').mean().get('Score').loc['C']\n",
    "print(f'Section C had {section_size} students and an average midterm score of {observed_avg}.')"
   ]
  },
  {
   "cell_type": "markdown",
   "metadata": {},
   "source": [
    "### Simulating under the null hypothesis"
   ]
  },
  {
   "cell_type": "markdown",
   "metadata": {},
   "source": [
    "- Model: There is no significant difference between the exam scores in different sections. Section C had a lower average purely due to chance.\n",
    "    - To simulate: sample 108 students uniformly at random without replacement from the class. "
   ]
  },
  {
   "cell_type": "markdown",
   "metadata": {},
   "source": [
    "- Test statistic: the average midterm score of a section.\n",
    "    - The observed statistic is the average midterm score of Section C (about 46.17)."
   ]
  },
  {
   "cell_type": "code",
   "execution_count": null,
   "metadata": {},
   "outputs": [],
   "source": [
    "# Sample 108 students from the class, independent of section, \n",
    "# and compute the average score.\n",
    "scores.sample(int(section_size), replace=False).get('Score').mean()"
   ]
  },
  {
   "cell_type": "code",
   "execution_count": null,
   "metadata": {},
   "outputs": [],
   "source": [
    "averages = np.array([])\n",
    "repetitions = 1000\n",
    "for i in np.arange(repetitions):\n",
    "    random_sample = scores.sample(int(section_size), replace=False)\n",
    "    new_average = random_sample.get('Score').mean()\n",
    "    averages = np.append(averages, new_average)\n",
    "    \n",
    "averages"
   ]
  },
  {
   "cell_type": "markdown",
   "metadata": {},
   "source": [
    "### What's the verdict? 🤔"
   ]
  },
  {
   "cell_type": "code",
   "execution_count": null,
   "metadata": {},
   "outputs": [],
   "source": [
    "observed_avg"
   ]
  },
  {
   "cell_type": "code",
   "execution_count": null,
   "metadata": {},
   "outputs": [],
   "source": [
    "bpd.DataFrame().assign(RandomSampleAverage=averages).plot(kind='hist', bins=20, \n",
    "                                                          density=True, ec='w', figsize=(10, 5), \n",
    "                                                          title='Empirical Distribution of Midterm Averages for 108 Randomly Selected Students')\n",
    "plt.axvline(observed_avg, color='black', linewidth=4, label='observed statistic')\n",
    "plt.legend();"
   ]
  },
  {
   "cell_type": "code",
   "execution_count": null,
   "metadata": {},
   "outputs": [],
   "source": [
    "# p-value\n",
    "np.count_nonzero(averages <= observed_avg) / repetitions"
   ]
  },
  {
   "cell_type": "markdown",
   "metadata": {},
   "source": [
    "The p-value is below the standard cutoff of 0.05, and even below the 0.01 cutoff for being \"highly statistically significant\" so we **reject the null hypothesis.** It's not looking good for you, Suraj! "
   ]
  },
  {
   "cell_type": "markdown",
   "metadata": {},
   "source": []
  }
 ],
 "metadata": {
  "kernelspec": {
   "display_name": "Python 3",
   "language": "python",
   "name": "python3"
  },
  "language_info": {
   "codemirror_mode": {
    "name": "ipython",
    "version": 3
   },
   "file_extension": ".py",
   "mimetype": "text/x-python",
   "name": "python",
   "nbconvert_exporter": "python",
   "pygments_lexer": "ipython3",
   "version": "3.9.6"
  },
  "livereveal": {
   "scroll": true,
   "transition": "none"
  },
  "rise": {
   "enable_chalkboard": true
  },
  "vscode": {
   "interpreter": {
    "hash": "31f2aee4e71d21fbe5cf8b01ff0e069b9275f58929596ceb00d14d90e3e16cd6"
   }
  }
 },
 "nbformat": 4,
 "nbformat_minor": 4
}
